{
 "cells": [
  {
   "cell_type": "markdown",
   "id": "808bcb63",
   "metadata": {
    "pycharm": {
     "name": "#%% md\n"
    }
   },
   "source": [
    "# Imports"
   ]
  },
  {
   "cell_type": "code",
   "execution_count": 4,
   "id": "eb46fb5d",
   "metadata": {
    "tags": []
   },
   "outputs": [],
   "source": [
    "import pandas as pd\n",
    "import matplotlib.pyplot as plt\n",
    "import warnings\n",
    "import matplotlib\n",
    "import researchpy as rp\n",
    "import importlib\n",
    "import analysis as an\n",
    "warnings.filterwarnings('ignore')"
   ]
  },
  {
   "cell_type": "code",
   "execution_count": 5,
   "id": "1ab6a860",
   "metadata": {
    "pycharm": {
     "name": "#%%\n"
    }
   },
   "outputs": [],
   "source": [
    "importlib.reload(an);"
   ]
  },
  {
   "cell_type": "code",
   "execution_count": 6,
   "id": "9cafebba-aae3-4bb8-af5c-c25d8e68dba8",
   "metadata": {
    "tags": []
   },
   "outputs": [],
   "source": [
    "listNames = ['Khulan','Adrian','Mathilde','Virgil','FannyM','Margaux','JL','Hélène','Luca','Brice','ThiMai','Ani','Romain','StephB']\n",
    "listNames = []\n",
    "numSubjects=14\n",
    "for i in range(1,numSubjects+1):\n",
    "    listNames.append('Subject'+str(i))\n",
    "\n",
    "Software= ['Autocad', 'SketchUp', 'Rhino', 'Grasshopper', 'Revit',\n",
    "           'Archicad', 'Average', 'Modeling', 'Bim', 'Rhino+GH']\n",
    "niv=['No experience','Novice','Limited','Basic','Advanced','Expert']\n",
    "keeplist =['Time','Iterations / Minute','Total','CV']"
   ]
  },
  {
   "cell_type": "code",
   "execution_count": 7,
   "id": "11867122",
   "metadata": {
    "pycharm": {
     "name": "#%%\n"
    }
   },
   "outputs": [],
   "source": [
    "iterations_df=pd.read_csv('input/iterations.csv',encoding='UTF-16BE',sep=\";\")\n",
    "unique_df=pd.read_csv('input/unique.csv',encoding='UTF-16BE',sep=\";\")\n",
    "phase_df=pd.read_csv('input/phase.csv',encoding='UTF-16BE',sep=\";\")\n",
    "time_iterations_df=pd.read_csv('input/time_iterations.csv',encoding='UTF-8',sep=\";\")\n",
    "time_unique_df=pd.read_csv('input/time_unique.csv',encoding='UTF-8',sep=\";\")\n",
    "time_phases_df=pd.read_csv('input/time_phases.csv',encoding='UTF-8',sep=\";\")\n",
    "feedback_df=pd.read_csv('input/feedback.csv',encoding='UTF-16BE',sep=\";\")\n",
    "iterations_df.set_index(['Name','Level','Order','Type','Object'],inplace=True)\n",
    "unique_df.set_index(['Name','Level','Order','Type','Object'],inplace=True)\n",
    "phase_df.set_index(['Name','Level','Order','Type','Object'],inplace=True)\n",
    "time_iterations_df.set_index(['Name','Level','Order','Type','Object'],inplace=True)\n",
    "time_phases_df.set_index(['Name','Level','Order','Type','Object'],inplace=True)\n",
    "time_unique_df.set_index(['Name','Level','Order','Type','Object'],inplace=True)"
   ]
  },
  {
   "cell_type": "code",
   "execution_count": 7,
   "id": "a1c6d200",
   "metadata": {
    "pycharm": {
     "name": "#%%\n"
    }
   },
   "outputs": [],
   "source": []
  },
  {
   "cell_type": "markdown",
   "id": "8b2ba7ec",
   "metadata": {},
   "source": []
  },
  {
   "cell_type": "code",
   "execution_count": 8,
   "id": "0b67f8a7",
   "metadata": {
    "pycharm": {
     "name": "#%%\n"
    }
   },
   "outputs": [],
   "source": [
    "matplotlib.rcParams['axes.autolimit_mode'] = 'round_numbers'\n",
    "matplotlib.rcParams['axes.xmargin'] = 0\n",
    "matplotlib.rcParams['axes.ymargin'] = 0.1"
   ]
  },
  {
   "cell_type": "markdown",
   "id": "16a89ea3",
   "metadata": {},
   "source": [
    "# Survey"
   ]
  },
  {
   "cell_type": "code",
   "execution_count": 9,
   "id": "d4ed32eb",
   "metadata": {
    "pycharm": {
     "name": "#%%\n"
    }
   },
   "outputs": [],
   "source": [
    "for sw in ['Average']:\n",
    "    an.feedback(feedback_df,4,sw,'A')\n",
    "    plt.savefig('output/Survey-A_by-'+sw+'_Level.png',bbox_inches='tight');\n",
    "    plt.close()"
   ]
  },
  {
   "cell_type": "code",
   "execution_count": 10,
   "id": "68a201c1",
   "metadata": {
    "pycharm": {
     "name": "#%%\n"
    }
   },
   "outputs": [],
   "source": [
    "for sw in Software:\n",
    "    an.feedback(feedback_df,4,sw,'B')\n",
    "    plt.savefig('output/Survey-B_by-'+sw+'_Level.png',bbox_inches='tight');\n",
    "    plt.close()"
   ]
  },
  {
   "cell_type": "code",
   "execution_count": 11,
   "id": "8ccd6298",
   "metadata": {
    "pycharm": {
     "name": "#%%\n"
    }
   },
   "outputs": [],
   "source": [
    "an.feedback(feedback_df,None,'Average','A', 'Type')\n",
    "plt.savefig('output/Survey-A_by-Type.png',bbox_inches='tight');\n",
    "plt.close()"
   ]
  },
  {
   "cell_type": "code",
   "execution_count": 12,
   "id": "9303165c",
   "metadata": {
    "pycharm": {
     "name": "#%%\n"
    }
   },
   "outputs": [],
   "source": [
    "an.feedback(feedback_df,None,'Average','B', 'Type')\n",
    "plt.savefig('output/Survey-B_by-Type.png',bbox_inches='tight');\n",
    "plt.close()"
   ]
  },
  {
   "cell_type": "code",
   "execution_count": 13,
   "id": "7029890a",
   "metadata": {
    "pycharm": {
     "name": "#%%\n"
    }
   },
   "outputs": [],
   "source": [
    "an.feedback(feedback_df,None,'Average','A', 'Order')\n",
    "plt.savefig('output/Survey-A_by-Order.png',bbox_inches='tight');\n",
    "plt.close()"
   ]
  },
  {
   "cell_type": "code",
   "execution_count": 14,
   "id": "dba72b7b",
   "metadata": {
    "pycharm": {
     "name": "#%%\n"
    }
   },
   "outputs": [],
   "source": [
    "an.feedback(feedback_df,None,'Average','B', 'Order')\n",
    "plt.savefig('output/Survey-B_by-Order.png',bbox_inches='tight');\n",
    "plt.close()"
   ]
  },
  {
   "cell_type": "code",
   "execution_count": 15,
   "id": "eb18b587",
   "metadata": {
    "pycharm": {
     "name": "#%%\n"
    }
   },
   "outputs": [],
   "source": [
    "for sw in Software:\n",
    "    an.feedback(feedback_df,0,sw,'A')\n",
    "    plt.savefig('output/gh_Survey-A_by-'+sw+'_Level.png',bbox_inches='tight');\n",
    "    plt.close()\n",
    "an.feedback(feedback_df,0,'Average','A','Order')\n",
    "plt.savefig('output/gh_Survey-A_by-Order.png',bbox_inches='tight');\n",
    "plt.close()"
   ]
  },
  {
   "cell_type": "code",
   "execution_count": 16,
   "id": "f98bebbe",
   "metadata": {
    "pycharm": {
     "name": "#%%\n"
    }
   },
   "outputs": [],
   "source": [
    "for sw in Software:\n",
    "    an.feedback(feedback_df,0,sw,'B')\n",
    "    plt.savefig('output/gh_Survey-B_by'+sw+'_Level.png',bbox_inches='tight');\n",
    "    plt.close()\n",
    "an.feedback(feedback_df,0,'Average','B','Order')\n",
    "plt.savefig('output/gh_Survey-B_by-Order.png',bbox_inches='tight');\n",
    "plt.close()"
   ]
  },
  {
   "cell_type": "code",
   "execution_count": 17,
   "id": "9119cadf",
   "metadata": {
    "pycharm": {
     "name": "#%%\n"
    }
   },
   "outputs": [],
   "source": [
    "for sw in Software:\n",
    "    an.feedback(feedback_df,1,sw,'A')\n",
    "    plt.savefig('output/hybrid_Survey-A_by-'+sw+'_Level.png',bbox_inches='tight');\n",
    "    plt.close()\n",
    "an.feedback(feedback_df,1,'Average','A','Order')\n",
    "plt.savefig('output/hybrid_Survey-A_by-Order.png',bbox_inches='tight');\n",
    "plt.close()"
   ]
  },
  {
   "cell_type": "code",
   "execution_count": 18,
   "id": "74cbc961",
   "metadata": {
    "pycharm": {
     "name": "#%%\n"
    }
   },
   "outputs": [],
   "source": [
    "for sw in Software:\n",
    "    an.feedback(feedback_df,1,sw,'B')\n",
    "    plt.savefig('output/hybrid_Survey-B_by-'+sw+'_Level.png',bbox_inches='tight');\n",
    "    plt.close()\n",
    "an.feedback(feedback_df,1,'Average','B','Order')\n",
    "plt.savefig('output/hybrid_Survey-B_by-Order.png',bbox_inches='tight');\n",
    "plt.close()"
   ]
  },
  {
   "cell_type": "code",
   "execution_count": 19,
   "id": "470c33de",
   "metadata": {
    "pycharm": {
     "name": "#%%\n"
    }
   },
   "outputs": [],
   "source": [
    "for sw in Software:\n",
    "    an.feedback(feedback_df,2,sw,'A')\n",
    "    plt.savefig('output/plugin_Survey-A_by-'+sw+'_Level.png',bbox_inches='tight');\n",
    "    plt.close()\n",
    "an.feedback(feedback_df,2,'Average','A','Order')\n",
    "plt.savefig('output/plugin_Survey-A_by-Order.png',bbox_inches='tight');\n",
    "plt.close()"
   ]
  },
  {
   "cell_type": "code",
   "execution_count": 20,
   "id": "461c47a5",
   "metadata": {
    "pycharm": {
     "name": "#%%\n"
    }
   },
   "outputs": [],
   "source": [
    "for sw in Software:\n",
    "    an.feedback(feedback_df,2,sw,'B')\n",
    "    plt.savefig('output/plugin_Survey-B_by-'+sw+'_Level.png',bbox_inches='tight');\n",
    "    plt.close()\n",
    "an.feedback(feedback_df,2,'Average','B','Order')\n",
    "plt.savefig('output/plugin_Survey-B_by-Order.png',bbox_inches='tight');\n",
    "plt.close()"
   ]
  },
  {
   "cell_type": "markdown",
   "id": "36cf9257",
   "metadata": {},
   "source": [
    "# Iterations"
   ]
  },
  {
   "cell_type": "markdown",
   "id": "1d990f92",
   "metadata": {},
   "source": [
    "## Global"
   ]
  },
  {
   "cell_type": "code",
   "execution_count": 21,
   "id": "e27bc2d5",
   "metadata": {
    "pycharm": {
     "name": "#%%\n"
    }
   },
   "outputs": [],
   "source": [
    "an.context_analysis(4,iterations_df, time_iterations_df, keeplist, 'Average', title= 'Iterations');\n",
    "plt.savefig('output/global_iterations-byAverageLevel.png',bbox_inches='tight');\n",
    "plt.close()"
   ]
  },
  {
   "cell_type": "code",
   "execution_count": null,
   "id": "0c0b7e89",
   "metadata": {
    "pycharm": {
     "name": "#%%\n"
    }
   },
   "outputs": [],
   "source": [
    "'''with pd.option_context('display.max_rows', None, 'display.max_columns', 12,'display.max_colwidth',50):\n",
    "    display(feedback_df.round(decimals=2))\n",
    "#iterations_df.round(decimals=2).to_excel('output/Iterations.xlsx')"
   ]
  },
  {
   "cell_type": "code",
   "execution_count": null,
   "id": "11de5862",
   "metadata": {
    "pycharm": {
     "name": "#%%\n"
    }
   },
   "outputs": [],
   "source": [
    "t=iterations_df.reset_index(level='Level', drop=False)\n",
    "t['Level']=t['Level'].apply(lambda x: int(str(x)[8]))\n",
    "t=t.xs('Tot',level='Type')\n",
    "rate=pd.Series(t['Total']/(t['Time']/60),name='Rate')\n",
    "display(rp.summary_cont(rate))\n",
    "display(rp.summary_cont((t['Total']/(t['Time']/60)).groupby(t['Level'])))\n",
    "#display(t.xs('Tot',level='Type')['Total'])#.groupby('Name').mean()\n",
    "#display(t['Level'].sort_values().unique())'''"
   ]
  },
  {
   "cell_type": "markdown",
   "id": "fa42540f",
   "metadata": {},
   "source": [
    "## Étude Générale"
   ]
  },
  {
   "cell_type": "code",
   "execution_count": 22,
   "id": "b404ab7c-ccb3-4eb9-ac78-2dce1bd03f97",
   "metadata": {
    "tags": []
   },
   "outputs": [],
   "source": [
    "for sw in Software:\n",
    "    an.context_analysis(0, iterations_df, time_iterations_df, keeplist, sw, title='Iterations');\n",
    "    plt.savefig('output/gh_iterations-by'+sw+'.png',bbox_inches='tight');\n",
    "    plt.close()"
   ]
  },
  {
   "cell_type": "code",
   "execution_count": 23,
   "id": "4cfd8360-62f2-4b77-b5f6-e55301cc0c3f",
   "metadata": {
    "tags": []
   },
   "outputs": [],
   "source": [
    "for sw in Software:\n",
    "    an.context_analysis(1, iterations_df.drop('Subject2', axis=0, level='Name'), time_iterations_df.drop('Subject2', axis=0, level='Name'), keeplist, sw=sw, title='Iterations', y2=0.1955)\n",
    "    plt.savefig('output/hybrid_iterations-by'+sw+'.png',bbox_inches='tight');\n",
    "    plt.close()"
   ]
  },
  {
   "cell_type": "code",
   "execution_count": 24,
   "id": "b1d998e1-d397-4483-b0ce-2dc90bd61a26",
   "metadata": {
    "tags": []
   },
   "outputs": [],
   "source": [
    "for sw in Software:\n",
    "    an.context_analysis(2, iterations_df, time_iterations_df, keeplist, sw, title='Iterations')\n",
    "    plt.savefig('output/plugin_iterations-by'+sw+'.png',bbox_inches='tight');\n",
    "    plt.close()"
   ]
  },
  {
   "cell_type": "markdown",
   "id": "4485fa17",
   "metadata": {},
   "source": [
    "### Total"
   ]
  },
  {
   "cell_type": "code",
   "execution_count": 25,
   "id": "210b7502-d165-483d-abce-265cb92d0286",
   "metadata": {
    "jupyter": {
     "source_hidden": true
    },
    "tags": []
   },
   "outputs": [],
   "source": [
    "studycolumn=keeplist\n",
    "an.global_analysis(iterations_df, time_iterations_df, feedback_df, studycolumn, 'Number of Iterations', _level='Type')\n",
    "plt.savefig('output/global_iterations_byContext.png',bbox_inches='tight')\n",
    "plt.close()"
   ]
  },
  {
   "cell_type": "markdown",
   "id": "5665bf47-2aaf-4443-8b68-d263bc96895a",
   "metadata": {
    "tags": []
   },
   "source": [
    "## Etude selon l'ordre"
   ]
  },
  {
   "cell_type": "code",
   "execution_count": 26,
   "id": "83dcf8ff",
   "metadata": {
    "pycharm": {
     "name": "#%%\n"
    }
   },
   "outputs": [],
   "source": [
    "an.global_analysis(iterations_df, time_iterations_df, feedback_df, studycolumn, 'Number of Iterations', _level='Order')\n",
    "plt.savefig('output/global_iterations_byOrder.png',bbox_inches='tight')\n",
    "plt.close()"
   ]
  },
  {
   "cell_type": "markdown",
   "id": "421bc071-3dcd-48bb-b38b-1def2d256100",
   "metadata": {
    "tags": []
   },
   "source": [
    "### Grasshopper"
   ]
  },
  {
   "cell_type": "code",
   "execution_count": 30,
   "id": "43566c5a",
   "metadata": {
    "pycharm": {
     "name": "#%%\n"
    }
   },
   "outputs": [],
   "source": [
    "an.global_analysis(iterations_df, time_iterations_df, feedback_df, studycolumn, 'Number of Iterations', _level='Order', o=0)\n",
    "#an.context_analysis(0,iterations_df, time_iterations_df, keeplist, 'Grasshopper', title= 'Iterations', _level='Order');\n",
    "plt.savefig('output/gh_iterations-byOrder.png',bbox_inches='tight')\n",
    "plt.close()"
   ]
  },
  {
   "cell_type": "code",
   "execution_count": 29,
   "id": "15f39c58-32bc-4378-accb-8c455716d64a",
   "metadata": {
    "tags": []
   },
   "outputs": [],
   "source": [
    "for sw in Software:\n",
    "    an.order_analysis(1, iterations_df, time_iterations_df, feedback_df, keeplist, sw, 'Iterations', 'A',rorder=3)\n",
    "    plt.savefig('output/gh_order_iterations-by'+sw+'.png',bbox_inches='tight')\n",
    "    plt.close()"
   ]
  },
  {
   "cell_type": "markdown",
   "id": "e55a91c1-5eff-47e7-b0a5-1fda90efdeed",
   "metadata": {
    "tags": []
   },
   "source": [
    "### Hybrid"
   ]
  },
  {
   "cell_type": "code",
   "execution_count": 31,
   "id": "5f5cb4a4",
   "metadata": {
    "pycharm": {
     "name": "#%%\n"
    }
   },
   "outputs": [],
   "source": [
    "an.global_analysis(iterations_df, time_iterations_df, feedback_df, studycolumn, 'Number of Iterations', _level='Order', o=1)\n",
    "#an.context_analysis(1,iterations_df, time_iterations_df, keeplist, 'Grasshopper', title= 'Iterations', _level='Order');\n",
    "plt.savefig('output/hybrid_iterations-byOrder.png',bbox_inches='tight');\n",
    "plt.close()"
   ]
  },
  {
   "cell_type": "code",
   "execution_count": null,
   "id": "ff0ae198-9924-4dc3-a0ac-def2d78cf423",
   "metadata": {
    "tags": []
   },
   "outputs": [],
   "source": [
    "'''for sw in Software:\n",
    "    an.order_analysis(2, iterations_df, time_iterations_df.drop('Subject2', axis=0, level='Name'), feedback_df, keeplist, sw, 'Iterations')\n",
    "    plt.savefig('output/hybrid_order_iterations-by'+sw+'.png',bbox_inches='tight')\n",
    "    plt.close()'''"
   ]
  },
  {
   "cell_type": "markdown",
   "id": "80556af7-551f-4669-9ab7-76b6b14495b1",
   "metadata": {
    "tags": []
   },
   "source": [
    "### Plugin"
   ]
  },
  {
   "cell_type": "code",
   "execution_count": 34,
   "id": "8e6b59c9",
   "metadata": {
    "pycharm": {
     "name": "#%%\n"
    }
   },
   "outputs": [],
   "source": [
    "an.global_analysis(iterations_df, time_iterations_df, feedback_df, studycolumn, 'Number of Iterations', _level='Order', o=2)\n",
    "#an.context_analysis(2,iterations_df, time_iterations_df, keeplist, 'Grasshopper', title= 'Iterations', _level='Order');\n",
    "plt.savefig('output/plugin_iterations-byOrder.png',bbox_inches='tight');\n",
    "plt.close()"
   ]
  },
  {
   "cell_type": "code",
   "execution_count": null,
   "id": "156b05ad-196b-4413-aad2-a6fc9cfc8360",
   "metadata": {},
   "outputs": [],
   "source": [
    "'''for sw in Software:\n",
    "    an.order_analysis(3, iterations_df, time_iterations_df, feedback_df, keeplist, sw, 'Iterations', rorder=3)\n",
    "    plt.savefig('output/plugin_order_iterations-by'+sw+'.png',bbox_inches='tight')'''"
   ]
  },
  {
   "cell_type": "markdown",
   "id": "7ca1482a-54a3-4702-b3f7-e994e9f5e579",
   "metadata": {
    "tags": []
   },
   "source": [
    "# Phases"
   ]
  },
  {
   "cell_type": "code",
   "execution_count": 35,
   "id": "b15ece22-6e5f-4488-a47a-8653e9c689ac",
   "metadata": {
    "jupyter": {
     "source_hidden": true
    },
    "tags": []
   },
   "outputs": [],
   "source": [
    "#with pd.option_context('display.max_rows', None, 'display.max_columns', 12,'display.max_colwidth',50):\n",
    "    #display(phase_df.round(decimals=2))\n",
    "iterations_df.round(decimals=2).to_excel('output/testexcel.xlsx')"
   ]
  },
  {
   "cell_type": "markdown",
   "id": "424fbe94",
   "metadata": {},
   "source": [
    "## Global"
   ]
  },
  {
   "cell_type": "code",
   "execution_count": 37,
   "id": "bcf99848",
   "metadata": {
    "pycharm": {
     "name": "#%%\n"
    }
   },
   "outputs": [],
   "source": [
    "an.context_analysis(4, phase_df, time_phases_df, keeplist, 'Average', 'Modification Phases');\n",
    "plt.savefig('output/global_phases-byAverageLevel.png',bbox_inches='tight');\n",
    "plt.close()"
   ]
  },
  {
   "cell_type": "markdown",
   "id": "ecb91ab0-e91d-466a-9edb-f6f356d2b976",
   "metadata": {
    "tags": []
   },
   "source": [
    "## Étude Générale"
   ]
  },
  {
   "cell_type": "markdown",
   "id": "50bc4370-8a06-40e8-b4b9-82bbd397acfd",
   "metadata": {
    "tags": []
   },
   "source": [
    "### Grasshopper"
   ]
  },
  {
   "cell_type": "code",
   "execution_count": 38,
   "id": "d3558379-0110-4649-beef-58b78e54f9f5",
   "metadata": {
    "tags": []
   },
   "outputs": [],
   "source": [
    "for sw in Software:\n",
    "    an.context_analysis(0, phase_df, time_phases_df, keeplist, sw, title='Modification phases')\n",
    "    plt.savefig('output/gh_phases-by'+sw+'.png',bbox_inches='tight')\n",
    "    plt.close()"
   ]
  },
  {
   "cell_type": "code",
   "execution_count": null,
   "id": "13b5354b-e71a-4a65-8d0d-415ab2d5531d",
   "metadata": {
    "pycharm": {
     "is_executing": true
    },
    "tags": []
   },
   "outputs": [],
   "source": [
    "for sw in Software:\n",
    "    an.context_analysis(1, phase_df, time_phases_df.drop('Subject2', axis=0, level='Name'), keeplist, sw, title='Modification phases', y2=0.1955)\n",
    "    plt.savefig('output/hybrid_phases-by'+sw+'.png',bbox_inches='tight')\n",
    "    plt.close()"
   ]
  },
  {
   "cell_type": "markdown",
   "id": "8e4bf5a9-6451-41b7-a072-4bde5f8b26d9",
   "metadata": {
    "tags": []
   },
   "source": [
    "### Plugin"
   ]
  },
  {
   "cell_type": "code",
   "execution_count": null,
   "id": "f2c145a6-a2dc-4982-b753-e06cb992f0e3",
   "metadata": {
    "pycharm": {
     "is_executing": true
    },
    "tags": []
   },
   "outputs": [],
   "source": [
    "for sw in Software:\n",
    "    an.context_analysis(2, phase_df, time_phases_df, keeplist, sw, title='Modification phases')\n",
    "    plt.savefig('output/plugin_phases-by'+sw+'.png',bbox_inches='tight')\n",
    "    plt.close()"
   ]
  },
  {
   "cell_type": "markdown",
   "id": "1ab24dfd-5d13-4b7d-ba93-56e30dfa173f",
   "metadata": {},
   "source": [
    "### Total "
   ]
  },
  {
   "cell_type": "code",
   "execution_count": null,
   "id": "9e5663eb-6591-4bbc-931e-24cf0eabd003",
   "metadata": {
    "pycharm": {
     "is_executing": true
    },
    "tags": []
   },
   "outputs": [],
   "source": [
    "an.global_analysis(phase_df, time_phases_df, feedback_df, keeplist, 'Modification phases')\n",
    "plt.savefig('output/global_phases_byContext.png',bbox_inches='tight')\n",
    "plt.close()"
   ]
  },
  {
   "cell_type": "markdown",
   "id": "6b22c470-180d-473b-8759-e31f8ea35dbc",
   "metadata": {
    "tags": []
   },
   "source": [
    "## Etude selon l'ordre"
   ]
  },
  {
   "cell_type": "code",
   "execution_count": null,
   "id": "78c4c00f",
   "metadata": {
    "pycharm": {
     "name": "#%%\n"
    }
   },
   "outputs": [],
   "source": [
    "an.global_analysis(phase_df, time_phases_df, feedback_df, studycolumn, 'Number of Modification Phases', _level='Order')\n",
    "plt.savefig('output/global_phases_byOrder.png',bbox_inches='tight')"
   ]
  },
  {
   "cell_type": "markdown",
   "id": "1bedc235-c814-4d4e-96e2-70872638e031",
   "metadata": {
    "tags": []
   },
   "source": [
    "### Grasshopper"
   ]
  },
  {
   "cell_type": "code",
   "execution_count": null,
   "id": "11b4d0ec",
   "metadata": {
    "pycharm": {
     "name": "#%%\n"
    }
   },
   "outputs": [],
   "source": [
    "an.global_analysis(phase_df, time_phases_df, feedback_df, studycolumn, 'Modification phases', _level='Order', o=0)\n",
    "#an.context_analysis(0,phase_df, time_phases_df, keeplist, 'Grasshopper', title= 'Modification phases', _level='Order');\n",
    "plt.savefig('output/gh_phases-byOrder.png',bbox_inches='tight');"
   ]
  },
  {
   "cell_type": "code",
   "execution_count": null,
   "id": "1fab6ec7-04c0-4d6b-8693-dcfaa6cff5a8",
   "metadata": {},
   "outputs": [],
   "source": [
    "keeplist2 =['CV','Total','Max']\n",
    "for sw in Software:\n",
    "    an.order_analysis(1, phase_df, time_phases_df, feedback_df, keeplist, sw, 'Modification phases','A')\n",
    "    plt.savefig('output/gh_order_phases-by'+sw+'.png',bbox_inches='tight')"
   ]
  },
  {
   "cell_type": "markdown",
   "id": "7fdc872b-e96d-4154-a64f-e6ed7870216b",
   "metadata": {
    "tags": []
   },
   "source": [
    "### Hybrid"
   ]
  },
  {
   "cell_type": "code",
   "execution_count": null,
   "id": "1744f102",
   "metadata": {
    "pycharm": {
     "name": "#%%\n"
    }
   },
   "outputs": [],
   "source": [
    "an.global_analysis(phase_df, time_phases_df, feedback_df, studycolumn, 'Modification phases', _level='Order', o=1)\n",
    "#an.context_analysis(1,phase_df, time_phases_df, keeplist, 'Grasshopper', title= 'Modification phases', _level='Order');\n",
    "plt.savefig('output/hybrid_phases-byOrder.png',bbox_inches='tight');"
   ]
  },
  {
   "cell_type": "code",
   "execution_count": null,
   "id": "b804e786-3b33-476a-8790-edc74eb96d98",
   "metadata": {},
   "outputs": [],
   "source": [
    "for sw in Software:\n",
    "    an.order_analysis(2, phase_df, time_phases_df.drop('Subject2', axis=0, level='Name'), feedback_df, keeplist, sw, 'Modification phases')\n",
    "    plt.savefig('output/hybrid_order_phases-by'+sw+'.png',bbox_inches='tight')"
   ]
  },
  {
   "cell_type": "markdown",
   "id": "43adaebe-5112-467b-982a-359db8045e43",
   "metadata": {
    "tags": []
   },
   "source": [
    "### Plugin"
   ]
  },
  {
   "cell_type": "code",
   "execution_count": null,
   "id": "a24427a4",
   "metadata": {
    "pycharm": {
     "name": "#%%\n"
    }
   },
   "outputs": [],
   "source": [
    "an.global_analysis(phase_df, time_phases_df, feedback_df, studycolumn, 'Modification phases', _level='Order', o=2)\n",
    "#an.context_analysis(2,phase_df, time_phases_df, keeplist, 'Grasshopper', title= 'Iterations', _level='Order');\n",
    "plt.savefig('output/plugin_phases-byOrder.png',bbox_inches='tight');"
   ]
  },
  {
   "cell_type": "code",
   "execution_count": null,
   "id": "3a87dfeb-f039-4aa8-a332-b43762e72ba6",
   "metadata": {},
   "outputs": [],
   "source": [
    "for sw in Software:\n",
    "    an.order_analysis(3, phase_df, time_phases_df, feedback_df, keeplist, sw, 'Modification phases','A')\n",
    "    plt.savefig('output/plugin_order_phases-by'+sw+'.png',bbox_inches='tight')"
   ]
  },
  {
   "cell_type": "markdown",
   "id": "5f6a8a15-28c8-4109-b811-d3f36dd7e015",
   "metadata": {
    "tags": []
   },
   "source": [
    "# Unique"
   ]
  },
  {
   "cell_type": "code",
   "execution_count": null,
   "id": "678d63c0-0462-49d4-bcc5-1af99fb34d95",
   "metadata": {
    "tags": []
   },
   "outputs": [],
   "source": [
    "with pd.option_context('display.max_rows', None, 'display.max_columns', 12,'display.max_colwidth',50):\n",
    "    display(unique_df.round(decimals=2))\n",
    "unique_df.round(decimals=2).to_excel('output/testexcel-unique.xlsx')"
   ]
  },
  {
   "cell_type": "markdown",
   "id": "d51762fa",
   "metadata": {},
   "source": [
    "## Global"
   ]
  },
  {
   "cell_type": "code",
   "execution_count": null,
   "id": "7d63e34f",
   "metadata": {
    "pycharm": {
     "name": "#%%\n"
    }
   },
   "outputs": [],
   "source": [
    "an.context_analysis(4,unique_df,time_unique_df,keeplist,'Average', 'Unique Values');\n",
    "plt.savefig('output/global_unique-byAverageLevel.png',bbox_inches='tight');"
   ]
  },
  {
   "cell_type": "markdown",
   "id": "4fc423b8-3d12-4cbf-9948-882ec85b6be6",
   "metadata": {
    "tags": []
   },
   "source": [
    "## Étude Générale"
   ]
  },
  {
   "cell_type": "markdown",
   "id": "e90bfb60-46ad-4be4-b06b-b75e3821bea5",
   "metadata": {
    "tags": []
   },
   "source": [
    "### Grasshopper"
   ]
  },
  {
   "cell_type": "code",
   "execution_count": null,
   "id": "307fb69f-1f58-4a5d-8a68-bf52374ff953",
   "metadata": {
    "pycharm": {
     "is_executing": true
    },
    "tags": []
   },
   "outputs": [],
   "source": [
    "for sw in Software:\n",
    "    an.context_analysis(0, unique_df, time_unique_df, keeplist, sw, title='Unique values')\n",
    "    plt.savefig('output/gh_unique-by'+sw+'.png',bbox_inches='tight')"
   ]
  },
  {
   "cell_type": "code",
   "execution_count": null,
   "id": "8bbfa232-ab6f-4229-b2a7-574e38547529",
   "metadata": {
    "tags": []
   },
   "outputs": [],
   "source": [
    "for sw in Software:\n",
    "    an.context_analysis(1, unique_df.drop('Subject2', axis=0, level='Name'), time_unique_df.drop('Subject2', axis=0, level='Name'), keeplist, sw, title='Unique values', y2=0.1955)\n",
    "    plt.savefig('output/hybrid_unique'+sw+'.png',bbox_inches='tight')"
   ]
  },
  {
   "cell_type": "markdown",
   "id": "8dba708f-bc60-4593-88ff-3afb75e4f0de",
   "metadata": {
    "tags": []
   },
   "source": [
    "### Plugin"
   ]
  },
  {
   "cell_type": "code",
   "execution_count": null,
   "id": "822b0783-4e3c-47e6-b94b-3d7f511d679d",
   "metadata": {
    "tags": []
   },
   "outputs": [],
   "source": [
    "for sw in Software:\n",
    "    an.context_analysis(2, unique_df, time_unique_df, keeplist, sw, title='Unique values')\n",
    "    plt.savefig('output/plugin_unique-by'+sw+'.png',bbox_inches='tight')"
   ]
  },
  {
   "cell_type": "markdown",
   "id": "79a2a282-40f8-47ba-becb-754a26b0f259",
   "metadata": {},
   "source": [
    "### Total "
   ]
  },
  {
   "cell_type": "code",
   "execution_count": null,
   "id": "f9003c63",
   "metadata": {
    "pycharm": {
     "name": "#%%\n"
    }
   },
   "outputs": [],
   "source": [
    "display(iterations_df['Time'])\n",
    "display(phase_df['Time'])\n",
    "display(unique_df['Time'])"
   ]
  },
  {
   "cell_type": "code",
   "execution_count": null,
   "id": "999c102a-9bfc-4838-bb65-7ade332b88c3",
   "metadata": {
    "tags": []
   },
   "outputs": [],
   "source": [
    "an.global_analysis(unique_df, time_unique_df, feedback_df, keeplist, 'Unique values')\n",
    "plt.savefig('output/global_unique_byContext.png',bbox_inches='tight')"
   ]
  },
  {
   "cell_type": "markdown",
   "id": "58e9c904-dd7d-4f03-968c-7deda8eb1d31",
   "metadata": {
    "tags": []
   },
   "source": [
    "## Etude selon l'ordre"
   ]
  },
  {
   "cell_type": "code",
   "execution_count": null,
   "id": "db4eadd2",
   "metadata": {
    "pycharm": {
     "name": "#%%\n"
    }
   },
   "outputs": [],
   "source": [
    "display(studycolumn)"
   ]
  },
  {
   "cell_type": "code",
   "execution_count": null,
   "id": "f9fc527d",
   "metadata": {
    "pycharm": {
     "name": "#%%\n"
    }
   },
   "outputs": [],
   "source": [
    "an.global_analysis(unique_df, time_unique_df, feedback_df, studycolumn, 'Unique values', _level='Order')\n",
    "plt.savefig('output/global_unique_byOrder.png',bbox_inches='tight')"
   ]
  },
  {
   "cell_type": "markdown",
   "id": "e7853fb9-d783-428a-9db2-a39138f94173",
   "metadata": {
    "tags": []
   },
   "source": [
    "### Grasshopper"
   ]
  },
  {
   "cell_type": "code",
   "execution_count": null,
   "id": "17365806",
   "metadata": {
    "pycharm": {
     "name": "#%%\n"
    }
   },
   "outputs": [],
   "source": [
    "an.global_analysis(unique_df, time_unique_df, feedback_df, studycolumn, 'Unique values', _level='Order', o=0)\n",
    "#an.context_analysis(0,unique_df, time_unique_df, keeplist, 'Grasshopper', title= 'Unique values', _level='Order');\n",
    "plt.savefig('output/gh_unique-byOrder.png',bbox_inches='tight');"
   ]
  },
  {
   "cell_type": "code",
   "execution_count": null,
   "id": "20395383-0af5-4770-9d8b-d6b342964167",
   "metadata": {
    "tags": []
   },
   "outputs": [],
   "source": [
    "keeplist3 =['Iterations / Minute','Total','Max']\n",
    "for sw in Software:\n",
    "    an.order_analysis(1, unique_df, time_unique_df, feedback_df, keeplist, sw, 'Unique values','B')\n",
    "    plt.savefig('output/gh_order_unique-by'+sw+'.png',bbox_inches='tight')"
   ]
  },
  {
   "cell_type": "markdown",
   "id": "d5ec4a60-9e95-4181-951f-137783f6cac0",
   "metadata": {
    "tags": []
   },
   "source": [
    "### Hybrid"
   ]
  },
  {
   "cell_type": "code",
   "execution_count": null,
   "id": "69e89149",
   "metadata": {
    "pycharm": {
     "name": "#%%\n"
    }
   },
   "outputs": [],
   "source": [
    "an.global_analysis(unique_df, time_unique_df, feedback_df, studycolumn, 'Unique values', _level='Order', o=1)\n",
    "#an.context_analysis(1,unique_df, time_unique_df, keeplist, 'Grasshopper', title= 'Unique values', _level='Order');\n",
    "plt.savefig('output/hybrid_unique-byOrder.png',bbox_inches='tight');"
   ]
  },
  {
   "cell_type": "code",
   "execution_count": null,
   "id": "e0175963-cd6e-4720-99cd-fee2da1dc54b",
   "metadata": {},
   "outputs": [],
   "source": [
    "for sw in Software:\n",
    "    an.order_analysis(2, unique_df, time_unique_df.drop('Subject2', axis=0, level='Name'), feedback_df, keeplist, sw, 'Unique values')\n",
    "    plt.savefig('output/hybrid_order_unique-by'+sw+'.png',bbox_inches='tight')"
   ]
  },
  {
   "cell_type": "markdown",
   "id": "fd90d292-7e9c-4eea-bb49-97df92148738",
   "metadata": {
    "tags": []
   },
   "source": [
    "### Plugin"
   ]
  },
  {
   "cell_type": "code",
   "execution_count": null,
   "id": "93dc8da1",
   "metadata": {
    "pycharm": {
     "name": "#%%\n"
    }
   },
   "outputs": [],
   "source": [
    "an.global_analysis(unique_df, time_unique_df, feedback_df, studycolumn, 'Unique values', _level='Order', o=2)\n",
    "#an.context_analysis(2,unique_df, time_unique_df, keeplist, 'Grasshopper', title= 'Unique values', _level='Order');\n",
    "plt.savefig('output/plugin_unique-byOrder.png',bbox_inches='tight');"
   ]
  },
  {
   "cell_type": "code",
   "execution_count": null,
   "id": "7d860528-16a9-48af-9367-38edb0d16bd6",
   "metadata": {
    "pycharm": {
     "name": "#%%\n"
    },
    "tags": []
   },
   "outputs": [],
   "source": [
    "for sw in Software:\n",
    "    an.order_analysis(3, unique_df, time_unique_df, feedback_df, keeplist, sw, 'Unique values','A')\n",
    "    plt.savefig('output/plugin_order_unique-by'+sw+'.png',bbox_inches='tight')\n",
    "#an.order_analysis(3, unique_df, time_unique_df, feedback_df, keeplist3, 8, 'Unique values','A')\n",
    "#display(feedback_df[feedback_df['Survey']=='A'])\n",
    "#display(feedback_df[feedback_df['Survey']=='B'])"
   ]
  }
 ],
 "metadata": {
  "kernelspec": {
   "display_name": "Python 3 (ipykernel)",
   "language": "python",
   "name": "python3"
  },
  "language_info": {
   "codemirror_mode": {
    "name": "ipython",
    "version": 3
   },
   "file_extension": ".py",
   "mimetype": "text/x-python",
   "name": "python",
   "nbconvert_exporter": "python",
   "pygments_lexer": "ipython3",
   "version": "3.9.7"
  }
 },
 "nbformat": 4,
 "nbformat_minor": 5
}
