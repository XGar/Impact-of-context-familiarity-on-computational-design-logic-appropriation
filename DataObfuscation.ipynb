{
 "cells": [
  {
   "cell_type": "code",
   "execution_count": 2,
   "metadata": {
    "collapsed": true
   },
   "outputs": [],
   "source": [
    "import pandas as pd\n",
    "import os"
   ]
  },
  {
   "cell_type": "code",
   "execution_count": 4,
   "outputs": [
    {
     "data": {
      "text/plain": "92990"
     },
     "metadata": {},
     "output_type": "display_data"
    }
   ],
   "source": [
    "listNames = ['Khulan','Adrian','Mathilde','Virgil','FannyM','Margaux','JL','Hélène','Luca','Brice','ThiMai','Ani','Romain','StephB']\n",
    "i=1\n",
    "j=0\n",
    "for name in listNames:\n",
    "    path = 'input/'+ name + '/' + name +'.csv'\n",
    "    test = pd.read_csv(path,sep=';')\n",
    "    j+= test.size\n",
    "    path = 'input/'+'Subject'+str(i)+'/'+'Subject'+str(i)+'.csv'\n",
    "    #os.mkdir('input/'+'Subject'+str(i))\n",
    "    #test.to_csv(path,encoding='UTF-16BE',sep=';',index=False)\n",
    "    i+=1\n",
    "display(j)"
   ],
   "metadata": {
    "collapsed": false,
    "pycharm": {
     "name": "#%%\n"
    }
   }
  }
 ],
 "metadata": {
  "kernelspec": {
   "display_name": "Python 3",
   "language": "python",
   "name": "python3"
  },
  "language_info": {
   "codemirror_mode": {
    "name": "ipython",
    "version": 2
   },
   "file_extension": ".py",
   "mimetype": "text/x-python",
   "name": "python",
   "nbconvert_exporter": "python",
   "pygments_lexer": "ipython2",
   "version": "2.7.6"
  }
 },
 "nbformat": 4,
 "nbformat_minor": 0
}