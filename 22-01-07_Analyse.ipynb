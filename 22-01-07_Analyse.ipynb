{
 "cells": [
  {
   "cell_type": "code",
   "execution_count": 1,
   "id": "eb46fb5d",
   "metadata": {
    "tags": []
   },
   "outputs": [],
   "source": [
    "import numpy as np\n",
    "import pandas as pd\n",
    "import datetime\n",
    "import seaborn as sns\n",
    "from matplotlib import lines\n",
    "import matplotlib.pyplot as plt\n",
    "from matplotlib.gridspec import GridSpec\n",
    "import warnings\n",
    "warnings.filterwarnings('ignore')"
   ]
  },
  {
   "cell_type": "code",
   "execution_count": 33,
   "id": "9cafebba-aae3-4bb8-af5c-c25d8e68dba8",
   "metadata": {
    "tags": []
   },
   "outputs": [],
   "source": [
    "listNames = ['Khulan','Adrian','Mathilde','Virgil','FannyM','Margaux','JL','Hélène','Luca','Brice','ThiMai','Ani','Romain','StephB']\n",
    "_type=['Grasshopper', 'Hybrid', 'Plugin']\n",
    "niv=['No experience','Novice','Limited','Basic','Advanced','Expert']"
   ]
  },
  {
   "cell_type": "code",
   "execution_count": 3,
   "id": "d921fc14-9a66-4915-9b87-a49c5b5186d4",
   "metadata": {
    "tags": []
   },
   "outputs": [],
   "source": [
    "def context_reorder(data, choice):\n",
    "    context_grasshopper = data[(data[\"Object\"]>1.1) & (data[\"Object\"]<2)]\n",
    "    context_hybrid = data[(data[\"Object\"]>2.1) & (data[\"Object\"]<3)]\n",
    "    context_plugin = data[(data[\"Object\"]>3.1) & (data[\"Object\"]<4)]\n",
    "    order1=context_grasshopper.index[0]\n",
    "    order2=context_hybrid.index[0]\n",
    "    order3=context_plugin.index[0]\n",
    "    _order=[_x for _, _x in sorted(zip([order1, order2, order3], [1, 2, 3]))]\n",
    "    if choice==0:\n",
    "        return [context_grasshopper,context_hybrid,context_plugin], ['Grasshopper','Hybrid','Plugin'], _order\n",
    "    elif choice==1:\n",
    "        return context_grasshopper,'Grasshopper'\n",
    "    elif choice==2:\n",
    "        return context_hybrid,'Hybrid'\n",
    "    elif choice==3:\n",
    "        return context_plugin,'Plugin'\n",
    "\n",
    "def sub_selection(_context, choice):\n",
    "    facade_choice=choice\n",
    "    if facade_choice==0:\n",
    "        return _context\n",
    "    return _context.xs(choice,level='Object',drop_level=False)\n",
    "\n",
    "def diff_analysis(_context):\n",
    "    _diff=(_context.diff(1, 0) != 0)\n",
    "    _diff.iloc[0]=False\n",
    "    _diff['Time']=_context['Time']\n",
    "    return _diff\n",
    "\n",
    "def timeconvert(time):\n",
    "    hours=int(time / 3600)\n",
    "    minutes=int((time - hours * 3600) / 60)\n",
    "    seconds=int(time - hours * 3600 - minutes * 60)\n",
    "    return datetime.time(hours,minutes,seconds)\n",
    "\n",
    "def time_to_sec(time):\n",
    "    return (time.second + time.minute * 60 + time.hour * 3600) / 60\n",
    "\n",
    "def split_profile(_df, _imp):\n",
    "    prof1=pd.DataFrame()\n",
    "    prof2=pd.DataFrame()\n",
    "    prof3=pd.DataFrame()\n",
    "    _profile = profile.loc[_df.index]\n",
    "    score=_profile[_imp]\n",
    "    it=0\n",
    "    for x in score:     \n",
    "        if int(x)==0:\n",
    "            prof1=prof1.append(_df.iloc[it])\n",
    "        if int(x)==1:\n",
    "            prof2=prof2.append(_df.iloc[it])\n",
    "        if int(x)==2:\n",
    "            prof3=prof3.append(_df.iloc[it])\n",
    "        it+=1\n",
    "    return prof1.T,prof2.T,prof3.T\n",
    "\n",
    "def plot_feedback(ax, a, _feedback_df):\n",
    "    if a is None:\n",
    "        pass\n",
    "    else:\n",
    "        _feedback_df=_feedback_df[_feedback_df['Order'] == a]\n",
    "    colors=_feedback_df['Level'].map(lambda x:_color[int(x)])\n",
    "    _feedback_df['Level']=_feedback_df['Level'].map(lambda x:niv[int(x)])\n",
    "    color_set=colors.drop_duplicates().to_list()\n",
    "    ax.set_autoscaley_on(False)\n",
    "    ax.set_ybound(0,11)\n",
    "    r=sns.pointplot(x='variable', y='value', data=_feedback_df[_feedback_df['Survey'] == 'A'], hue='Level', ci='sd', dodge=0.3, palette=color_set, markers='x', ax=ax, linestyles='--')\n",
    "\n",
    "    _lines=r.get_lines()\n",
    "    for line in _lines[:]:\n",
    "        line.set_alpha(0.6)\n",
    "        line.set_linewidth(1.5)\n",
    "        line.set_zorder(1)\n",
    "\n",
    "    sns.pointplot(x='variable', y='value', data=_feedback_df[_feedback_df['Survey'] == 'B'], hue='Level', ci='sd', dodge=0.3, palette=color_set, ax=ax)\n",
    "    ax.set_ylabel(None)\n",
    "    ax.set_xlabel(None)\n",
    "    if a is not None:\n",
    "        ax.set_xticklabels(\"\")\n",
    "    ax.get_legend().remove()\n",
    "    ax.tick_params(axis='y',pad=-1)\n",
    "    return\n",
    "\n",
    "def interaction_line_plot(_ax, result, _order, keep_list):\n",
    "    int1=result[result.index.get_level_values('Order') == _order]\n",
    "    _min=int1.min()\n",
    "    _max=int1.max()\n",
    "    _mean1=int1.mean()\n",
    "    int1.drop(keep_list, axis=1, inplace=True)\n",
    "    colors=int1['Level'].map(lambda x:_color[int(x)])\n",
    "    int1['Level']=int1['Level'].map(lambda x:niv[int(x)])\n",
    "    color_set=colors.drop_duplicates().to_list()\n",
    "    int1=int1.melt(id_vars=['Level'])\n",
    "    sns.pointplot(x=int1['variable'],y=int1['value'],data=int1,hue=int1['Level'],palette=color_set,ax=_ax,ci='sd',dodge=0.2)\n",
    "    _ax.set_title('Interaction ' + str(_order + 1), loc='left', pad=3)\n",
    "    _ax.set_ylabel(None)\n",
    "    _ax.set_xlabel(None)\n",
    "    _ax.tick_params(axis='y',pad=-1)\n",
    "    _ax.legend(loc='upper right',title='Level')\n",
    "    _ax.set_xticklabels(\"\")\n",
    "    return int1\n",
    "\n",
    "def box_plot(ax, c, r, keep_list):\n",
    "    r=r[[keep_list[c], 'Level']]\n",
    "    r=r.reset_index('Order',drop=False)\n",
    "    r2=r.copy()\n",
    "    color_palette=sns.mpl_palette('RdYlBu_r',3)\n",
    "    color_palette.append('gray')\n",
    "    r2['Order']=3\n",
    "    r=r.append(r2)\n",
    "    sns.boxplot(ax=ax, y='Order', x=keep_list[c], data=r, orient='h', hue='Order', dodge=False, palette=color_palette)\n",
    "    sns.swarmplot(ax=ax, y='Order', x=keep_list[c], data=r, orient='h', hue='Level', palette='Paired', dodge=True, s=10, marker='x', linewidth=3)\n",
    "    ax.set_title(keep_list[c], loc='center', pad=3)\n",
    "    ax.get_legend().remove()\n",
    "    ax.set_ylabel(None)\n",
    "    ax.set_yticklabels(['Interaction 1','Interaction 2','Interaction 3','Average'])\n",
    "    return\n",
    "\n",
    "def time_level_plot(_df, df_level, order_choice, ax, regression_order):\n",
    "        if order_choice is None:\n",
    "            _df=_df.droplevel('Order')\n",
    "            level_list=df_level\n",
    "        else:\n",
    "            _df=_df.xs(order_choice, level='Order')\n",
    "            level_list=df_level[order_choice]\n",
    "        for lvl in level_list:\n",
    "            level_df=_df.xs(lvl,level='Level').melt().applymap(lambda x:int(x))\n",
    "            sns.regplot(x='variable', y='value', data=level_df, color=_color[lvl], ax=ax, order=regression_order, x_estimator=np.mean, scatter=False, ci=None)\n",
    "        ax.set_ylabel(None)\n",
    "        ax.set_xticklabels(\"\")\n",
    "        ax.set_xlabel(None)\n",
    "        ax.tick_params(axis='y',pad=-1)\n",
    "        return\n"
   ]
  },
  {
   "cell_type": "code",
   "execution_count": 4,
   "id": "78734c60-8949-4c41-b049-78fb1fb15354",
   "metadata": {
    "jupyter": {
     "source_hidden": true
    },
    "tags": []
   },
   "outputs": [],
   "source": [
    "survey=pd.read_excel(\"Enquete.xlsx\")\n",
    "survey['Nom']=listNames\n",
    "intro= survey.iloc[:, [4, 7, 10, 16]]\n",
    "subject_level_df= survey.iloc[:, [4, 21, 24, 27, 30, 33, 36, 39, 42]]\n",
    "detail= survey.iloc[:, [4, 45, 48]]\n",
    "interaction1_feedback= survey.iloc[:, [4, 51, 54, 57, 60, 63]]\n",
    "interaction1_feedback.set_index('Nom', inplace=True)\n",
    "interaction2_feedback= survey.iloc[:, [4, 69, 72, 75, 78, 81]]\n",
    "interaction2_feedback.set_index('Nom', inplace=True)\n",
    "interaction3_feedback= survey.iloc[:, [4, 87, 90, 93, 96, 99]]\n",
    "interaction3_feedback.set_index('Nom', inplace=True)\n",
    "posteriori_interaction1_feedback= survey.iloc[:, [4, 105, 108, 111, 114, 117]]\n",
    "posteriori_interaction1_feedback.set_index('Nom', inplace=True)\n",
    "posteriori_interaction2_feedback= survey.iloc[:, [4, 123, 126, 129, 132, 135]]\n",
    "posteriori_interaction2_feedback.set_index('Nom', inplace=True)\n",
    "posteriori_interaction3_feedback= survey.iloc[:, [4, 141, 144, 147, 150, 153]]\n",
    "posteriori_interaction3_feedback.set_index('Nom', inplace=True)\n",
    "col=interaction1_feedback.columns\n",
    "interaction2_feedback.columns=col\n",
    "interaction3_feedback.columns=col\n",
    "posteriori_interaction1_feedback.columns=col\n",
    "posteriori_interaction2_feedback.columns=col\n",
    "posteriori_interaction3_feedback.columns=col\n",
    "interaction_feedback=[interaction1_feedback, interaction2_feedback, interaction3_feedback]\n",
    "posteriori_interaction_feedback=[posteriori_interaction1_feedback, posteriori_interaction2_feedback, posteriori_interaction3_feedback]\n",
    "def convert_subject_level(n):\n",
    "        _level=[\"Aucune expérience\",\"Novice\",\"Limité\",\"Habitué\",\"Avancé\",\"Expert\"]\n",
    "        return _level.index(n)\n",
    "\n",
    "subject_level_df.set_index('Nom', inplace=True)\n",
    "subject_level_df=subject_level_df.applymap(convert_subject_level)\n",
    "subject_level_df['Tot']=subject_level_df[['Rhino', 'Grasshopper']].mean(axis=1).round(0).convert_dtypes(convert_integer=True)\n",
    "subject_level_df['Tot'].quantile(q=0.5)\n",
    "def profile(n):\n",
    "    low=n.quantile(q=0.33)\n",
    "    high=n.quantile(q=0.66)\n",
    "    p=[]\n",
    "    for x in n:\n",
    "        if x <= low:\n",
    "            p.append(0)\n",
    "        elif low<x<=high:\n",
    "            p.append(1)\n",
    "        elif high<x:\n",
    "            p.append(2)\n",
    "    return p\n",
    "\n",
    "profile=subject_level_df.apply(profile, axis=0)"
   ]
  },
  {
   "cell_type": "code",
   "execution_count": 87,
   "id": "b957511e-61dd-4795-a6fb-6ae0674331e8",
   "metadata": {
    "jupyter": {
     "source_hidden": true
    },
    "tags": []
   },
   "outputs": [
    {
     "data": {
      "text/plain": "                                            0     1    2    3    4     5   \\\nName   Level     Order Type        Object                                   \nKhulan 303112001 1     Grasshopper 2       3.0  16.0  7.0  5.0  3.0  11.0   \n                                   3       0.0   4.0  3.0  6.0  9.0  18.0   \n                                   4       0.0   0.0  1.0  7.0  2.0   1.0   \n                 2     Hybrid      2       2.0   1.0  3.0  3.0  1.0   3.0   \n                                   3       0.0   0.0  1.0  2.0  0.0   1.0   \n...                                        ...   ...  ...  ...  ...   ...   \nStephB 404223002 1     Hybrid      3       0.0   2.0  3.0  1.0  2.0   1.0   \n                                   4       0.0   1.0  0.0  0.0  2.0   1.0   \n                 2     Plugin      2       0.0   0.0  1.0  1.0  1.0   1.0   \n                                   3       0.0   2.0  0.0  1.0  0.0   3.0   \n                                   4       0.0   0.0  0.0  0.0  0.0   0.0   \n\n                                             6     7     8    9     10  \nName   Level     Order Type        Object                               \nKhulan 303112001 1     Grasshopper 2       11.0  11.0  12.0  3.0  39.0  \n                                   3        6.0  19.0   7.0  2.0  17.0  \n                                   4        2.0   0.0   0.0  0.0   7.0  \n                 2     Hybrid      2        3.0   3.0   1.0  2.0   2.0  \n                                   3        1.0   1.0   2.0  1.0   1.0  \n...                                         ...   ...   ...  ...   ...  \nStephB 404223002 1     Hybrid      3        1.0   1.0   3.0  1.0   2.0  \n                                   4        0.0   3.0   1.0  1.0   2.0  \n                 2     Plugin      2        1.0   1.0   4.0  0.0   3.0  \n                                   3        4.0   4.0   6.0  9.0   6.0  \n                                   4        1.0   0.0   0.0  1.0   3.0  \n\n[126 rows x 11 columns]",
      "text/html": "<div>\n<style scoped>\n    .dataframe tbody tr th:only-of-type {\n        vertical-align: middle;\n    }\n\n    .dataframe tbody tr th {\n        vertical-align: top;\n    }\n\n    .dataframe thead th {\n        text-align: right;\n    }\n</style>\n<table border=\"1\" class=\"dataframe\">\n  <thead>\n    <tr style=\"text-align: right;\">\n      <th></th>\n      <th></th>\n      <th></th>\n      <th></th>\n      <th></th>\n      <th>0</th>\n      <th>1</th>\n      <th>2</th>\n      <th>3</th>\n      <th>4</th>\n      <th>5</th>\n      <th>6</th>\n      <th>7</th>\n      <th>8</th>\n      <th>9</th>\n      <th>10</th>\n    </tr>\n    <tr>\n      <th>Name</th>\n      <th>Level</th>\n      <th>Order</th>\n      <th>Type</th>\n      <th>Object</th>\n      <th></th>\n      <th></th>\n      <th></th>\n      <th></th>\n      <th></th>\n      <th></th>\n      <th></th>\n      <th></th>\n      <th></th>\n      <th></th>\n      <th></th>\n    </tr>\n  </thead>\n  <tbody>\n    <tr>\n      <th rowspan=\"5\" valign=\"top\">Khulan</th>\n      <th rowspan=\"5\" valign=\"top\">303112001</th>\n      <th rowspan=\"3\" valign=\"top\">1</th>\n      <th rowspan=\"3\" valign=\"top\">Grasshopper</th>\n      <th>2</th>\n      <td>3.0</td>\n      <td>16.0</td>\n      <td>7.0</td>\n      <td>5.0</td>\n      <td>3.0</td>\n      <td>11.0</td>\n      <td>11.0</td>\n      <td>11.0</td>\n      <td>12.0</td>\n      <td>3.0</td>\n      <td>39.0</td>\n    </tr>\n    <tr>\n      <th>3</th>\n      <td>0.0</td>\n      <td>4.0</td>\n      <td>3.0</td>\n      <td>6.0</td>\n      <td>9.0</td>\n      <td>18.0</td>\n      <td>6.0</td>\n      <td>19.0</td>\n      <td>7.0</td>\n      <td>2.0</td>\n      <td>17.0</td>\n    </tr>\n    <tr>\n      <th>4</th>\n      <td>0.0</td>\n      <td>0.0</td>\n      <td>1.0</td>\n      <td>7.0</td>\n      <td>2.0</td>\n      <td>1.0</td>\n      <td>2.0</td>\n      <td>0.0</td>\n      <td>0.0</td>\n      <td>0.0</td>\n      <td>7.0</td>\n    </tr>\n    <tr>\n      <th rowspan=\"2\" valign=\"top\">2</th>\n      <th rowspan=\"2\" valign=\"top\">Hybrid</th>\n      <th>2</th>\n      <td>2.0</td>\n      <td>1.0</td>\n      <td>3.0</td>\n      <td>3.0</td>\n      <td>1.0</td>\n      <td>3.0</td>\n      <td>3.0</td>\n      <td>3.0</td>\n      <td>1.0</td>\n      <td>2.0</td>\n      <td>2.0</td>\n    </tr>\n    <tr>\n      <th>3</th>\n      <td>0.0</td>\n      <td>0.0</td>\n      <td>1.0</td>\n      <td>2.0</td>\n      <td>0.0</td>\n      <td>1.0</td>\n      <td>1.0</td>\n      <td>1.0</td>\n      <td>2.0</td>\n      <td>1.0</td>\n      <td>1.0</td>\n    </tr>\n    <tr>\n      <th>...</th>\n      <th>...</th>\n      <th>...</th>\n      <th>...</th>\n      <th>...</th>\n      <td>...</td>\n      <td>...</td>\n      <td>...</td>\n      <td>...</td>\n      <td>...</td>\n      <td>...</td>\n      <td>...</td>\n      <td>...</td>\n      <td>...</td>\n      <td>...</td>\n      <td>...</td>\n    </tr>\n    <tr>\n      <th rowspan=\"5\" valign=\"top\">StephB</th>\n      <th rowspan=\"5\" valign=\"top\">404223002</th>\n      <th rowspan=\"2\" valign=\"top\">1</th>\n      <th rowspan=\"2\" valign=\"top\">Hybrid</th>\n      <th>3</th>\n      <td>0.0</td>\n      <td>2.0</td>\n      <td>3.0</td>\n      <td>1.0</td>\n      <td>2.0</td>\n      <td>1.0</td>\n      <td>1.0</td>\n      <td>1.0</td>\n      <td>3.0</td>\n      <td>1.0</td>\n      <td>2.0</td>\n    </tr>\n    <tr>\n      <th>4</th>\n      <td>0.0</td>\n      <td>1.0</td>\n      <td>0.0</td>\n      <td>0.0</td>\n      <td>2.0</td>\n      <td>1.0</td>\n      <td>0.0</td>\n      <td>3.0</td>\n      <td>1.0</td>\n      <td>1.0</td>\n      <td>2.0</td>\n    </tr>\n    <tr>\n      <th rowspan=\"3\" valign=\"top\">2</th>\n      <th rowspan=\"3\" valign=\"top\">Plugin</th>\n      <th>2</th>\n      <td>0.0</td>\n      <td>0.0</td>\n      <td>1.0</td>\n      <td>1.0</td>\n      <td>1.0</td>\n      <td>1.0</td>\n      <td>1.0</td>\n      <td>1.0</td>\n      <td>4.0</td>\n      <td>0.0</td>\n      <td>3.0</td>\n    </tr>\n    <tr>\n      <th>3</th>\n      <td>0.0</td>\n      <td>2.0</td>\n      <td>0.0</td>\n      <td>1.0</td>\n      <td>0.0</td>\n      <td>3.0</td>\n      <td>4.0</td>\n      <td>4.0</td>\n      <td>6.0</td>\n      <td>9.0</td>\n      <td>6.0</td>\n    </tr>\n    <tr>\n      <th>4</th>\n      <td>0.0</td>\n      <td>0.0</td>\n      <td>0.0</td>\n      <td>0.0</td>\n      <td>0.0</td>\n      <td>0.0</td>\n      <td>1.0</td>\n      <td>0.0</td>\n      <td>0.0</td>\n      <td>1.0</td>\n      <td>3.0</td>\n    </tr>\n  </tbody>\n</table>\n<p>126 rows × 11 columns</p>\n</div>"
     },
     "metadata": {},
     "output_type": "display_data"
    }
   ],
   "source": [
    "iterations_df=pd.DataFrame()\n",
    "time_iterations_df=pd.DataFrame()\n",
    "time_phases_df=pd.DataFrame()\n",
    "time_unique_df=pd.DataFrame()\n",
    "phase_df=pd.DataFrame()\n",
    "unique_df=pd.DataFrame()\n",
    "feedback_df=pd.DataFrame()\n",
    "for name in listNames:\n",
    "    path = 'input/'+ name + '/' + name +'.csv'\n",
    "    test = pd.read_csv(path,sep=';')\n",
    "    test[\"Time\"] = pd.to_datetime(test[\"Time\"],format = '%H:%M:%S:%f')\n",
    "    Implementations,Index,Order = context_reorder(test, 0)\n",
    "    diff_df_list=[]\n",
    "    phase=pd.DataFrame()\n",
    "    int_feedback=[_x for _, _x in sorted(zip(Order, interaction_feedback))]\n",
    "    int_feedback_post=[_x for _, _x in sorted(zip(Order, posteriori_interaction_feedback))]\n",
    "    unique=pd.DataFrame()\n",
    "    _time_iterations=pd.DataFrame()\n",
    "    _time_phases=pd.DataFrame()\n",
    "    _time_unique=pd.DataFrame()\n",
    "    iteration=pd.DataFrame()\n",
    "    _time=[]\n",
    "    i=0\n",
    "    time_intervals=11\n",
    "    for implementation in Implementations:\n",
    "        implementation['Object']=implementation['Object'].map(lambda x:((x % 1)*10).__round__(0)).convert_dtypes(convert_integer=True)\n",
    "        implementation = implementation.set_index(['Object'],append=True)\n",
    "        implementation = implementation.rename_axis(['int','Object'])\n",
    "        imp2=sub_selection(implementation,2)\n",
    "        last2=imp2['Time'].iloc[-1]\n",
    "        first2=imp2['Time'].iloc[0]\n",
    "        imp3=sub_selection(implementation,3)\n",
    "        last3=imp3['Time'].iloc[-1]\n",
    "        first3=imp3['Time'].iloc[0]\n",
    "        imp4=sub_selection(implementation,4)\n",
    "        last4=imp4['Time'].iloc[-1]\n",
    "        first4=imp4['Time'].iloc[0]\n",
    "        delta_time2 = last2 - first2\n",
    "        delta_time3 = last3 - first3\n",
    "        delta_time4 = last4 - first4\n",
    "        _time.append(delta_time2.seconds)\n",
    "        _time.append(delta_time3.seconds)\n",
    "        _time.append(delta_time4.seconds)\n",
    "        diff_df_list.append(diff_analysis(sub_selection(implementation,2)).rename_axis([Index[i],'Object']))\n",
    "        diff_df_list.append(diff_analysis(sub_selection(implementation,3)).rename_axis([Index[i],'Object']))\n",
    "        diff_df_list.append(diff_analysis(sub_selection(implementation,4)).rename_axis([Index[i],'Object']))\n",
    "        for k in range(2,5):\n",
    "            time_unique=pd.DataFrame()\n",
    "            imp=sub_selection(implementation,k)\n",
    "            start_time=imp['Time'].iloc[0]\n",
    "            imp['Time']= imp['Time'] - start_time\n",
    "            imp['Time']=imp['Time'].map(lambda x:x.seconds)\n",
    "            start_time=imp['Time'].iloc[0]\n",
    "            end_time=imp['Time'].iloc[-1]\n",
    "            timerange=round((end_time / time_intervals), 2)\n",
    "            for j in range(1, time_intervals):\n",
    "                _imp2=imp[(imp['Time'] > start_time) & (imp['Time'] < (start_time + timerange * j))]\n",
    "                _imp2=_imp2.nunique()\n",
    "                imp1=imp[(imp['Time'] > start_time) & (imp['Time'] < (start_time + timerange * (j + 1)))].nunique()\n",
    "                imp1=imp1-_imp2\n",
    "                time_unique=time_unique.append(imp1.drop(['Time']),ignore_index=True)\n",
    "\n",
    "            time_unique[Index[i]]=time_unique.sum(axis=1).map(lambda _x:int(_x))\n",
    "            time_unique=time_unique[Index[i]]\n",
    "            time_unique.rename(k,inplace=True)\n",
    "            _time_unique=_time_unique.append(time_unique)\n",
    "\n",
    "        _unique=pd.Series(imp2.drop(['Time'],axis=1).nunique(axis=0),name=Index[i])\n",
    "        _unique['Object']=2\n",
    "        _unique['Order']=Order.index(i+1)+1\n",
    "        unique=unique.append(_unique)\n",
    "        _unique=pd.Series(imp3.drop(['Time'],axis=1).nunique(axis=0),name=Index[i])\n",
    "        _unique['Object']=3\n",
    "        _unique['Order']=Order.index(i+1)+1\n",
    "        unique=unique.append(_unique)\n",
    "        _unique=pd.Series(imp4.drop(['Time'],axis=1).nunique(axis=0),name=Index[i])\n",
    "        _unique['Object']=4\n",
    "        _unique['Order']=Order.index(i+1)+1\n",
    "        unique=unique.append(_unique)\n",
    "        i+=1\n",
    "    i=0\n",
    "    \n",
    "    for diff_df in diff_df_list:\n",
    "        _type_=diff_df.index.names[0]\n",
    "        diff_df['Time']-=diff_df['Time'].iloc[0]\n",
    "        start_time=diff_df['Time'].iloc[0]\n",
    "        end_time=diff_df['Time'].iloc[-1]\n",
    "        timerange= (end_time - start_time) / time_intervals\n",
    "        diff_df.reset_index('Object',inplace=True)\n",
    "        diff_df.set_index('Time',inplace=True)\n",
    "        timeit=[]\n",
    "        if timerange > (start_time-start_time):\n",
    "            obj=diff_df['Object'][0]\n",
    "            st=diff_df.resample(timerange, closed='left').sum()\n",
    "            st[_type_]=st.drop('Object',axis=1).sum(axis=1)\n",
    "            st=st.reset_index()\n",
    "            st=st[_type_]\n",
    "            st.iloc[-2]=st.iloc[-2]+st.iloc[-1]\n",
    "            st=st.iloc[:-1]\n",
    "            st['Object']=obj\n",
    "        else:\n",
    "            st=pd.DataFrame(data=None,index=range(11))\n",
    "            st[_type_]=int(diff_df.sum(axis=1).values)\n",
    "            st=st[_type_]\n",
    "            st['Object']=obj\n",
    "            #display(st)\n",
    "        _time_iterations=_time_iterations.append(st)\n",
    "        l=((diff_df * 1).diff(1, 0) == 1)\n",
    "        if timerange > (start_time-start_time):\n",
    "            st=l.resample(timerange,closed='left').sum()\n",
    "            st[_type_]=st.sum(axis=1)\n",
    "            st=st.reset_index()\n",
    "            st=st[_type_]\n",
    "            st.iloc[-2]=st.iloc[-2]+st.iloc[-1]\n",
    "            st=st.iloc[:-1]\n",
    "            st['Object']=obj\n",
    "        else:\n",
    "            st=pd.DataFrame(data=None,index=range(11))\n",
    "            st[_type_]=int(l.sum(axis=1).values)\n",
    "            st=st[_type_]\n",
    "            st['Object']=obj\n",
    "        _time_phases=_time_phases.append(st)\n",
    "        l=l.sum()\n",
    "        l['Time']=_time[i]\n",
    "        l['Object']=obj\n",
    "        l['Order']=Order.index(_type.index(_type_)+1)+1\n",
    "        l.name=_type_\n",
    "        phase=phase.append(l)\n",
    "        obj=diff_df['Object'][0]\n",
    "        t=diff_df.sum()\n",
    "        t[\"Total Iterations\"]=t.drop(['Object']).sum()\n",
    "        t['Time']=_time[i]\n",
    "        t[\"Iterations / Minute\"]=t[\"Total Iterations\"]/(t['Time']/60)\n",
    "        t['Object']=obj\n",
    "        t.name=_type_\n",
    "        t['Order']=Order.index(_type.index(_type_)+1)+1\n",
    "        i=i+1\n",
    "        iteration=iteration.append(t)\n",
    "\n",
    "    prf=\"\"\n",
    "    for level in subject_level_df.loc[name].values:\n",
    "        prf=prf+str(int(level)).strip()\n",
    "    Index1=_time_iterations.index\n",
    "    iterations = pd.DataFrame(iteration,index=Index1)\n",
    "    iterations=iterations.set_index(['Object','Order'],append=True)\n",
    "    total_iterations = pd.Series(iterations.sum(),name='Tot')\n",
    "    average_iterations = pd.Series(iterations.mean(),name='Average')\n",
    "    std_iterations = pd.Series(iterations.std(),name='Standard Deviation')\n",
    "    iteration=iteration.append(total_iterations)\n",
    "    iteration=iteration.append(average_iterations)\n",
    "    iteration=iteration.append(std_iterations)\n",
    "    iteration['Name']=name\n",
    "    iteration['Level']=prf\n",
    "    iteration['Object']=iteration['Object'].convert_dtypes(convert_integer=True)\n",
    "    iteration['Order']=iteration['Order'].convert_dtypes(convert_integer=True)\n",
    "    iteration.rename_axis('Type',inplace=True)\n",
    "    iteration = iteration.fillna(0)\n",
    "    iteration.set_index(['Name','Object','Order','Level'],append=True,inplace=True)\n",
    "    iteration = iteration.reorder_levels(['Name','Level','Order','Type','Object'])\n",
    "    phases = pd.DataFrame(phase,index=Index1)\n",
    "    phases=phases.set_index(['Object','Order'],append=True)\n",
    "    total_phases = pd.Series(phases.sum(),name='Tot')\n",
    "    avg_phases = pd.Series(phases.mean(),name='Average')\n",
    "    std_phases = pd.Series(phases.std(),name='Standard Deviation')\n",
    "    phase=phase.append(total_phases)\n",
    "    phase=phase.append(avg_phases)\n",
    "    phase=phase.append(std_phases)\n",
    "    phase['Name']=name\n",
    "    phase['Level']=prf\n",
    "    phase['Object']=phase['Object'].convert_dtypes(convert_integer=True)\n",
    "    phase['Order']=phase['Order'].convert_dtypes(convert_integer=True)\n",
    "    phase.rename_axis('Type',inplace=True)\n",
    "    phase = phase.fillna(0)\n",
    "    phase.set_index(['Name','Object','Order','Level'],append=True,inplace=True)\n",
    "    phase = phase.reorder_levels(['Name','Level','Order','Type','Object'])\n",
    "    unique_vals = pd.DataFrame(unique, index=Index1)\n",
    "    tot_unique_vals = pd.Series(unique_vals.sum(),name='Tot')\n",
    "    avg_unique_vals = pd.Series(unique_vals.mean(),name='Average')\n",
    "    std_unique_vals = pd.Series(unique_vals.std(),name='Standard Deviation')\n",
    "    unique.append(tot_unique_vals)\n",
    "    unique.append(avg_unique_vals)\n",
    "    unique.append(std_unique_vals)\n",
    "    #display(unique)\n",
    "    #display(phase)\n",
    "    Name = [name]\n",
    "    Index2 = pd.MultiIndex.from_product([Name,Index],names=[\"Name\",\"Type\"])\n",
    "    index_frame2=Index2.to_frame()\n",
    "    #Index = pd.MultiIndex.from_product([Name,Index],names=[\"Name\",\"Type\"])\n",
    "    #index_frame=Index.to_frame()\n",
    "    order=[]\n",
    "    for item in range(1,7):\n",
    "        if item in Order:\n",
    "            order.append(int(Order.index(item)))\n",
    "        else:\n",
    "            order.append(\"-\")\n",
    "    Index=iteration.drop(['Tot','Average','Standard Deviation'],axis=0,level='Type').index\n",
    "    #index_frame['Order']=order\n",
    "    index_frame2['Order']= order[:-3]\n",
    "    index_frame2['Level']=prf\n",
    "    index_frame2=index_frame2[['Name', 'Level', 'Order', 'Type']]\n",
    "    Index2=pd.MultiIndex.from_frame(index_frame2)\n",
    "    #index_frame['Level']=prf\n",
    "    #index_frame=index_frame[['Name', 'Level', 'Order', 'Type']]\n",
    "    #Index=pd.MultiIndex.from_frame(index_frame)\n",
    "    feedback_post=pd.DataFrame([int_feedback_post[0].xs(name), int_feedback_post[1].xs(name), int_feedback_post[2].xs(name)], index=Index2)\n",
    "    feedback=pd.DataFrame([int_feedback[0].xs(name), int_feedback[1].xs(name), int_feedback[2].xs(name)], index=Index2)\n",
    "    #Index2 = pd.MultiIndex.from_product([Index2,[2,3,4]],names=[['Name', 'Level', 'Order', 'Type'],'Object'])\n",
    "    _time_iterations=pd.DataFrame(_time_iterations.drop(['Object'],axis=1).values, index=Index)\n",
    "    _time_phases=pd.DataFrame(_time_phases.drop(['Object'],axis=1).values, index=Index)\n",
    "    #_time_unique=pd.DataFrame(_time_unique.values, index=Index2)\n",
    "\n",
    "    feedback['Survey']= 'A'\n",
    "    feedback_post['Survey']= 'B'\n",
    "    feedback=feedback.append(feedback_post)\n",
    "    feedback.set_index('Survey', append=True, inplace=True)\n",
    "    #iterations = pd.DataFrame(iteration,index=Index)\n",
    "    #unique = pd.DataFrame(unique,index=Index)\n",
    "    unique['Max']=unique.max(axis=1)\n",
    "    unique['Total']=unique.drop('Max',axis=1).sum(axis=1)\n",
    "    unique['CV']=unique.drop(['Total','Max'],axis=1).std(axis=1)/unique.drop(['Total','Max'],axis=1).mean(axis=1)\n",
    "    #phases = pd.DataFrame(phase,index=Index)\n",
    "    phases['Max']=phases.drop('Time',axis=1).max(axis=1)\n",
    "    phases['Total']=phases.drop(['Max','Time'],axis=1).sum(axis=1)\n",
    "    phases['Average']=phases.drop(['Total','Max','Time'],axis=1).mean(axis=1)\n",
    "\n",
    "    if iterations_df.shape[0]>1:\n",
    "        iterations_df = iterations_df.append(iteration)\n",
    "        phase_df = phase_df.append(phases)\n",
    "        unique_df = unique_df.append(unique)\n",
    "        feedback_df = feedback_df.append(feedback)\n",
    "        time_iterations_df=time_iterations_df.append(_time_iterations)\n",
    "        time_phases_df=time_phases_df.append(_time_phases)\n",
    "        time_unique_df=time_unique_df.append(_time_unique)\n",
    "    elif iterations_df.shape[0]<1 :\n",
    "        iterations_df=iteration\n",
    "        phase_df=phases\n",
    "        feedback_df = feedback\n",
    "        time_iterations_df = _time_iterations\n",
    "        time_phases_df = _time_phases\n",
    "        time_unique_df= _time_unique\n",
    "iterations_df['Time']=iterations_df['Time'].apply(timeconvert)\n",
    "phase_df['Time']=phase_df['Time'].apply(timeconvert)\n",
    "display(time_iterations_df)\n",
    "feedback_df.columns=['Accessibility', 'Comprehension', 'Ease of Use', 'Usability', 'Satisfaction']\n",
    "feedback_df=feedback_df.reset_index(['Type', 'Level', 'Order', 'Survey'], drop=False)\n",
    "feedback_df=feedback_df.melt(id_vars=['Type', 'Level', 'Order', 'Survey'])"
   ]
  },
  {
   "cell_type": "code",
   "execution_count": null,
   "id": "cb130c6b-b98d-419e-8fef-09c2b17462b1",
   "metadata": {
    "jupyter": {
     "source_hidden": true
    },
    "tags": []
   },
   "outputs": [],
   "source": [
    "def double_plot(df, clname, ax1, ax2, title, color_list, _level, fn, _color='#bde0fe'):\n",
    "    \n",
    "    time=df[clname]\n",
    "    time=time.reset_index(level=_level)\n",
    "    time['x']=title\n",
    "    ax1.margins(y=0.1)\n",
    "    r=sns.regplot(x=time[_level].map(fn),y=time[clname],ax=ax1,x_estimator=np.mean,order=2)\n",
    "    _markers=r.get_children()\n",
    "    _markers[0].set_facecolors(color_list)\n",
    "    _lines=r.get_lines()\n",
    "    it=0\n",
    "    for line in _lines[:-1]:\n",
    "        line.set_color(color_list[it])\n",
    "        it+=1\n",
    "        line.set_zorder(3)\n",
    "    _markers[0].set_zorder(4)\n",
    "    ax1.set_xticklabels(\"\")\n",
    "    ax1.set_ylim(bottom=0)\n",
    "    ax1.tick_params(axis='x',length=0)\n",
    "    \n",
    "    if ax2 is not None:\n",
    "        sns.violinplot(x='x',y=time[clname],data=time,ax=ax2,positions=[2],inner='quartile',cut=0,color='#EDF6F9',alpha=0.2,zorder=1)\n",
    "        sns.swarmplot(x='x', y=time[clname], data=time, hue=time[_level], ax=ax2, palette=color_list, edgecolor=\"grey\", linewidth=0.4, dodge=True, s=7)\n",
    "        ax2.get_legend().remove()\n",
    "        ax2.set_xticklabels(\"\")\n",
    "        ax2.set_frame_on(False)\n",
    "        ax2.grid(visible=True)\n",
    "        ax2.set_ylabel(None)\n",
    "        ax2.set_xlabel(None)\n",
    "\n",
    "    ax1.set_frame_on(False)\n",
    "    ax1.set_ylabel(None)\n",
    "    ax1.set_xlabel(None)\n",
    "    return 1\n",
    "def choose_level(_df, b):\n",
    "    _df=_df.reset_index(level='Level')\n",
    "    _df['Level']=_df['Level'].map(lambda x:int(x[b]))\n",
    "    level_length=_df['Level'].value_counts().sort_index()\n",
    "    _df.set_index(['Level'],append=True,inplace=True)\n",
    "    _df.sort_index(axis=0,level='Level',inplace=True)\n",
    "    return _df,level_length"
   ]
  },
  {
   "cell_type": "code",
   "execution_count": null,
   "id": "f9224434-25f7-4340-b16a-5629f9cd3067",
   "metadata": {
    "jupyter": {
     "source_hidden": true
    },
    "tags": []
   },
   "outputs": [],
   "source": [
    "def context_analysis(a, df, time_df, study_columns, b, title, y2=0.175):\n",
    "    it2=df.xs(_type[a], level='Type')\n",
    "    if 'Time' in it2.columns:it2['Time']=it2['Time'].apply(time_to_sec)\n",
    "    it2,level_length = choose_level(it2, b)\n",
    "    it=it2[study_columns]\n",
    "    it2=it2.drop(study_columns, axis=1)\n",
    "    fig=plt.figure(figsize=(22,12),facecolor=\"#fefdfd\")\n",
    "    _Title=str(_type[a])\n",
    "    fig.title=str(title)\n",
    "    gs = GridSpec(6,30,figure=fig)\n",
    "    ax1=fig.add_subplot(gs[2:4,:3])\n",
    "    ax3=fig.add_subplot(gs[2:4,4:7])\n",
    "    ax4=fig.add_subplot(gs[2:4,8:11])\n",
    "    ax9=fig.add_subplot(gs[4:,12:])\n",
    "    ax5=fig.add_subplot(gs[4:,12:])\n",
    "    ax2=fig.add_subplot(gs[2:4,12:],sharex=ax9)\n",
    "    ax6=fig.add_subplot(gs[4:,:3])\n",
    "    ax7=fig.add_subplot(gs[4:,4:7])\n",
    "    ax8=fig.add_subplot(gs[4:,8:11])\n",
    "    ax10=fig.add_subplot(gs[1:2,:3])\n",
    "    ax11=fig.add_subplot(gs[1:2,4:7])\n",
    "    ax12=fig.add_subplot(gs[1:2,8:11])\n",
    "    ax13=fig.add_subplot(gs[:2,12:30])\n",
    "    ax14=fig.add_subplot(gs[:1,:12])\n",
    "    sns.heatmap(it2.droplevel(['Order','Level']),annot=True,ax=ax5,cbar=False,cmap=\"vlag\",linewidth=0.5)\n",
    "    ax5.set_yticklabels(\"\")\n",
    "    ax5.set_ylabel(None)\n",
    "    ax9.set_yticklabels(\"\")\n",
    "    ax9.set_ylabel(None)\n",
    "    ax9.set_xticklabels(\"\")\n",
    "    ax9.set_xlabel(None)\n",
    "    locs=ax5.get_xticks()\n",
    "    ax2.set_xticks(locs)\n",
    "    time=pd.DataFrame(it[study_columns[0]].droplevel(['Level', 'Order']))\n",
    "    ax9.tick_params(axis='y',tickdir='in')\n",
    "    tot_it=pd.DataFrame(it[study_columns[1]])\n",
    "    sns.heatmap(time,ax=ax6,cbar=False,annot=True,cmap=\"vlag\")\n",
    "    sns.heatmap(tot_it,ax=ax7,cbar=False,annot=True,cmap=\"vlag\",fmt=\"g\")\n",
    "    ax7.set_yticklabels(\"\")\n",
    "    ax7.set_ylabel(None)\n",
    "    ax7.set_xticklabels(\"\")\n",
    "    ax7.set_xlabel(study_columns[1])\n",
    "    it_min=pd.DataFrame(it[study_columns[2]])\n",
    "    sns.heatmap(it_min,ax=ax8,cbar=False,annot=True,cmap=\"vlag\")\n",
    "    ax8.set_yticklabels(\"\")\n",
    "    ax8.set_ylabel(None)\n",
    "    ax8.set_xticklabels(\"\")\n",
    "    ax8.set_xlabel(study_columns[2])\n",
    "\n",
    "    level_plot_df=it2.droplevel(['Order'])\n",
    "    level_plot_df.columns=locs\n",
    "    colors=sns.mpl_palette(\"Paired\",6)\n",
    "    level_plot_df=level_plot_df.reset_index(level='Level',drop=False)\n",
    "    color_set=level_plot_df['Level'].map(lambda _x:colors[_x])\n",
    "    color_set=color_set.drop_duplicates().to_list()\n",
    "    levels=['No experience','Novice','Limited','Basic','Advanced','Expert']\n",
    "    level_plot_df['Level']=level_plot_df['Level'].map(lambda _x:levels[_x])\n",
    "    ax2lines=ax2.get_lines()\n",
    "    _it=0\n",
    "    for line in ax2lines:\n",
    "        line.set_color(color_set[_it])\n",
    "        line.set_linewidth(0.5)\n",
    "        _it+=1\n",
    "    level_plot_df=level_plot_df.melt(id_vars='Level')\n",
    "    sns.pointplot(x=level_plot_df['variable'],y=level_plot_df['value'],hue=level_plot_df['Level'],palette=color_set,data=level_plot_df,ax=ax2,dodge=0.5)\n",
    "    \n",
    "    context_feedback=feedback_df[feedback_df['Type'] == _type[a - 1]]\n",
    "    context_feedback['Level']=context_feedback['Level'].map(lambda _x:_x[b])\n",
    "    plot_feedback(ax14, None, context_feedback)\n",
    "    ax14.set_frame_on(False)\n",
    "    \n",
    "    double_plot(it, study_columns[0], ax10, ax1, 'Time in minutes', color_set, 'Level', (lambda _x:_x))\n",
    "    double_plot(it, study_columns[1], ax11, ax3, 'Iterations', color_set, 'Level', (lambda _x:_x))\n",
    "    double_plot(it, study_columns[2], ax12, ax4, 'Iterations/Minute', color_set, 'Level', (lambda _x:_x))\n",
    "    \n",
    "    df=time_df.xs(_type[a - 1], level='Type').reset_index('Level', drop=False)\n",
    "    df['Level']=df['Level'].map(lambda _x:int(_x[b]))\n",
    "    df_level=df['Level'].unique()\n",
    "    df.set_index(['Level'],append=True,inplace=True)\n",
    "    time_level_plot(df, df_level, None, ax13, 3)\n",
    "    ax13.set_frame_on(False)\n",
    "    fig.suptitle(title + \": \" + _Title, fontsize=20, y=0.92)\n",
    "\n",
    "    x1=0.125\n",
    "    x2=0.9\n",
    "    y1=0.361\n",
    "    _t=pd.Series([0,0,0,0,0,0])\n",
    "    level_length=_t.T.add(level_length,fill_value=0.0,axis=0)\n",
    "    h_cell=(y1-y2)/(len(it[str(study_columns[0])]) - 3)\n",
    "    _h_cell=h_cell*(level_length.loc[0])\n",
    "    y2=y1-_h_cell+0.001*2\n",
    "    x=[(x1,x2),(x2,x1),(x1,x1)]\n",
    "    y=[(y1,y1),(y2,y2),(y2,y1)]\n",
    "    line1 = lines.Line2D(x,y,transform=fig.transFigure,c=colors[0],linewidth=2)\n",
    "    y1=y2-0.001*2\n",
    "    _h_cell=h_cell*(level_length.loc[1])\n",
    "    y2=y1-_h_cell+0.001*2\n",
    "    x=[(x1,x2),(x2,x1),(x1,x1)]\n",
    "    y=[(y1,y1),(y2,y2),(y2,y1)]\n",
    "    line2 = lines.Line2D(x,y,transform=fig.transFigure,c=colors[1],linewidth=2)\n",
    "    y1=y2-0.001*2\n",
    "    _h_cell=h_cell*(level_length.loc[2])\n",
    "    y2=y1-_h_cell+0.001*2\n",
    "    x=[(x1,x2),(x2,x1),(x1,x1)]\n",
    "    y=[(y1,y1),(y2,y2),(y2,y1)]\n",
    "    line3 = lines.Line2D(x,y,transform=fig.transFigure,c=colors[2],linewidth=2)\n",
    "    y1=y2-0.001*2\n",
    "    _h_cell=h_cell*(level_length.loc[3])\n",
    "    y2=y1-_h_cell+0.001*2\n",
    "    x=[(x1,x2),(x2,x1),(x1,x1)]\n",
    "    y=[(y1,y1),(y2,y2),(y2,y1)]\n",
    "    line4 = lines.Line2D(x,y,transform=fig.transFigure,c=colors[3],linewidth=2)\n",
    "    y1=y2-0.001*2\n",
    "    _h_cell=h_cell*(level_length.loc[4])\n",
    "    y2=y1-_h_cell+0.001*1\n",
    "    x=[(x1,x2),(x2,x1),(x1,x1)]\n",
    "    y=[(y1,y1),(y2,y2),(y2,y1)]\n",
    "    line5 = lines.Line2D(x,y,transform=fig.transFigure,c=colors[4],linewidth=2)\n",
    "    y1=y2-0.0015*1\n",
    "    _h_cell=h_cell*(level_length.loc[5])\n",
    "    y2=y1-_h_cell+0.0015*0\n",
    "    x=[(x1,x2),(x2,x1),(x1,x1)]\n",
    "    y=[(y1,y1),(y2,y2),(y2,y1)]\n",
    "    line6 = lines.Line2D(x,y,transform=fig.transFigure,c=colors[5],linewidth=2)\n",
    "    if level_length.loc[5]<0.5:line6.set_linewidth(0)\n",
    "    fig.lines = line1,line2,line3,line4,line5,line6\n",
    "    if level_length.loc[0]<0.5:line1.set_linewidth(0)\n",
    "    fig.lines = line1,line2,line3,line4,line5,line6\n",
    "    ax2.set_frame_on(False)\n",
    "    ax2.set_xlabel(None)\n",
    "    ax2.tick_params(axis='y',tickdir='in')\n",
    "    ax2.tick_params(axis='x',tickdir='out')\n",
    "    ax5.tick_params(axis='x',tickdir='out',top=True)\n",
    "    ax2.set_ylabel(None)\n",
    "    ax2.set_xticklabels(\"\")\n",
    "    ax6.set_ylabel(None)\n",
    "    ax12.set_frame_on(False)\n",
    "    ax12.set_ylabel(None)\n",
    "    ax12.set_xlabel(None)\n",
    "    return 1"
   ]
  },
  {
   "cell_type": "markdown",
   "id": "6a80f781-f004-4c6b-aa05-1856cfc5d782",
   "metadata": {
    "tags": []
   },
   "source": [
    "# Iterations"
   ]
  },
  {
   "cell_type": "code",
   "execution_count": 76,
   "id": "5e19e04d-ea22-43e2-8adf-86b4dee9bc3b",
   "metadata": {
    "tags": []
   },
   "outputs": [
    {
     "data": {
      "text/plain": "                                                    TileXSize  TileYSize  \\\nName     Level     Order Type               Object                         \nKhulan   303112001 1     Grasshopper        2            4.00       4.00   \n                                            3            2.00       0.00   \n                                            4            0.00       0.00   \n                   2     Hybrid             2            0.00       0.00   \n                                            3            2.00       0.00   \n                                            4            2.00       0.00   \n                   3     Plugin             2            0.00       0.00   \n                                            3            0.00       0.00   \n                                            4            0.00       0.00   \n                   0     Tot                0           10.00       4.00   \n                         Average            0            1.11       0.44   \n                         Standard Deviation 0            1.45       1.33   \nAdrian   404000100 3     Grasshopper        2            4.00       1.00   \n                                            3            0.00       3.00   \n                                            4            4.00       0.00   \n                   1     Hybrid             2            5.00      15.00   \n                                            3            5.00       4.00   \n                                            4            5.00       4.00   \n                   2     Plugin             2            1.00       2.00   \n                                            3            4.00       2.00   \n                                            4            1.00       1.00   \n                   0     Tot                0           29.00      32.00   \n                         Average            0            3.22       3.56   \n                         Standard Deviation 0            1.99       4.50   \nMathilde 404223002 2     Grasshopper        2            0.00      15.00   \n                                            3            0.00       0.00   \n                                            4            0.00       0.00   \n                   3     Hybrid             2            0.00       0.00   \n                                            3           12.00      19.00   \n                                            4            3.00       4.00   \n                   1     Plugin             2            2.00       2.00   \n                                            3            1.00       0.00   \n                                            4            1.00       0.00   \n                   0     Tot                0           19.00      40.00   \n                         Average            0            2.11       4.44   \n                         Standard Deviation 0            3.86       7.32   \nVirgil   303334003 1     Grasshopper        2            4.00       3.00   \n                                            3            2.00       1.00   \n                                            4            0.00       0.00   \n                   3     Hybrid             2            9.00      15.00   \n                                            3            0.00       0.00   \n                                            4            0.00       0.00   \n                   2     Plugin             2            1.00       2.00   \n                                            3            0.00       1.00   \n                                            4            0.00       0.00   \n                   0     Tot                0           16.00      22.00   \n                         Average            0            1.78       2.44   \n                         Standard Deviation 0            3.03       4.82   \nFannyM   404113101 2     Grasshopper        2            4.00       4.00   \n                                            3            0.00       0.00   \n                                            4            0.00       0.00   \n                   1     Hybrid             2           11.00       5.00   \n                                            3            0.00       0.00   \n                                            4            0.00       0.00   \n                   3     Plugin             2            1.00       2.00   \n                                            3            2.00       1.00   \n                                            4            0.00       0.00   \n                   0     Tot                0           18.00      12.00   \n                         Average            0            2.00       1.33   \n                         Standard Deviation 0            3.64       1.94   \nMargaux  303221202 3     Grasshopper        2            5.00       8.00   \n                                            3            4.00       4.00   \n                                            4            2.00       2.00   \n                   2     Hybrid             2            1.00       2.00   \n                                            3            0.00      11.00   \n                                            4            0.00       0.00   \n                   1     Plugin             2            3.00       1.00   \n                                            3            0.00       0.00   \n                                            4            2.00       0.00   \n                   0     Tot                0           17.00      28.00   \n                         Average            0            1.89       3.11   \n                         Standard Deviation 0            1.83       3.92   \nJL       304420003 1     Grasshopper        2            1.00       1.00   \n                                            3            1.00       0.00   \n                                            4            0.00       0.00   \n                   2     Hybrid             2            6.00       3.00   \n                                            3            3.00       0.00   \n                                            4            4.00       4.00   \n                   3     Plugin             2            2.00       2.00   \n                                            3            2.00       1.00   \n                                            4            0.00       0.00   \n                   0     Tot                0           19.00      11.00   \n                         Average            0            2.11       1.22   \n                         Standard Deviation 0            1.96       1.48   \nHélène   404113001 3     Grasshopper        2            0.00       0.00   \n                                            3            0.00       0.00   \n                                            4            0.00       0.00   \n                   1     Hybrid             2            6.00       0.00   \n                                            3            1.00       1.00   \n                                            4            7.00       0.00   \n                   2     Plugin             2            2.00       0.00   \n                                            3            0.00       0.00   \n                                            4            0.00       0.00   \n                   0     Tot                0           16.00       1.00   \n                         Average            0            1.78       0.11   \n                         Standard Deviation 0            2.77       0.33   \nLuca     324332103 2     Grasshopper        2           18.00       8.00   \n                                            3            0.00       0.00   \n                                            4            0.00       0.00   \n                   3     Hybrid             2            0.00       0.00   \n                                            3            0.00       7.00   \n                                            4            0.00       0.00   \n                   1     Plugin             2            9.00       9.00   \n                                            3            0.00       0.00   \n                                            4            0.00       0.00   \n                   0     Tot                0           27.00      24.00   \n                         Average            0            3.00       2.67   \n                         Standard Deviation 0            6.36       4.03   \nBrice    505122002 1     Grasshopper        2            0.00       0.00   \n                                            3            0.00       0.00   \n                                            4            0.00       0.00   \n                   3     Hybrid             2            8.00       0.00   \n                                            3            7.00       3.00   \n                                            4            2.00       0.00   \n                   2     Plugin             2            1.00       0.00   \n                                            3            1.00       0.00   \n                                            4            0.00       0.00   \n                   0     Tot                0           19.00       3.00   \n                         Average            0            2.11       0.33   \n                         Standard Deviation 0            3.14       1.00   \nThiMai   304223302 2     Grasshopper        2            8.00       9.00   \n                                            3           62.00       8.00   \n                                            4           14.00      57.00   \n                   1     Hybrid             2            3.00       0.00   \n                                            3            2.00      23.00   \n                                            4            4.00       4.00   \n                   3     Plugin             2            2.00       0.00   \n                                            3            2.00       2.00   \n                                            4            1.00       3.00   \n                   0     Tot                0           98.00     106.00   \n                         Average            0           10.89      11.78   \n                         Standard Deviation 0           19.61      18.38   \nAni      303120402 3     Grasshopper        2            3.00       4.00   \n                                            3            4.00      10.00   \n                                            4            2.00       7.00   \n                   2     Hybrid             2            3.00       0.00   \n                                            3            2.00       2.00   \n                                            4            5.00      10.00   \n                   1     Plugin             2            2.00       3.00   \n                                            3            5.00       2.00   \n                                            4            5.00       3.00   \n                   0     Tot                0           31.00      41.00   \n                         Average            0            3.44       4.56   \n                         Standard Deviation 0            1.33       3.61   \nRomain   323341324 1     Grasshopper        2           11.00       2.00   \n                                            3            0.00       0.00   \n                                            4            0.00       0.00   \n                   2     Hybrid             2           10.00       7.00   \n                                            3            4.00       0.00   \n                                            4            1.00       0.00   \n                   3     Plugin             2            0.00       0.00   \n                                            3            0.00       0.00   \n                                            4            0.00       0.00   \n                   0     Tot                0           26.00       9.00   \n                         Average            0            2.89       1.00   \n                         Standard Deviation 0            4.51       2.35   \nStephB   404223002 3     Grasshopper        2            4.00       8.00   \n                                            3            0.00       4.00   \n                                            4            0.00       0.00   \n                   1     Hybrid             2            2.00       0.00   \n                                            3            0.00       0.00   \n                                            4            0.00       0.00   \n                   2     Plugin             2            0.00       0.00   \n                                            3            1.00       3.00   \n                                            4            0.00       0.00   \n                   0     Tot                0            7.00      15.00   \n                         Average            0            0.78       1.67   \n                         Standard Deviation 0            1.39       2.83   \n\n                                                    Variability  Columns  \\\nName     Level     Order Type               Object                         \nKhulan   303112001 1     Grasshopper        2              0.00    14.00   \n                                            3              8.00     5.00   \n                                            4              0.00     2.00   \n                   2     Hybrid             2              3.00     0.00   \n                                            3              1.00     0.00   \n                                            4              0.00     1.00   \n                   3     Plugin             2              0.00     0.00   \n                                            3              1.00     0.00   \n                                            4              0.00     1.00   \n                   0     Tot                0             13.00    23.00   \n                         Average            0              1.44     2.56   \n                         Standard Deviation 0              2.65     4.59   \nAdrian   404000100 3     Grasshopper        2              0.00    10.00   \n                                            3              0.00     5.00   \n                                            4              0.00     0.00   \n                   1     Hybrid             2              0.00     0.00   \n                                            3              0.00     0.00   \n                                            4              0.00     0.00   \n                   2     Plugin             2              1.00     1.00   \n                                            3              1.00     0.00   \n                                            4              0.00     0.00   \n                   0     Tot                0              2.00    16.00   \n                         Average            0              0.22     1.78   \n                         Standard Deviation 0              0.44     3.49   \nMathilde 404223002 2     Grasshopper        2              4.00    13.00   \n                                            3              5.00     4.00   \n                                            4              0.00     2.00   \n                   3     Hybrid             2              0.00     3.00   \n                                            3              2.00     2.00   \n                                            4              1.00     1.00   \n                   1     Plugin             2              0.00     1.00   \n                                            3              0.00     0.00   \n                                            4              0.00     0.00   \n                   0     Tot                0             12.00    26.00   \n                         Average            0              1.33     2.89   \n                         Standard Deviation 0              1.94     4.01   \nVirgil   303334003 1     Grasshopper        2              2.00     6.00   \n                                            3              0.00     2.00   \n                                            4              0.00     2.00   \n                   3     Hybrid             2              7.00     2.00   \n                                            3              0.00     1.00   \n                                            4              1.00     2.00   \n                   2     Plugin             2              0.00     2.00   \n                                            3              1.00     1.00   \n                                            4              0.00     1.00   \n                   0     Tot                0             11.00    19.00   \n                         Average            0              1.22     2.11   \n                         Standard Deviation 0              2.28     1.54   \nFannyM   404113101 2     Grasshopper        2              2.00     1.00   \n                                            3              2.00     0.00   \n                                            4              0.00     1.00   \n                   1     Hybrid             2             29.00     2.00   \n                                            3             12.00     1.00   \n                                            4              8.00     1.00   \n                   3     Plugin             2              3.00     1.00   \n                                            3              2.00     2.00   \n                                            4              0.00     1.00   \n                   0     Tot                0             58.00    10.00   \n                         Average            0              6.44     1.11   \n                         Standard Deviation 0              9.33     0.60   \nMargaux  303221202 3     Grasshopper        2              1.00     2.00   \n                                            3              4.00     1.00   \n                                            4              3.00     4.00   \n                   2     Hybrid             2              0.00     2.00   \n                                            3              2.00     0.00   \n                                            4              4.00     1.00   \n                   1     Plugin             2              3.00     1.00   \n                                            3              2.00     2.00   \n                                            4              1.00     2.00   \n                   0     Tot                0             20.00    15.00   \n                         Average            0              2.22     1.67   \n                         Standard Deviation 0              1.39     1.12   \nJL       304420003 1     Grasshopper        2              3.00     5.00   \n                                            3              4.00     1.00   \n                                            4              0.00     0.00   \n                   2     Hybrid             2              4.00     2.00   \n                                            3              4.00     1.00   \n                                            4              2.00     1.00   \n                   3     Plugin             2              1.00     1.00   \n                                            3              2.00     1.00   \n                                            4              0.00     1.00   \n                   0     Tot                0             20.00    13.00   \n                         Average            0              2.22     1.44   \n                         Standard Deviation 0              1.64     1.42   \nHélène   404113001 3     Grasshopper        2              4.00     1.00   \n                                            3              0.00     0.00   \n                                            4              1.00     1.00   \n                   1     Hybrid             2             19.00     2.00   \n                                            3              0.00     0.00   \n                                            4              2.00     0.00   \n                   2     Plugin             2              3.00     1.00   \n                                            3              0.00     0.00   \n                                            4              1.00     1.00   \n                   0     Tot                0             30.00     6.00   \n                         Average            0              3.33     0.67   \n                         Standard Deviation 0              6.04     0.71   \nLuca     324332103 2     Grasshopper        2              0.00     1.00   \n                                            3              0.00     3.00   \n                                            4              0.00     2.00   \n                   3     Hybrid             2              7.00     2.00   \n                                            3              1.00     0.00   \n                                            4              0.00     2.00   \n                   1     Plugin             2              3.00     1.00   \n                                            3              2.00     0.00   \n                                            4              0.00     0.00   \n                   0     Tot                0             13.00    11.00   \n                         Average            0              1.44     1.22   \n                         Standard Deviation 0              2.35     1.09   \nBrice    505122002 1     Grasshopper        2             13.00     5.00   \n                                            3              0.00     1.00   \n                                            4              0.00     0.00   \n                   3     Hybrid             2              6.00     2.00   \n                                            3              1.00     0.00   \n                                            4              0.00     3.00   \n                   2     Plugin             2              0.00     1.00   \n                                            3              0.00     2.00   \n                                            4              0.00     1.00   \n                   0     Tot                0             20.00    15.00   \n                         Average            0              2.22     1.67   \n                         Standard Deviation 0              4.49     1.58   \nThiMai   304223302 2     Grasshopper        2              8.00     2.00   \n                                            3              0.00     3.00   \n                                            4              2.00     0.00   \n                   1     Hybrid             2              3.00     1.00   \n                                            3              8.00     0.00   \n                                            4              9.00     6.00   \n                   3     Plugin             2              0.00     1.00   \n                                            3              5.00     1.00   \n                                            4              2.00     1.00   \n                   0     Tot                0             37.00    15.00   \n                         Average            0              4.11     1.67   \n                         Standard Deviation 0              3.52     1.87   \nAni      303120402 3     Grasshopper        2             11.00     3.00   \n                                            3              6.00     0.00   \n                                            4              0.00     6.00   \n                   2     Hybrid             2              1.00     3.00   \n                                            3              1.00     2.00   \n                                            4              0.00     6.00   \n                   1     Plugin             2              1.00     1.00   \n                                            3              3.00     0.00   \n                                            4              1.00     2.00   \n                   0     Tot                0             24.00    23.00   \n                         Average            0              2.67     2.56   \n                         Standard Deviation 0              3.64     2.24   \nRomain   323341324 1     Grasshopper        2             22.00     8.00   \n                                            3              9.00     1.00   \n                                            4              7.00     2.00   \n                   2     Hybrid             2              1.00     2.00   \n                                            3              0.00     2.00   \n                                            4              0.00     2.00   \n                   3     Plugin             2              1.00     1.00   \n                                            3              0.00     1.00   \n                                            4              0.00     0.00   \n                   0     Tot                0             40.00    19.00   \n                         Average            0              4.44     2.11   \n                         Standard Deviation 0              7.40     2.32   \nStephB   404223002 3     Grasshopper        2              4.00     1.00   \n                                            3              0.00     1.00   \n                                            4              4.00     2.00   \n                   1     Hybrid             2              7.00     1.00   \n                                            3              2.00     1.00   \n                                            4              1.00     1.00   \n                   2     Plugin             2              2.00     1.00   \n                                            3              1.00     1.00   \n                                            4              0.00     1.00   \n                   0     Tot                0             21.00    10.00   \n                         Average            0              2.33     1.11   \n                         Standard Deviation 0              2.29     0.33   \n\n                                                     Rows  MultipleX  ...  \\\nName     Level     Order Type               Object                    ...   \nKhulan   303112001 1     Grasshopper        2        8.00       0.00  ...   \n                                            3        6.00       3.00  ...   \n                                            4        9.00       0.00  ...   \n                   2     Hybrid             2        1.00       5.00  ...   \n                                            3        0.00       2.00  ...   \n                                            4        0.00       0.00  ...   \n                   3     Plugin             2        0.00       1.00  ...   \n                                            3        0.00       1.00  ...   \n                                            4        2.00       0.00  ...   \n                   0     Tot                0       26.00      12.00  ...   \n                         Average            0        2.89       1.33  ...   \n                         Standard Deviation 0        3.72       1.73  ...   \nAdrian   404000100 3     Grasshopper        2        7.00       0.00  ...   \n                                            3        0.00       1.00  ...   \n                                            4        0.00       0.00  ...   \n                   1     Hybrid             2        0.00       9.00  ...   \n                                            3        0.00       1.00  ...   \n                                            4        0.00       1.00  ...   \n                   2     Plugin             2        1.00       0.00  ...   \n                                            3        2.00       1.00  ...   \n                                            4        0.00       0.00  ...   \n                   0     Tot                0       10.00      13.00  ...   \n                         Average            0        1.11       1.44  ...   \n                         Standard Deviation 0        2.32       2.88  ...   \nMathilde 404223002 2     Grasshopper        2        0.00       0.00  ...   \n                                            3        8.00       0.00  ...   \n                                            4        0.00       0.00  ...   \n                   3     Hybrid             2        3.00       1.00  ...   \n                                            3        4.00       0.00  ...   \n                                            4        0.00       0.00  ...   \n                   1     Plugin             2        1.00       2.00  ...   \n                                            3        0.00       0.00  ...   \n                                            4        0.00       0.00  ...   \n                   0     Tot                0       16.00       3.00  ...   \n                         Average            0        1.78       0.33  ...   \n                         Standard Deviation 0        2.77       0.71  ...   \nVirgil   303334003 1     Grasshopper        2        4.00      10.00  ...   \n                                            3        0.00       3.00  ...   \n                                            4        3.00       1.00  ...   \n                   3     Hybrid             2        3.00       7.00  ...   \n                                            3        0.00       0.00  ...   \n                                            4        1.00       2.00  ...   \n                   2     Plugin             2        2.00       1.00  ...   \n                                            3        2.00       0.00  ...   \n                                            4        0.00       1.00  ...   \n                   0     Tot                0       15.00      25.00  ...   \n                         Average            0        1.67       2.78  ...   \n                         Standard Deviation 0        1.50       3.46  ...   \nFannyM   404113101 2     Grasshopper        2        0.00       9.00  ...   \n                                            3        1.00       7.00  ...   \n                                            4        0.00       0.00  ...   \n                   1     Hybrid             2        2.00       4.00  ...   \n                                            3        1.00       3.00  ...   \n                                            4        0.00       0.00  ...   \n                   3     Plugin             2        0.00       3.00  ...   \n                                            3        1.00       1.00  ...   \n                                            4        0.00       0.00  ...   \n                   0     Tot                0        5.00      27.00  ...   \n                         Average            0        0.56       3.00  ...   \n                         Standard Deviation 0        0.73       3.24  ...   \nMargaux  303221202 3     Grasshopper        2        5.00       2.00  ...   \n                                            3        3.00       0.00  ...   \n                                            4        0.00       0.00  ...   \n                   2     Hybrid             2        0.00       0.00  ...   \n                                            3        0.00       0.00  ...   \n                                            4        1.00       1.00  ...   \n                   1     Plugin             2        2.00       6.00  ...   \n                                            3        3.00       0.00  ...   \n                                            4        1.00       0.00  ...   \n                   0     Tot                0       15.00       9.00  ...   \n                         Average            0        1.67       1.00  ...   \n                         Standard Deviation 0        1.73       2.00  ...   \nJL       304420003 1     Grasshopper        2        1.00       9.00  ...   \n                                            3        1.00       0.00  ...   \n                                            4        0.00       0.00  ...   \n                   2     Hybrid             2        0.00       2.00  ...   \n                                            3        2.00       0.00  ...   \n                                            4        0.00       1.00  ...   \n                   3     Plugin             2        1.00       2.00  ...   \n                                            3        1.00       2.00  ...   \n                                            4        0.00       0.00  ...   \n                   0     Tot                0        6.00      16.00  ...   \n                         Average            0        0.67       1.78  ...   \n                         Standard Deviation 0        0.71       2.86  ...   \nHélène   404113001 3     Grasshopper        2        0.00       1.00  ...   \n                                            3        3.00       0.00  ...   \n                                            4        0.00       0.00  ...   \n                   1     Hybrid             2        1.00       1.00  ...   \n                                            3        0.00       0.00  ...   \n                                            4        0.00       0.00  ...   \n                   2     Plugin             2        1.00       1.00  ...   \n                                            3        0.00       0.00  ...   \n                                            4        2.00       0.00  ...   \n                   0     Tot                0        7.00       3.00  ...   \n                         Average            0        0.78       0.33  ...   \n                         Standard Deviation 0        1.09       0.50  ...   \nLuca     324332103 2     Grasshopper        2        0.00       6.00  ...   \n                                            3        0.00       5.00  ...   \n                                            4        0.00       0.00  ...   \n                   3     Hybrid             2        0.00       0.00  ...   \n                                            3        3.00       0.00  ...   \n                                            4        0.00       0.00  ...   \n                   1     Plugin             2        0.00       4.00  ...   \n                                            3        1.00       0.00  ...   \n                                            4        0.00       0.00  ...   \n                   0     Tot                0        4.00      15.00  ...   \n                         Average            0        0.44       1.67  ...   \n                         Standard Deviation 0        1.01       2.55  ...   \nBrice    505122002 1     Grasshopper        2        5.00       0.00  ...   \n                                            3        2.00       4.00  ...   \n                                            4        0.00       0.00  ...   \n                   3     Hybrid             2        2.00       4.00  ...   \n                                            3        0.00       3.00  ...   \n                                            4        3.00       2.00  ...   \n                   2     Plugin             2        5.00       6.00  ...   \n                                            3        0.00       0.00  ...   \n                                            4        0.00       0.00  ...   \n                   0     Tot                0       17.00      19.00  ...   \n                         Average            0        1.89       2.11  ...   \n                         Standard Deviation 0        2.09       2.26  ...   \nThiMai   304223302 2     Grasshopper        2        0.00       0.00  ...   \n                                            3        3.00       0.00  ...   \n                                            4        4.00       2.00  ...   \n                   1     Hybrid             2        1.00       5.00  ...   \n                                            3        2.00       2.00  ...   \n                                            4        0.00       6.00  ...   \n                   3     Plugin             2        1.00       1.00  ...   \n                                            3        1.00       0.00  ...   \n                                            4        0.00       0.00  ...   \n                   0     Tot                0       12.00      16.00  ...   \n                         Average            0        1.33       1.78  ...   \n                         Standard Deviation 0        1.41       2.28  ...   \nAni      303120402 3     Grasshopper        2        3.00       6.00  ...   \n                                            3        8.00       9.00  ...   \n                                            4        0.00       5.00  ...   \n                   2     Hybrid             2        3.00       3.00  ...   \n                                            3        2.00       3.00  ...   \n                                            4        0.00       2.00  ...   \n                   1     Plugin             2        3.00       1.00  ...   \n                                            3        1.00       4.00  ...   \n                                            4        2.00       5.00  ...   \n                   0     Tot                0       22.00      38.00  ...   \n                         Average            0        2.44       4.22  ...   \n                         Standard Deviation 0        2.40       2.39  ...   \nRomain   323341324 1     Grasshopper        2        3.00      10.00  ...   \n                                            3        3.00       0.00  ...   \n                                            4        0.00       0.00  ...   \n                   2     Hybrid             2        3.00       7.00  ...   \n                                            3        1.00       0.00  ...   \n                                            4        0.00       0.00  ...   \n                   3     Plugin             2        1.00       4.00  ...   \n                                            3        2.00       0.00  ...   \n                                            4        0.00       0.00  ...   \n                   0     Tot                0       13.00      21.00  ...   \n                         Average            0        1.44       2.33  ...   \n                         Standard Deviation 0        1.33       3.81  ...   \nStephB   404223002 3     Grasshopper        2        0.00       0.00  ...   \n                                            3        3.00       1.00  ...   \n                                            4        0.00       0.00  ...   \n                   1     Hybrid             2        1.00       3.00  ...   \n                                            3        2.00       3.00  ...   \n                                            4        0.00       0.00  ...   \n                   2     Plugin             2        0.00       1.00  ...   \n                                            3        1.00       0.00  ...   \n                                            4        0.00       0.00  ...   \n                   0     Tot                0        7.00       8.00  ...   \n                         Average            0        0.78       0.89  ...   \n                         Standard Deviation 0        1.09       1.27  ...   \n\n                                                    MinOpeningHeight  \\\nName     Level     Order Type               Object                     \nKhulan   303112001 1     Grasshopper        2                  17.00   \n                                            3                  16.00   \n                                            4                   0.00   \n                   2     Hybrid             2                   3.00   \n                                            3                   0.00   \n                                            4                   0.00   \n                   3     Plugin             2                   0.00   \n                                            3                   1.00   \n                                            4                   0.00   \n                   0     Tot                0                  37.00   \n                         Average            0                   4.11   \n                         Standard Deviation 0                   7.10   \nAdrian   404000100 3     Grasshopper        2                   0.00   \n                                            3                   0.00   \n                                            4                   0.00   \n                   1     Hybrid             2                   0.00   \n                                            3                   0.00   \n                                            4                   0.00   \n                   2     Plugin             2                   0.00   \n                                            3                   1.00   \n                                            4                   0.00   \n                   0     Tot                0                   1.00   \n                         Average            0                   0.11   \n                         Standard Deviation 0                   0.33   \nMathilde 404223002 2     Grasshopper        2                   9.00   \n                                            3                   5.00   \n                                            4                   0.00   \n                   3     Hybrid             2                   1.00   \n                                            3                   3.00   \n                                            4                   3.00   \n                   1     Plugin             2                   2.00   \n                                            3                   0.00   \n                                            4                   0.00   \n                   0     Tot                0                  23.00   \n                         Average            0                   2.56   \n                         Standard Deviation 0                   2.96   \nVirgil   303334003 1     Grasshopper        2                   4.00   \n                                            3                   0.00   \n                                            4                   0.00   \n                   3     Hybrid             2                   1.00   \n                                            3                   0.00   \n                                            4                   0.00   \n                   2     Plugin             2                   2.00   \n                                            3                   3.00   \n                                            4                   0.00   \n                   0     Tot                0                  10.00   \n                         Average            0                   1.11   \n                         Standard Deviation 0                   1.54   \nFannyM   404113101 2     Grasshopper        2                   6.00   \n                                            3                   4.00   \n                                            4                   0.00   \n                   1     Hybrid             2                  12.00   \n                                            3                   0.00   \n                                            4                   0.00   \n                   3     Plugin             2                   1.00   \n                                            3                   0.00   \n                                            4                   0.00   \n                   0     Tot                0                  23.00   \n                         Average            0                   2.56   \n                         Standard Deviation 0                   4.16   \nMargaux  303221202 3     Grasshopper        2                   1.00   \n                                            3                   5.00   \n                                            4                   5.00   \n                   2     Hybrid             2                   2.00   \n                                            3                   0.00   \n                                            4                   2.00   \n                   1     Plugin             2                   0.00   \n                                            3                   2.00   \n                                            4                   1.00   \n                   0     Tot                0                  18.00   \n                         Average            0                   2.00   \n                         Standard Deviation 0                   1.87   \nJL       304420003 1     Grasshopper        2                   0.00   \n                                            3                   1.00   \n                                            4                   0.00   \n                   2     Hybrid             2                   0.00   \n                                            3                   1.00   \n                                            4                   0.00   \n                   3     Plugin             2                   1.00   \n                                            3                   1.00   \n                                            4                   0.00   \n                   0     Tot                0                   4.00   \n                         Average            0                   0.44   \n                         Standard Deviation 0                   0.53   \nHélène   404113001 3     Grasshopper        2                   0.00   \n                                            3                   0.00   \n                                            4                   1.00   \n                   1     Hybrid             2                  11.00   \n                                            3                   0.00   \n                                            4                   1.00   \n                   2     Plugin             2                   1.00   \n                                            3                   0.00   \n                                            4                   0.00   \n                   0     Tot                0                  14.00   \n                         Average            0                   1.56   \n                         Standard Deviation 0                   3.57   \nLuca     324332103 2     Grasshopper        2                  13.00   \n                                            3                   0.00   \n                                            4                   0.00   \n                   3     Hybrid             2                   0.00   \n                                            3                   0.00   \n                                            4                   0.00   \n                   1     Plugin             2                   0.00   \n                                            3                   0.00   \n                                            4                   0.00   \n                   0     Tot                0                  13.00   \n                         Average            0                   1.44   \n                         Standard Deviation 0                   4.33   \nBrice    505122002 1     Grasshopper        2                  10.00   \n                                            3                   4.00   \n                                            4                   0.00   \n                   3     Hybrid             2                   2.00   \n                                            3                   4.00   \n                                            4                   0.00   \n                   2     Plugin             2                   0.00   \n                                            3                   0.00   \n                                            4                   0.00   \n                   0     Tot                0                  20.00   \n                         Average            0                   2.22   \n                         Standard Deviation 0                   3.38   \nThiMai   304223302 2     Grasshopper        2                  10.00   \n                                            3                   0.00   \n                                            4                   0.00   \n                   1     Hybrid             2                   8.00   \n                                            3                   3.00   \n                                            4                   0.00   \n                   3     Plugin             2                   1.00   \n                                            3                   0.00   \n                                            4                   3.00   \n                   0     Tot                0                  25.00   \n                         Average            0                   2.78   \n                         Standard Deviation 0                   3.77   \nAni      303120402 3     Grasshopper        2                   8.00   \n                                            3                   5.00   \n                                            4                   3.00   \n                   2     Hybrid             2                   6.00   \n                                            3                   1.00   \n                                            4                   1.00   \n                   1     Plugin             2                   1.00   \n                                            3                   1.00   \n                                            4                   3.00   \n                   0     Tot                0                  29.00   \n                         Average            0                   3.22   \n                         Standard Deviation 0                   2.59   \nRomain   323341324 1     Grasshopper        2                  17.00   \n                                            3                   2.00   \n                                            4                   0.00   \n                   2     Hybrid             2                   5.00   \n                                            3                   2.00   \n                                            4                   0.00   \n                   3     Plugin             2                   1.00   \n                                            3                   0.00   \n                                            4                   0.00   \n                   0     Tot                0                  27.00   \n                         Average            0                   3.00   \n                         Standard Deviation 0                   5.50   \nStephB   404223002 3     Grasshopper        2                   0.00   \n                                            3                   2.00   \n                                            4                   0.00   \n                   1     Hybrid             2                   1.00   \n                                            3                   2.00   \n                                            4                   0.00   \n                   2     Plugin             2                   1.00   \n                                            3                   0.00   \n                                            4                   0.00   \n                   0     Tot                0                   6.00   \n                         Average            0                   0.67   \n                         Standard Deviation 0                   0.87   \n\n                                                    MinOpeningWidth  \\\nName     Level     Order Type               Object                    \nKhulan   303112001 1     Grasshopper        2                  6.00   \n                                            3                  0.00   \n                                            4                  0.00   \n                   2     Hybrid             2                  2.00   \n                                            3                  0.00   \n                                            4                  1.00   \n                   3     Plugin             2                  0.00   \n                                            3                  1.00   \n                                            4                  0.00   \n                   0     Tot                0                 10.00   \n                         Average            0                  1.11   \n                         Standard Deviation 0                  1.96   \nAdrian   404000100 3     Grasshopper        2                  4.00   \n                                            3                  2.00   \n                                            4                  0.00   \n                   1     Hybrid             2                  0.00   \n                                            3                  0.00   \n                                            4                  0.00   \n                   2     Plugin             2                  0.00   \n                                            3                  1.00   \n                                            4                  0.00   \n                   0     Tot                0                  7.00   \n                         Average            0                  0.78   \n                         Standard Deviation 0                  1.39   \nMathilde 404223002 2     Grasshopper        2                  2.00   \n                                            3                  0.00   \n                                            4                  0.00   \n                   3     Hybrid             2                  0.00   \n                                            3                  2.00   \n                                            4                  0.00   \n                   1     Plugin             2                  0.00   \n                                            3                  0.00   \n                                            4                  0.00   \n                   0     Tot                0                  4.00   \n                         Average            0                  0.44   \n                         Standard Deviation 0                  0.88   \nVirgil   303334003 1     Grasshopper        2                  0.00   \n                                            3                  0.00   \n                                            4                  0.00   \n                   3     Hybrid             2                 11.00   \n                                            3                  0.00   \n                                            4                  1.00   \n                   2     Plugin             2                  2.00   \n                                            3                  2.00   \n                                            4                  1.00   \n                   0     Tot                0                 17.00   \n                         Average            0                  1.89   \n                         Standard Deviation 0                  3.52   \nFannyM   404113101 2     Grasshopper        2                 11.00   \n                                            3                  0.00   \n                                            4                  0.00   \n                   1     Hybrid             2                 10.00   \n                                            3                  0.00   \n                                            4                  0.00   \n                   3     Plugin             2                  1.00   \n                                            3                  2.00   \n                                            4                  0.00   \n                   0     Tot                0                 24.00   \n                         Average            0                  2.67   \n                         Standard Deviation 0                  4.50   \nMargaux  303221202 3     Grasshopper        2                  1.00   \n                                            3                  1.00   \n                                            4                  0.00   \n                   2     Hybrid             2                  0.00   \n                                            3                  3.00   \n                                            4                  2.00   \n                   1     Plugin             2                  0.00   \n                                            3                  2.00   \n                                            4                  1.00   \n                   0     Tot                0                 10.00   \n                         Average            0                  1.11   \n                         Standard Deviation 0                  1.05   \nJL       304420003 1     Grasshopper        2                  2.00   \n                                            3                  1.00   \n                                            4                  0.00   \n                   2     Hybrid             2                  1.00   \n                                            3                  5.00   \n                                            4                  1.00   \n                   3     Plugin             2                  0.00   \n                                            3                  2.00   \n                                            4                  0.00   \n                   0     Tot                0                 12.00   \n                         Average            0                  1.33   \n                         Standard Deviation 0                  1.58   \nHélène   404113001 3     Grasshopper        2                  0.00   \n                                            3                  0.00   \n                                            4                  2.00   \n                   1     Hybrid             2                 19.00   \n                                            3                  0.00   \n                                            4                  3.00   \n                   2     Plugin             2                  1.00   \n                                            3                  0.00   \n                                            4                  0.00   \n                   0     Tot                0                 25.00   \n                         Average            0                  2.78   \n                         Standard Deviation 0                  6.18   \nLuca     324332103 2     Grasshopper        2                  0.00   \n                                            3                  7.00   \n                                            4                  0.00   \n                   3     Hybrid             2                  1.00   \n                                            3                  0.00   \n                                            4                  0.00   \n                   1     Plugin             2                  0.00   \n                                            3                  3.00   \n                                            4                  1.00   \n                   0     Tot                0                 12.00   \n                         Average            0                  1.33   \n                         Standard Deviation 0                  2.35   \nBrice    505122002 1     Grasshopper        2                 14.00   \n                                            3                  8.00   \n                                            4                  0.00   \n                   3     Hybrid             2                  6.00   \n                                            3                  1.00   \n                                            4                  0.00   \n                   2     Plugin             2                  0.00   \n                                            3                  2.00   \n                                            4                  0.00   \n                   0     Tot                0                 31.00   \n                         Average            0                  3.44   \n                         Standard Deviation 0                  4.93   \nThiMai   304223302 2     Grasshopper        2                 13.00   \n                                            3                  0.00   \n                                            4                  0.00   \n                   1     Hybrid             2                  5.00   \n                                            3                  9.00   \n                                            4                  0.00   \n                   3     Plugin             2                  4.00   \n                                            3                  2.00   \n                                            4                  2.00   \n                   0     Tot                0                 35.00   \n                         Average            0                  3.89   \n                         Standard Deviation 0                  4.51   \nAni      303120402 3     Grasshopper        2                  4.00   \n                                            3                  0.00   \n                                            4                  3.00   \n                   2     Hybrid             2                  2.00   \n                                            3                  4.00   \n                                            4                  2.00   \n                   1     Plugin             2                  2.00   \n                                            3                  2.00   \n                                            4                  2.00   \n                   0     Tot                0                 21.00   \n                         Average            0                  2.33   \n                         Standard Deviation 0                  1.22   \nRomain   323341324 1     Grasshopper        2                  2.00   \n                                            3                  5.00   \n                                            4                  4.00   \n                   2     Hybrid             2                  6.00   \n                                            3                  3.00   \n                                            4                  2.00   \n                   3     Plugin             2                  1.00   \n                                            3                  0.00   \n                                            4                  0.00   \n                   0     Tot                0                 23.00   \n                         Average            0                  2.56   \n                         Standard Deviation 0                  2.13   \nStephB   404223002 3     Grasshopper        2                  0.00   \n                                            3                  0.00   \n                                            4                  0.00   \n                   1     Hybrid             2                  1.00   \n                                            3                  1.00   \n                                            4                  1.00   \n                   2     Plugin             2                  1.00   \n                                            3                  0.00   \n                                            4                  0.00   \n                   0     Tot                0                  4.00   \n                         Average            0                  0.44   \n                         Standard Deviation 0                  0.53   \n\n                                                    DoorNumber  \\\nName     Level     Order Type               Object               \nKhulan   303112001 1     Grasshopper        2             5.00   \n                                            3             3.00   \n                                            4             2.00   \n                   2     Hybrid             2             3.00   \n                                            3             2.00   \n                                            4             1.00   \n                   3     Plugin             2             1.00   \n                                            3             1.00   \n                                            4             0.00   \n                   0     Tot                0            18.00   \n                         Average            0             2.00   \n                         Standard Deviation 0             1.50   \nAdrian   404000100 3     Grasshopper        2             3.00   \n                                            3             0.00   \n                                            4             1.00   \n                   1     Hybrid             2             0.00   \n                                            3             0.00   \n                                            4             0.00   \n                   2     Plugin             2             2.00   \n                                            3             1.00   \n                                            4             0.00   \n                   0     Tot                0             7.00   \n                         Average            0             0.78   \n                         Standard Deviation 0             1.09   \nMathilde 404223002 2     Grasshopper        2             0.00   \n                                            3             0.00   \n                                            4             0.00   \n                   3     Hybrid             2             2.00   \n                                            3             1.00   \n                                            4             2.00   \n                   1     Plugin             2             1.00   \n                                            3             0.00   \n                                            4             0.00   \n                   0     Tot                0             6.00   \n                         Average            0             0.67   \n                         Standard Deviation 0             0.87   \nVirgil   303334003 1     Grasshopper        2             2.00   \n                                            3             2.00   \n                                            4             2.00   \n                   3     Hybrid             2             0.00   \n                                            3             0.00   \n                                            4             1.00   \n                   2     Plugin             2             1.00   \n                                            3             2.00   \n                                            4             2.00   \n                   0     Tot                0            12.00   \n                         Average            0             1.33   \n                         Standard Deviation 0             0.87   \nFannyM   404113101 2     Grasshopper        2             0.00   \n                                            3             0.00   \n                                            4             4.00   \n                   1     Hybrid             2             2.00   \n                                            3             1.00   \n                                            4             1.00   \n                   3     Plugin             2             1.00   \n                                            3             1.00   \n                                            4             1.00   \n                   0     Tot                0            11.00   \n                         Average            0             1.22   \n                         Standard Deviation 0             1.20   \nMargaux  303221202 3     Grasshopper        2             6.00   \n                                            3             2.00   \n                                            4             3.00   \n                   2     Hybrid             2             1.00   \n                                            3             2.00   \n                                            4             3.00   \n                   1     Plugin             2             0.00   \n                                            3             1.00   \n                                            4             3.00   \n                   0     Tot                0            21.00   \n                         Average            0             2.33   \n                         Standard Deviation 0             1.73   \nJL       304420003 1     Grasshopper        2             1.00   \n                                            3             1.00   \n                                            4             0.00   \n                   2     Hybrid             2             1.00   \n                                            3             0.00   \n                                            4             1.00   \n                   3     Plugin             2             0.00   \n                                            3             0.00   \n                                            4             1.00   \n                   0     Tot                0             5.00   \n                         Average            0             0.56   \n                         Standard Deviation 0             0.53   \nHélène   404113001 3     Grasshopper        2             0.00   \n                                            3             0.00   \n                                            4             0.00   \n                   1     Hybrid             2             2.00   \n                                            3             0.00   \n                                            4             2.00   \n                   2     Plugin             2             1.00   \n                                            3             1.00   \n                                            4             0.00   \n                   0     Tot                0             6.00   \n                         Average            0             0.67   \n                         Standard Deviation 0             0.87   \nLuca     324332103 2     Grasshopper        2             0.00   \n                                            3             0.00   \n                                            4             0.00   \n                   3     Hybrid             2             2.00   \n                                            3             0.00   \n                                            4             0.00   \n                   1     Plugin             2             1.00   \n                                            3             0.00   \n                                            4             0.00   \n                   0     Tot                0             3.00   \n                         Average            0             0.33   \n                         Standard Deviation 0             0.71   \nBrice    505122002 1     Grasshopper        2            10.00   \n                                            3             4.00   \n                                            4             0.00   \n                   3     Hybrid             2             2.00   \n                                            3             1.00   \n                                            4             0.00   \n                   2     Plugin             2             1.00   \n                                            3             1.00   \n                                            4             1.00   \n                   0     Tot                0            20.00   \n                         Average            0             2.22   \n                         Standard Deviation 0             3.15   \nThiMai   304223302 2     Grasshopper        2             4.00   \n                                            3             0.00   \n                                            4             1.00   \n                   1     Hybrid             2             0.00   \n                                            3             2.00   \n                                            4             2.00   \n                   3     Plugin             2             0.00   \n                                            3             1.00   \n                                            4             1.00   \n                   0     Tot                0            11.00   \n                         Average            0             1.22   \n                         Standard Deviation 0             1.30   \nAni      303120402 3     Grasshopper        2             5.00   \n                                            3             0.00   \n                                            4             2.00   \n                   2     Hybrid             2             3.00   \n                                            3             0.00   \n                                            4             1.00   \n                   1     Plugin             2             1.00   \n                                            3             1.00   \n                                            4             1.00   \n                   0     Tot                0            14.00   \n                         Average            0             1.56   \n                         Standard Deviation 0             1.59   \nRomain   323341324 1     Grasshopper        2             4.00   \n                                            3             0.00   \n                                            4             3.00   \n                   2     Hybrid             2             2.00   \n                                            3             0.00   \n                                            4             0.00   \n                   3     Plugin             2             0.00   \n                                            3             0.00   \n                                            4             0.00   \n                   0     Tot                0             9.00   \n                         Average            0             1.00   \n                         Standard Deviation 0             1.58   \nStephB   404223002 3     Grasshopper        2             0.00   \n                                            3             0.00   \n                                            4             0.00   \n                   1     Hybrid             2             5.00   \n                                            3             0.00   \n                                            4             0.00   \n                   2     Plugin             2             0.00   \n                                            3             0.00   \n                                            4             0.00   \n                   0     Tot                0             5.00   \n                         Average            0             0.56   \n                         Standard Deviation 0             1.67   \n\n                                                    Total Iterations     Time  \\\nName     Level     Order Type               Object                              \nKhulan   303112001 1     Grasshopper        2                 121.00   188.00   \n                                            3                  91.00   144.00   \n                                            4                  20.00    73.00   \n                   2     Hybrid             2                  24.00   141.00   \n                                            3                  10.00    53.00   \n                                            4                  11.00    88.00   \n                   3     Plugin             2                   9.00    73.00   \n                                            3                  24.00    85.00   \n                                            4                   3.00    21.00   \n                   0     Tot                0                 313.00   866.00   \n                         Average            0                  34.78    96.22   \n                         Standard Deviation 0                  41.68    51.85   \nAdrian   404000100 3     Grasshopper        2                  74.00   172.00   \n                                            3                  16.00   127.00   \n                                            4                  15.00    63.00   \n                   1     Hybrid             2                  38.00   271.00   \n                                            3                  12.00   204.00   \n                                            4                  11.00   272.00   \n                   2     Plugin             2                  19.00   137.00   \n                                            3                  26.00   117.00   \n                                            4                   2.00    14.00   \n                   0     Tot                0                 213.00  1377.00   \n                         Average            0                  23.67   153.00   \n                         Standard Deviation 0                  21.41    87.10   \nMathilde 404223002 2     Grasshopper        2                  71.00   263.00   \n                                            3                  24.00   117.00   \n                                            4                   3.00    42.00   \n                   3     Hybrid             2                  20.00   197.00   \n                                            3                  49.00   262.00   \n                                            4                  16.00   130.00   \n                   1     Plugin             2                  21.00   150.00   \n                                            3                   2.00    19.00   \n                                            4                   2.00    35.00   \n                   0     Tot                0                 208.00  1215.00   \n                         Average            0                  23.11   135.00   \n                         Standard Deviation 0                  23.25    92.90   \nVirgil   303334003 1     Grasshopper        2                  80.00   684.00   \n                                            3                  28.00   296.00   \n                                            4                  19.00   400.00   \n                   3     Hybrid             2                  67.00   750.00   \n                                            3                   1.00    39.00   \n                                            4                  10.00   177.00   \n                   2     Plugin             2                  23.00   303.00   \n                                            3                  27.00   480.00   \n                                            4                   9.00   193.00   \n                   0     Tot                0                 264.00  3322.00   \n                         Average            0                  29.33   369.11   \n                         Standard Deviation 0                  26.76   235.61   \nFannyM   404113101 2     Grasshopper        2                 101.00   279.00   \n                                            3                  39.00   142.00   \n                                            4                  23.00    71.00   \n                   1     Hybrid             2                 110.00   775.00   \n                                            3                  40.00   224.00   \n                                            4                  19.00   160.00   \n                   3     Plugin             2                  43.00   385.00   \n                                            3                  32.00   126.00   \n                                            4                   5.00    30.00   \n                   0     Tot                0                 412.00  2192.00   \n                         Average            0                  45.78   243.56   \n                         Standard Deviation 0                  35.97   226.54   \nMargaux  303221202 3     Grasshopper        2                  66.00   239.00   \n                                            3                  70.00   178.00   \n                                            4                  53.00   171.00   \n                   2     Hybrid             2                  21.00   164.00   \n                                            3                  28.00   317.00   \n                                            4                  24.00   348.00   \n                   1     Plugin             2                  27.00   348.00   \n                                            3                  39.00   340.00   \n                                            4                  22.00   462.00   \n                   0     Tot                0                 350.00  2567.00   \n                         Average            0                  38.89   285.22   \n                         Standard Deviation 0                  19.33   102.78   \nJL       304420003 1     Grasshopper        2                  33.00   373.00   \n                                            3                  16.00   324.00   \n                                            4                   0.00     0.00   \n                   2     Hybrid             2                  25.00   179.00   \n                                            3                  18.00   227.00   \n                                            4                  23.00   204.00   \n                   3     Plugin             2                  25.00   205.00   \n                                            3                  26.00   190.00   \n                                            4                   2.00    41.00   \n                   0     Tot                0                 168.00  1743.00   \n                         Average            0                  18.67   193.67   \n                         Standard Deviation 0                  11.14   118.08   \nHélène   404113001 3     Grasshopper        2                  32.00   162.00   \n                                            3                  18.00    92.00   \n                                            4                  12.00   204.00   \n                   1     Hybrid             2                  93.00   764.00   \n                                            3                  13.00   124.00   \n                                            4                  23.00   261.00   \n                   2     Plugin             2                  39.00   181.00   \n                                            3                   3.00    45.00   \n                                            4                   8.00    66.00   \n                   0     Tot                0                 241.00  1899.00   \n                         Average            0                  26.78   211.00   \n                         Standard Deviation 0                  27.34   218.51   \nLuca     324332103 2     Grasshopper        2                  96.00   235.00   \n                                            3                  53.00   137.00   \n                                            4                   2.00    24.00   \n                   3     Hybrid             2                  22.00   124.00   \n                                            3                  12.00   114.00   \n                                            4                   2.00    68.00   \n                   1     Plugin             2                  40.00   329.00   \n                                            3                  24.00   196.00   \n                                            4                   6.00    31.00   \n                   0     Tot                0                 257.00  1258.00   \n                         Average            0                  28.56   139.78   \n                         Standard Deviation 0                  30.69    99.59   \nBrice    505122002 1     Grasshopper        2                 173.00   612.00   \n                                            3                  75.00   388.00   \n                                            4                   0.00     0.00   \n                   3     Hybrid             2                  46.00   260.00   \n                                            3                  26.00   199.00   \n                                            4                  21.00   302.00   \n                   2     Plugin             2                  48.00   273.00   \n                                            3                  21.00   179.00   \n                                            4                  15.00   135.00   \n                   0     Tot                0                 425.00  2348.00   \n                         Average            0                  47.22   260.89   \n                         Standard Deviation 0                  52.07   171.65   \nThiMai   304223302 2     Grasshopper        2                  89.00   269.00   \n                                            3                  76.00   176.00   \n                                            4                 119.00   298.00   \n                   1     Hybrid             2                  46.00   285.00   \n                                            3                  62.00   403.00   \n                                            4                  53.00   794.00   \n                   3     Plugin             2                  14.00   251.00   \n                                            3                  21.00   212.00   \n                                            4                  23.00   245.00   \n                   0     Tot                0                 503.00  2933.00   \n                         Average            0                  55.89   325.89   \n                         Standard Deviation 0                  34.79   186.53   \nAni      303120402 3     Grasshopper        2                  95.00   190.00   \n                                            3                  81.00   100.00   \n                                            4                  47.00   151.00   \n                   2     Hybrid             2                  41.00   237.00   \n                                            3                  26.00   124.00   \n                                            4                  41.00   252.00   \n                   1     Plugin             2                  51.00   678.00   \n                                            3                  43.00   615.00   \n                                            4                  40.00   369.00   \n                   0     Tot                0                 465.00  2716.00   \n                         Average            0                  51.67   301.78   \n                         Standard Deviation 0                  21.96   211.66   \nRomain   323341324 1     Grasshopper        2                 155.00   603.00   \n                                            3                  41.00   139.00   \n                                            4                  26.00   174.00   \n                   2     Hybrid             2                  59.00   413.00   \n                                            3                  15.00   113.00   \n                                            4                   5.00   117.00   \n                   3     Plugin             2                  22.00   179.00   \n                                            3                   4.00    83.00   \n                                            4                   0.00    11.00   \n                   0     Tot                0                 327.00  1832.00   \n                         Average            0                  36.33   203.56   \n                         Standard Deviation 0                  48.39   185.87   \nStephB   404223002 3     Grasshopper        2                  23.00    69.00   \n                                            3                  19.00    64.00   \n                                            4                  13.00    55.00   \n                   1     Hybrid             2                  37.00   153.00   \n                                            3                  17.00    73.00   \n                                            4                  11.00    52.00   \n                   2     Plugin             2                  13.00    76.00   \n                                            3                  35.00    93.00   \n                                            4                   5.00    16.00   \n                   0     Tot                0                 173.00   651.00   \n                         Average            0                  19.22    72.33   \n                         Standard Deviation 0                  10.79    36.94   \n\n                                                    Iterations / Minute  \nName     Level     Order Type               Object                       \nKhulan   303112001 1     Grasshopper        2                     38.62  \n                                            3                     37.92  \n                                            4                     16.44  \n                   2     Hybrid             2                     10.21  \n                                            3                     11.32  \n                                            4                      7.50  \n                   3     Plugin             2                      7.40  \n                                            3                     16.94  \n                                            4                      8.57  \n                   0     Tot                0                    154.92  \n                         Average            0                     17.21  \n                         Standard Deviation 0                     12.43  \nAdrian   404000100 3     Grasshopper        2                     25.81  \n                                            3                      7.56  \n                                            4                     14.29  \n                   1     Hybrid             2                      8.41  \n                                            3                      3.53  \n                                            4                      2.43  \n                   2     Plugin             2                      8.32  \n                                            3                     13.33  \n                                            4                      8.57  \n                   0     Tot                0                     92.25  \n                         Average            0                     10.25  \n                         Standard Deviation 0                      7.00  \nMathilde 404223002 2     Grasshopper        2                     16.20  \n                                            3                     12.31  \n                                            4                      4.29  \n                   3     Hybrid             2                      6.09  \n                                            3                     11.22  \n                                            4                      7.38  \n                   1     Plugin             2                      8.40  \n                                            3                      6.32  \n                                            4                      3.43  \n                   0     Tot                0                     75.63  \n                         Average            0                      8.40  \n                         Standard Deviation 0                      4.13  \nVirgil   303334003 1     Grasshopper        2                      7.02  \n                                            3                      5.68  \n                                            4                      2.85  \n                   3     Hybrid             2                      5.36  \n                                            3                      1.54  \n                                            4                      3.39  \n                   2     Plugin             2                      4.55  \n                                            3                      3.38  \n                                            4                      2.80  \n                   0     Tot                0                     36.56  \n                         Average            0                      4.06  \n                         Standard Deviation 0                      1.72  \nFannyM   404113101 2     Grasshopper        2                     21.72  \n                                            3                     16.48  \n                                            4                     19.44  \n                   1     Hybrid             2                      8.52  \n                                            3                     10.71  \n                                            4                      7.12  \n                   3     Plugin             2                      6.70  \n                                            3                     15.24  \n                                            4                     10.00  \n                   0     Tot                0                    115.93  \n                         Average            0                     12.88  \n                         Standard Deviation 0                      5.51  \nMargaux  303221202 3     Grasshopper        2                     16.57  \n                                            3                     23.60  \n                                            4                     18.60  \n                   2     Hybrid             2                      7.68  \n                                            3                      5.30  \n                                            4                      4.14  \n                   1     Plugin             2                      4.66  \n                                            3                      6.88  \n                                            4                      2.86  \n                   0     Tot                0                     90.28  \n                         Average            0                     10.03  \n                         Standard Deviation 0                      7.53  \nJL       304420003 1     Grasshopper        2                      5.31  \n                                            3                      2.96  \n                                            4                      0.00  \n                   2     Hybrid             2                      8.38  \n                                            3                      4.76  \n                                            4                      6.76  \n                   3     Plugin             2                      7.32  \n                                            3                      8.21  \n                                            4                      2.93  \n                   0     Tot                0                     46.63  \n                         Average            0                      5.83  \n                         Standard Deviation 0                      2.18  \nHélène   404113001 3     Grasshopper        2                     11.85  \n                                            3                     11.74  \n                                            4                      3.53  \n                   1     Hybrid             2                      7.30  \n                                            3                      6.29  \n                                            4                      5.29  \n                   2     Plugin             2                     12.93  \n                                            3                      4.00  \n                                            4                      7.27  \n                   0     Tot                0                     70.20  \n                         Average            0                      7.80  \n                         Standard Deviation 0                      3.54  \nLuca     324332103 2     Grasshopper        2                     24.51  \n                                            3                     23.21  \n                                            4                      5.00  \n                   3     Hybrid             2                     10.65  \n                                            3                      6.32  \n                                            4                      1.76  \n                   1     Plugin             2                      7.29  \n                                            3                      7.35  \n                                            4                     11.61  \n                   0     Tot                0                     97.70  \n                         Average            0                     10.86  \n                         Standard Deviation 0                      7.92  \nBrice    505122002 1     Grasshopper        2                     16.96  \n                                            3                     11.60  \n                                            4                      0.00  \n                   3     Hybrid             2                     10.62  \n                                            3                      7.84  \n                                            4                      4.17  \n                   2     Plugin             2                     10.55  \n                                            3                      7.04  \n                                            4                      6.67  \n                   0     Tot                0                     75.44  \n                         Average            0                      9.43  \n                         Standard Deviation 0                      3.92  \nThiMai   304223302 2     Grasshopper        2                     19.85  \n                                            3                     25.91  \n                                            4                     23.96  \n                   1     Hybrid             2                      9.68  \n                                            3                      9.23  \n                                            4                      4.01  \n                   3     Plugin             2                      3.35  \n                                            3                      5.94  \n                                            4                      5.63  \n                   0     Tot                0                    107.56  \n                         Average            0                     11.95  \n                         Standard Deviation 0                      8.85  \nAni      303120402 3     Grasshopper        2                     30.00  \n                                            3                     48.60  \n                                            4                     18.68  \n                   2     Hybrid             2                     10.38  \n                                            3                     12.58  \n                                            4                      9.76  \n                   1     Plugin             2                      4.51  \n                                            3                      4.20  \n                                            4                      6.50  \n                   0     Tot                0                    145.21  \n                         Average            0                     16.13  \n                         Standard Deviation 0                     14.62  \nRomain   323341324 1     Grasshopper        2                     15.42  \n                                            3                     17.70  \n                                            4                      8.97  \n                   2     Hybrid             2                      8.57  \n                                            3                      7.96  \n                                            4                      2.56  \n                   3     Plugin             2                      7.37  \n                                            3                      2.89  \n                                            4                      0.00  \n                   0     Tot                0                     71.45  \n                         Average            0                      7.94  \n                         Standard Deviation 0                      5.81  \nStephB   404223002 3     Grasshopper        2                     20.00  \n                                            3                     17.81  \n                                            4                     14.18  \n                   1     Hybrid             2                     14.51  \n                                            3                     13.97  \n                                            4                     12.69  \n                   2     Plugin             2                     10.26  \n                                            3                     22.58  \n                                            4                     18.75  \n                   0     Tot                0                    144.76  \n                         Average            0                     16.08  \n                         Standard Deviation 0                      3.93  \n\n[168 rows x 18 columns]",
      "text/html": "<div>\n<style scoped>\n    .dataframe tbody tr th:only-of-type {\n        vertical-align: middle;\n    }\n\n    .dataframe tbody tr th {\n        vertical-align: top;\n    }\n\n    .dataframe thead th {\n        text-align: right;\n    }\n</style>\n<table border=\"1\" class=\"dataframe\">\n  <thead>\n    <tr style=\"text-align: right;\">\n      <th></th>\n      <th></th>\n      <th></th>\n      <th></th>\n      <th></th>\n      <th>TileXSize</th>\n      <th>TileYSize</th>\n      <th>Variability</th>\n      <th>Columns</th>\n      <th>Rows</th>\n      <th>MultipleX</th>\n      <th>...</th>\n      <th>MinOpeningHeight</th>\n      <th>MinOpeningWidth</th>\n      <th>DoorNumber</th>\n      <th>Total Iterations</th>\n      <th>Time</th>\n      <th>Iterations / Minute</th>\n    </tr>\n    <tr>\n      <th>Name</th>\n      <th>Level</th>\n      <th>Order</th>\n      <th>Type</th>\n      <th>Object</th>\n      <th></th>\n      <th></th>\n      <th></th>\n      <th></th>\n      <th></th>\n      <th></th>\n      <th></th>\n      <th></th>\n      <th></th>\n      <th></th>\n      <th></th>\n      <th></th>\n      <th></th>\n    </tr>\n  </thead>\n  <tbody>\n    <tr>\n      <th rowspan=\"12\" valign=\"top\">Khulan</th>\n      <th rowspan=\"12\" valign=\"top\">303112001</th>\n      <th rowspan=\"3\" valign=\"top\">1</th>\n      <th rowspan=\"3\" valign=\"top\">Grasshopper</th>\n      <th>2</th>\n      <td>4.00</td>\n      <td>4.00</td>\n      <td>0.00</td>\n      <td>14.00</td>\n      <td>8.00</td>\n      <td>0.00</td>\n      <td>...</td>\n      <td>17.00</td>\n      <td>6.00</td>\n      <td>5.00</td>\n      <td>121.00</td>\n      <td>188.00</td>\n      <td>38.62</td>\n    </tr>\n    <tr>\n      <th>3</th>\n      <td>2.00</td>\n      <td>0.00</td>\n      <td>8.00</td>\n      <td>5.00</td>\n      <td>6.00</td>\n      <td>3.00</td>\n      <td>...</td>\n      <td>16.00</td>\n      <td>0.00</td>\n      <td>3.00</td>\n      <td>91.00</td>\n      <td>144.00</td>\n      <td>37.92</td>\n    </tr>\n    <tr>\n      <th>4</th>\n      <td>0.00</td>\n      <td>0.00</td>\n      <td>0.00</td>\n      <td>2.00</td>\n      <td>9.00</td>\n      <td>0.00</td>\n      <td>...</td>\n      <td>0.00</td>\n      <td>0.00</td>\n      <td>2.00</td>\n      <td>20.00</td>\n      <td>73.00</td>\n      <td>16.44</td>\n    </tr>\n    <tr>\n      <th rowspan=\"3\" valign=\"top\">2</th>\n      <th rowspan=\"3\" valign=\"top\">Hybrid</th>\n      <th>2</th>\n      <td>0.00</td>\n      <td>0.00</td>\n      <td>3.00</td>\n      <td>0.00</td>\n      <td>1.00</td>\n      <td>5.00</td>\n      <td>...</td>\n      <td>3.00</td>\n      <td>2.00</td>\n      <td>3.00</td>\n      <td>24.00</td>\n      <td>141.00</td>\n      <td>10.21</td>\n    </tr>\n    <tr>\n      <th>3</th>\n      <td>2.00</td>\n      <td>0.00</td>\n      <td>1.00</td>\n      <td>0.00</td>\n      <td>0.00</td>\n      <td>2.00</td>\n      <td>...</td>\n      <td>0.00</td>\n      <td>0.00</td>\n      <td>2.00</td>\n      <td>10.00</td>\n      <td>53.00</td>\n      <td>11.32</td>\n    </tr>\n    <tr>\n      <th>4</th>\n      <td>2.00</td>\n      <td>0.00</td>\n      <td>0.00</td>\n      <td>1.00</td>\n      <td>0.00</td>\n      <td>0.00</td>\n      <td>...</td>\n      <td>0.00</td>\n      <td>1.00</td>\n      <td>1.00</td>\n      <td>11.00</td>\n      <td>88.00</td>\n      <td>7.50</td>\n    </tr>\n    <tr>\n      <th rowspan=\"3\" valign=\"top\">3</th>\n      <th rowspan=\"3\" valign=\"top\">Plugin</th>\n      <th>2</th>\n      <td>0.00</td>\n      <td>0.00</td>\n      <td>0.00</td>\n      <td>0.00</td>\n      <td>0.00</td>\n      <td>1.00</td>\n      <td>...</td>\n      <td>0.00</td>\n      <td>0.00</td>\n      <td>1.00</td>\n      <td>9.00</td>\n      <td>73.00</td>\n      <td>7.40</td>\n    </tr>\n    <tr>\n      <th>3</th>\n      <td>0.00</td>\n      <td>0.00</td>\n      <td>1.00</td>\n      <td>0.00</td>\n      <td>0.00</td>\n      <td>1.00</td>\n      <td>...</td>\n      <td>1.00</td>\n      <td>1.00</td>\n      <td>1.00</td>\n      <td>24.00</td>\n      <td>85.00</td>\n      <td>16.94</td>\n    </tr>\n    <tr>\n      <th>4</th>\n      <td>0.00</td>\n      <td>0.00</td>\n      <td>0.00</td>\n      <td>1.00</td>\n      <td>2.00</td>\n      <td>0.00</td>\n      <td>...</td>\n      <td>0.00</td>\n      <td>0.00</td>\n      <td>0.00</td>\n      <td>3.00</td>\n      <td>21.00</td>\n      <td>8.57</td>\n    </tr>\n    <tr>\n      <th rowspan=\"3\" valign=\"top\">0</th>\n      <th>Tot</th>\n      <th>0</th>\n      <td>10.00</td>\n      <td>4.00</td>\n      <td>13.00</td>\n      <td>23.00</td>\n      <td>26.00</td>\n      <td>12.00</td>\n      <td>...</td>\n      <td>37.00</td>\n      <td>10.00</td>\n      <td>18.00</td>\n      <td>313.00</td>\n      <td>866.00</td>\n      <td>154.92</td>\n    </tr>\n    <tr>\n      <th>Average</th>\n      <th>0</th>\n      <td>1.11</td>\n      <td>0.44</td>\n      <td>1.44</td>\n      <td>2.56</td>\n      <td>2.89</td>\n      <td>1.33</td>\n      <td>...</td>\n      <td>4.11</td>\n      <td>1.11</td>\n      <td>2.00</td>\n      <td>34.78</td>\n      <td>96.22</td>\n      <td>17.21</td>\n    </tr>\n    <tr>\n      <th>Standard Deviation</th>\n      <th>0</th>\n      <td>1.45</td>\n      <td>1.33</td>\n      <td>2.65</td>\n      <td>4.59</td>\n      <td>3.72</td>\n      <td>1.73</td>\n      <td>...</td>\n      <td>7.10</td>\n      <td>1.96</td>\n      <td>1.50</td>\n      <td>41.68</td>\n      <td>51.85</td>\n      <td>12.43</td>\n    </tr>\n    <tr>\n      <th rowspan=\"12\" valign=\"top\">Adrian</th>\n      <th rowspan=\"12\" valign=\"top\">404000100</th>\n      <th rowspan=\"3\" valign=\"top\">3</th>\n      <th rowspan=\"3\" valign=\"top\">Grasshopper</th>\n      <th>2</th>\n      <td>4.00</td>\n      <td>1.00</td>\n      <td>0.00</td>\n      <td>10.00</td>\n      <td>7.00</td>\n      <td>0.00</td>\n      <td>...</td>\n      <td>0.00</td>\n      <td>4.00</td>\n      <td>3.00</td>\n      <td>74.00</td>\n      <td>172.00</td>\n      <td>25.81</td>\n    </tr>\n    <tr>\n      <th>3</th>\n      <td>0.00</td>\n      <td>3.00</td>\n      <td>0.00</td>\n      <td>5.00</td>\n      <td>0.00</td>\n      <td>1.00</td>\n      <td>...</td>\n      <td>0.00</td>\n      <td>2.00</td>\n      <td>0.00</td>\n      <td>16.00</td>\n      <td>127.00</td>\n      <td>7.56</td>\n    </tr>\n    <tr>\n      <th>4</th>\n      <td>4.00</td>\n      <td>0.00</td>\n      <td>0.00</td>\n      <td>0.00</td>\n      <td>0.00</td>\n      <td>0.00</td>\n      <td>...</td>\n      <td>0.00</td>\n      <td>0.00</td>\n      <td>1.00</td>\n      <td>15.00</td>\n      <td>63.00</td>\n      <td>14.29</td>\n    </tr>\n    <tr>\n      <th rowspan=\"3\" valign=\"top\">1</th>\n      <th rowspan=\"3\" valign=\"top\">Hybrid</th>\n      <th>2</th>\n      <td>5.00</td>\n      <td>15.00</td>\n      <td>0.00</td>\n      <td>0.00</td>\n      <td>0.00</td>\n      <td>9.00</td>\n      <td>...</td>\n      <td>0.00</td>\n      <td>0.00</td>\n      <td>0.00</td>\n      <td>38.00</td>\n      <td>271.00</td>\n      <td>8.41</td>\n    </tr>\n    <tr>\n      <th>3</th>\n      <td>5.00</td>\n      <td>4.00</td>\n      <td>0.00</td>\n      <td>0.00</td>\n      <td>0.00</td>\n      <td>1.00</td>\n      <td>...</td>\n      <td>0.00</td>\n      <td>0.00</td>\n      <td>0.00</td>\n      <td>12.00</td>\n      <td>204.00</td>\n      <td>3.53</td>\n    </tr>\n    <tr>\n      <th>4</th>\n      <td>5.00</td>\n      <td>4.00</td>\n      <td>0.00</td>\n      <td>0.00</td>\n      <td>0.00</td>\n      <td>1.00</td>\n      <td>...</td>\n      <td>0.00</td>\n      <td>0.00</td>\n      <td>0.00</td>\n      <td>11.00</td>\n      <td>272.00</td>\n      <td>2.43</td>\n    </tr>\n    <tr>\n      <th rowspan=\"3\" valign=\"top\">2</th>\n      <th rowspan=\"3\" valign=\"top\">Plugin</th>\n      <th>2</th>\n      <td>1.00</td>\n      <td>2.00</td>\n      <td>1.00</td>\n      <td>1.00</td>\n      <td>1.00</td>\n      <td>0.00</td>\n      <td>...</td>\n      <td>0.00</td>\n      <td>0.00</td>\n      <td>2.00</td>\n      <td>19.00</td>\n      <td>137.00</td>\n      <td>8.32</td>\n    </tr>\n    <tr>\n      <th>3</th>\n      <td>4.00</td>\n      <td>2.00</td>\n      <td>1.00</td>\n      <td>0.00</td>\n      <td>2.00</td>\n      <td>1.00</td>\n      <td>...</td>\n      <td>1.00</td>\n      <td>1.00</td>\n      <td>1.00</td>\n      <td>26.00</td>\n      <td>117.00</td>\n      <td>13.33</td>\n    </tr>\n    <tr>\n      <th>4</th>\n      <td>1.00</td>\n      <td>1.00</td>\n      <td>0.00</td>\n      <td>0.00</td>\n      <td>0.00</td>\n      <td>0.00</td>\n      <td>...</td>\n      <td>0.00</td>\n      <td>0.00</td>\n      <td>0.00</td>\n      <td>2.00</td>\n      <td>14.00</td>\n      <td>8.57</td>\n    </tr>\n    <tr>\n      <th rowspan=\"3\" valign=\"top\">0</th>\n      <th>Tot</th>\n      <th>0</th>\n      <td>29.00</td>\n      <td>32.00</td>\n      <td>2.00</td>\n      <td>16.00</td>\n      <td>10.00</td>\n      <td>13.00</td>\n      <td>...</td>\n      <td>1.00</td>\n      <td>7.00</td>\n      <td>7.00</td>\n      <td>213.00</td>\n      <td>1377.00</td>\n      <td>92.25</td>\n    </tr>\n    <tr>\n      <th>Average</th>\n      <th>0</th>\n      <td>3.22</td>\n      <td>3.56</td>\n      <td>0.22</td>\n      <td>1.78</td>\n      <td>1.11</td>\n      <td>1.44</td>\n      <td>...</td>\n      <td>0.11</td>\n      <td>0.78</td>\n      <td>0.78</td>\n      <td>23.67</td>\n      <td>153.00</td>\n      <td>10.25</td>\n    </tr>\n    <tr>\n      <th>Standard Deviation</th>\n      <th>0</th>\n      <td>1.99</td>\n      <td>4.50</td>\n      <td>0.44</td>\n      <td>3.49</td>\n      <td>2.32</td>\n      <td>2.88</td>\n      <td>...</td>\n      <td>0.33</td>\n      <td>1.39</td>\n      <td>1.09</td>\n      <td>21.41</td>\n      <td>87.10</td>\n      <td>7.00</td>\n    </tr>\n    <tr>\n      <th rowspan=\"12\" valign=\"top\">Mathilde</th>\n      <th rowspan=\"12\" valign=\"top\">404223002</th>\n      <th rowspan=\"3\" valign=\"top\">2</th>\n      <th rowspan=\"3\" valign=\"top\">Grasshopper</th>\n      <th>2</th>\n      <td>0.00</td>\n      <td>15.00</td>\n      <td>4.00</td>\n      <td>13.00</td>\n      <td>0.00</td>\n      <td>0.00</td>\n      <td>...</td>\n      <td>9.00</td>\n      <td>2.00</td>\n      <td>0.00</td>\n      <td>71.00</td>\n      <td>263.00</td>\n      <td>16.20</td>\n    </tr>\n    <tr>\n      <th>3</th>\n      <td>0.00</td>\n      <td>0.00</td>\n      <td>5.00</td>\n      <td>4.00</td>\n      <td>8.00</td>\n      <td>0.00</td>\n      <td>...</td>\n      <td>5.00</td>\n      <td>0.00</td>\n      <td>0.00</td>\n      <td>24.00</td>\n      <td>117.00</td>\n      <td>12.31</td>\n    </tr>\n    <tr>\n      <th>4</th>\n      <td>0.00</td>\n      <td>0.00</td>\n      <td>0.00</td>\n      <td>2.00</td>\n      <td>0.00</td>\n      <td>0.00</td>\n      <td>...</td>\n      <td>0.00</td>\n      <td>0.00</td>\n      <td>0.00</td>\n      <td>3.00</td>\n      <td>42.00</td>\n      <td>4.29</td>\n    </tr>\n    <tr>\n      <th rowspan=\"3\" valign=\"top\">3</th>\n      <th rowspan=\"3\" valign=\"top\">Hybrid</th>\n      <th>2</th>\n      <td>0.00</td>\n      <td>0.00</td>\n      <td>0.00</td>\n      <td>3.00</td>\n      <td>3.00</td>\n      <td>1.00</td>\n      <td>...</td>\n      <td>1.00</td>\n      <td>0.00</td>\n      <td>2.00</td>\n      <td>20.00</td>\n      <td>197.00</td>\n      <td>6.09</td>\n    </tr>\n    <tr>\n      <th>3</th>\n      <td>12.00</td>\n      <td>19.00</td>\n      <td>2.00</td>\n      <td>2.00</td>\n      <td>4.00</td>\n      <td>0.00</td>\n      <td>...</td>\n      <td>3.00</td>\n      <td>2.00</td>\n      <td>1.00</td>\n      <td>49.00</td>\n      <td>262.00</td>\n      <td>11.22</td>\n    </tr>\n    <tr>\n      <th>4</th>\n      <td>3.00</td>\n      <td>4.00</td>\n      <td>1.00</td>\n      <td>1.00</td>\n      <td>0.00</td>\n      <td>0.00</td>\n      <td>...</td>\n      <td>3.00</td>\n      <td>0.00</td>\n      <td>2.00</td>\n      <td>16.00</td>\n      <td>130.00</td>\n      <td>7.38</td>\n    </tr>\n    <tr>\n      <th rowspan=\"3\" valign=\"top\">1</th>\n      <th rowspan=\"3\" valign=\"top\">Plugin</th>\n      <th>2</th>\n      <td>2.00</td>\n      <td>2.00</td>\n      <td>0.00</td>\n      <td>1.00</td>\n      <td>1.00</td>\n      <td>2.00</td>\n      <td>...</td>\n      <td>2.00</td>\n      <td>0.00</td>\n      <td>1.00</td>\n      <td>21.00</td>\n      <td>150.00</td>\n      <td>8.40</td>\n    </tr>\n    <tr>\n      <th>3</th>\n      <td>1.00</td>\n      <td>0.00</td>\n      <td>0.00</td>\n      <td>0.00</td>\n      <td>0.00</td>\n      <td>0.00</td>\n      <td>...</td>\n      <td>0.00</td>\n      <td>0.00</td>\n      <td>0.00</td>\n      <td>2.00</td>\n      <td>19.00</td>\n      <td>6.32</td>\n    </tr>\n    <tr>\n      <th>4</th>\n      <td>1.00</td>\n      <td>0.00</td>\n      <td>0.00</td>\n      <td>0.00</td>\n      <td>0.00</td>\n      <td>0.00</td>\n      <td>...</td>\n      <td>0.00</td>\n      <td>0.00</td>\n      <td>0.00</td>\n      <td>2.00</td>\n      <td>35.00</td>\n      <td>3.43</td>\n    </tr>\n    <tr>\n      <th rowspan=\"3\" valign=\"top\">0</th>\n      <th>Tot</th>\n      <th>0</th>\n      <td>19.00</td>\n      <td>40.00</td>\n      <td>12.00</td>\n      <td>26.00</td>\n      <td>16.00</td>\n      <td>3.00</td>\n      <td>...</td>\n      <td>23.00</td>\n      <td>4.00</td>\n      <td>6.00</td>\n      <td>208.00</td>\n      <td>1215.00</td>\n      <td>75.63</td>\n    </tr>\n    <tr>\n      <th>Average</th>\n      <th>0</th>\n      <td>2.11</td>\n      <td>4.44</td>\n      <td>1.33</td>\n      <td>2.89</td>\n      <td>1.78</td>\n      <td>0.33</td>\n      <td>...</td>\n      <td>2.56</td>\n      <td>0.44</td>\n      <td>0.67</td>\n      <td>23.11</td>\n      <td>135.00</td>\n      <td>8.40</td>\n    </tr>\n    <tr>\n      <th>Standard Deviation</th>\n      <th>0</th>\n      <td>3.86</td>\n      <td>7.32</td>\n      <td>1.94</td>\n      <td>4.01</td>\n      <td>2.77</td>\n      <td>0.71</td>\n      <td>...</td>\n      <td>2.96</td>\n      <td>0.88</td>\n      <td>0.87</td>\n      <td>23.25</td>\n      <td>92.90</td>\n      <td>4.13</td>\n    </tr>\n    <tr>\n      <th rowspan=\"12\" valign=\"top\">Virgil</th>\n      <th rowspan=\"12\" valign=\"top\">303334003</th>\n      <th rowspan=\"3\" valign=\"top\">1</th>\n      <th rowspan=\"3\" valign=\"top\">Grasshopper</th>\n      <th>2</th>\n      <td>4.00</td>\n      <td>3.00</td>\n      <td>2.00</td>\n      <td>6.00</td>\n      <td>4.00</td>\n      <td>10.00</td>\n      <td>...</td>\n      <td>4.00</td>\n      <td>0.00</td>\n      <td>2.00</td>\n      <td>80.00</td>\n      <td>684.00</td>\n      <td>7.02</td>\n    </tr>\n    <tr>\n      <th>3</th>\n      <td>2.00</td>\n      <td>1.00</td>\n      <td>0.00</td>\n      <td>2.00</td>\n      <td>0.00</td>\n      <td>3.00</td>\n      <td>...</td>\n      <td>0.00</td>\n      <td>0.00</td>\n      <td>2.00</td>\n      <td>28.00</td>\n      <td>296.00</td>\n      <td>5.68</td>\n    </tr>\n    <tr>\n      <th>4</th>\n      <td>0.00</td>\n      <td>0.00</td>\n      <td>0.00</td>\n      <td>2.00</td>\n      <td>3.00</td>\n      <td>1.00</td>\n      <td>...</td>\n      <td>0.00</td>\n      <td>0.00</td>\n      <td>2.00</td>\n      <td>19.00</td>\n      <td>400.00</td>\n      <td>2.85</td>\n    </tr>\n    <tr>\n      <th rowspan=\"3\" valign=\"top\">3</th>\n      <th rowspan=\"3\" valign=\"top\">Hybrid</th>\n      <th>2</th>\n      <td>9.00</td>\n      <td>15.00</td>\n      <td>7.00</td>\n      <td>2.00</td>\n      <td>3.00</td>\n      <td>7.00</td>\n      <td>...</td>\n      <td>1.00</td>\n      <td>11.00</td>\n      <td>0.00</td>\n      <td>67.00</td>\n      <td>750.00</td>\n      <td>5.36</td>\n    </tr>\n    <tr>\n      <th>3</th>\n      <td>0.00</td>\n      <td>0.00</td>\n      <td>0.00</td>\n      <td>1.00</td>\n      <td>0.00</td>\n      <td>0.00</td>\n      <td>...</td>\n      <td>0.00</td>\n      <td>0.00</td>\n      <td>0.00</td>\n      <td>1.00</td>\n      <td>39.00</td>\n      <td>1.54</td>\n    </tr>\n    <tr>\n      <th>4</th>\n      <td>0.00</td>\n      <td>0.00</td>\n      <td>1.00</td>\n      <td>2.00</td>\n      <td>1.00</td>\n      <td>2.00</td>\n      <td>...</td>\n      <td>0.00</td>\n      <td>1.00</td>\n      <td>1.00</td>\n      <td>10.00</td>\n      <td>177.00</td>\n      <td>3.39</td>\n    </tr>\n    <tr>\n      <th rowspan=\"3\" valign=\"top\">2</th>\n      <th rowspan=\"3\" valign=\"top\">Plugin</th>\n      <th>2</th>\n      <td>1.00</td>\n      <td>2.00</td>\n      <td>0.00</td>\n      <td>2.00</td>\n      <td>2.00</td>\n      <td>1.00</td>\n      <td>...</td>\n      <td>2.00</td>\n      <td>2.00</td>\n      <td>1.00</td>\n      <td>23.00</td>\n      <td>303.00</td>\n      <td>4.55</td>\n    </tr>\n    <tr>\n      <th>3</th>\n      <td>0.00</td>\n      <td>1.00</td>\n      <td>1.00</td>\n      <td>1.00</td>\n      <td>2.00</td>\n      <td>0.00</td>\n      <td>...</td>\n      <td>3.00</td>\n      <td>2.00</td>\n      <td>2.00</td>\n      <td>27.00</td>\n      <td>480.00</td>\n      <td>3.38</td>\n    </tr>\n    <tr>\n      <th>4</th>\n      <td>0.00</td>\n      <td>0.00</td>\n      <td>0.00</td>\n      <td>1.00</td>\n      <td>0.00</td>\n      <td>1.00</td>\n      <td>...</td>\n      <td>0.00</td>\n      <td>1.00</td>\n      <td>2.00</td>\n      <td>9.00</td>\n      <td>193.00</td>\n      <td>2.80</td>\n    </tr>\n    <tr>\n      <th rowspan=\"3\" valign=\"top\">0</th>\n      <th>Tot</th>\n      <th>0</th>\n      <td>16.00</td>\n      <td>22.00</td>\n      <td>11.00</td>\n      <td>19.00</td>\n      <td>15.00</td>\n      <td>25.00</td>\n      <td>...</td>\n      <td>10.00</td>\n      <td>17.00</td>\n      <td>12.00</td>\n      <td>264.00</td>\n      <td>3322.00</td>\n      <td>36.56</td>\n    </tr>\n    <tr>\n      <th>Average</th>\n      <th>0</th>\n      <td>1.78</td>\n      <td>2.44</td>\n      <td>1.22</td>\n      <td>2.11</td>\n      <td>1.67</td>\n      <td>2.78</td>\n      <td>...</td>\n      <td>1.11</td>\n      <td>1.89</td>\n      <td>1.33</td>\n      <td>29.33</td>\n      <td>369.11</td>\n      <td>4.06</td>\n    </tr>\n    <tr>\n      <th>Standard Deviation</th>\n      <th>0</th>\n      <td>3.03</td>\n      <td>4.82</td>\n      <td>2.28</td>\n      <td>1.54</td>\n      <td>1.50</td>\n      <td>3.46</td>\n      <td>...</td>\n      <td>1.54</td>\n      <td>3.52</td>\n      <td>0.87</td>\n      <td>26.76</td>\n      <td>235.61</td>\n      <td>1.72</td>\n    </tr>\n    <tr>\n      <th rowspan=\"12\" valign=\"top\">FannyM</th>\n      <th rowspan=\"12\" valign=\"top\">404113101</th>\n      <th rowspan=\"3\" valign=\"top\">2</th>\n      <th rowspan=\"3\" valign=\"top\">Grasshopper</th>\n      <th>2</th>\n      <td>4.00</td>\n      <td>4.00</td>\n      <td>2.00</td>\n      <td>1.00</td>\n      <td>0.00</td>\n      <td>9.00</td>\n      <td>...</td>\n      <td>6.00</td>\n      <td>11.00</td>\n      <td>0.00</td>\n      <td>101.00</td>\n      <td>279.00</td>\n      <td>21.72</td>\n    </tr>\n    <tr>\n      <th>3</th>\n      <td>0.00</td>\n      <td>0.00</td>\n      <td>2.00</td>\n      <td>0.00</td>\n      <td>1.00</td>\n      <td>7.00</td>\n      <td>...</td>\n      <td>4.00</td>\n      <td>0.00</td>\n      <td>0.00</td>\n      <td>39.00</td>\n      <td>142.00</td>\n      <td>16.48</td>\n    </tr>\n    <tr>\n      <th>4</th>\n      <td>0.00</td>\n      <td>0.00</td>\n      <td>0.00</td>\n      <td>1.00</td>\n      <td>0.00</td>\n      <td>0.00</td>\n      <td>...</td>\n      <td>0.00</td>\n      <td>0.00</td>\n      <td>4.00</td>\n      <td>23.00</td>\n      <td>71.00</td>\n      <td>19.44</td>\n    </tr>\n    <tr>\n      <th rowspan=\"3\" valign=\"top\">1</th>\n      <th rowspan=\"3\" valign=\"top\">Hybrid</th>\n      <th>2</th>\n      <td>11.00</td>\n      <td>5.00</td>\n      <td>29.00</td>\n      <td>2.00</td>\n      <td>2.00</td>\n      <td>4.00</td>\n      <td>...</td>\n      <td>12.00</td>\n      <td>10.00</td>\n      <td>2.00</td>\n      <td>110.00</td>\n      <td>775.00</td>\n      <td>8.52</td>\n    </tr>\n    <tr>\n      <th>3</th>\n      <td>0.00</td>\n      <td>0.00</td>\n      <td>12.00</td>\n      <td>1.00</td>\n      <td>1.00</td>\n      <td>3.00</td>\n      <td>...</td>\n      <td>0.00</td>\n      <td>0.00</td>\n      <td>1.00</td>\n      <td>40.00</td>\n      <td>224.00</td>\n      <td>10.71</td>\n    </tr>\n    <tr>\n      <th>4</th>\n      <td>0.00</td>\n      <td>0.00</td>\n      <td>8.00</td>\n      <td>1.00</td>\n      <td>0.00</td>\n      <td>0.00</td>\n      <td>...</td>\n      <td>0.00</td>\n      <td>0.00</td>\n      <td>1.00</td>\n      <td>19.00</td>\n      <td>160.00</td>\n      <td>7.12</td>\n    </tr>\n    <tr>\n      <th rowspan=\"3\" valign=\"top\">3</th>\n      <th rowspan=\"3\" valign=\"top\">Plugin</th>\n      <th>2</th>\n      <td>1.00</td>\n      <td>2.00</td>\n      <td>3.00</td>\n      <td>1.00</td>\n      <td>0.00</td>\n      <td>3.00</td>\n      <td>...</td>\n      <td>1.00</td>\n      <td>1.00</td>\n      <td>1.00</td>\n      <td>43.00</td>\n      <td>385.00</td>\n      <td>6.70</td>\n    </tr>\n    <tr>\n      <th>3</th>\n      <td>2.00</td>\n      <td>1.00</td>\n      <td>2.00</td>\n      <td>2.00</td>\n      <td>1.00</td>\n      <td>1.00</td>\n      <td>...</td>\n      <td>0.00</td>\n      <td>2.00</td>\n      <td>1.00</td>\n      <td>32.00</td>\n      <td>126.00</td>\n      <td>15.24</td>\n    </tr>\n    <tr>\n      <th>4</th>\n      <td>0.00</td>\n      <td>0.00</td>\n      <td>0.00</td>\n      <td>1.00</td>\n      <td>0.00</td>\n      <td>0.00</td>\n      <td>...</td>\n      <td>0.00</td>\n      <td>0.00</td>\n      <td>1.00</td>\n      <td>5.00</td>\n      <td>30.00</td>\n      <td>10.00</td>\n    </tr>\n    <tr>\n      <th rowspan=\"3\" valign=\"top\">0</th>\n      <th>Tot</th>\n      <th>0</th>\n      <td>18.00</td>\n      <td>12.00</td>\n      <td>58.00</td>\n      <td>10.00</td>\n      <td>5.00</td>\n      <td>27.00</td>\n      <td>...</td>\n      <td>23.00</td>\n      <td>24.00</td>\n      <td>11.00</td>\n      <td>412.00</td>\n      <td>2192.00</td>\n      <td>115.93</td>\n    </tr>\n    <tr>\n      <th>Average</th>\n      <th>0</th>\n      <td>2.00</td>\n      <td>1.33</td>\n      <td>6.44</td>\n      <td>1.11</td>\n      <td>0.56</td>\n      <td>3.00</td>\n      <td>...</td>\n      <td>2.56</td>\n      <td>2.67</td>\n      <td>1.22</td>\n      <td>45.78</td>\n      <td>243.56</td>\n      <td>12.88</td>\n    </tr>\n    <tr>\n      <th>Standard Deviation</th>\n      <th>0</th>\n      <td>3.64</td>\n      <td>1.94</td>\n      <td>9.33</td>\n      <td>0.60</td>\n      <td>0.73</td>\n      <td>3.24</td>\n      <td>...</td>\n      <td>4.16</td>\n      <td>4.50</td>\n      <td>1.20</td>\n      <td>35.97</td>\n      <td>226.54</td>\n      <td>5.51</td>\n    </tr>\n    <tr>\n      <th rowspan=\"12\" valign=\"top\">Margaux</th>\n      <th rowspan=\"12\" valign=\"top\">303221202</th>\n      <th rowspan=\"3\" valign=\"top\">3</th>\n      <th rowspan=\"3\" valign=\"top\">Grasshopper</th>\n      <th>2</th>\n      <td>5.00</td>\n      <td>8.00</td>\n      <td>1.00</td>\n      <td>2.00</td>\n      <td>5.00</td>\n      <td>2.00</td>\n      <td>...</td>\n      <td>1.00</td>\n      <td>1.00</td>\n      <td>6.00</td>\n      <td>66.00</td>\n      <td>239.00</td>\n      <td>16.57</td>\n    </tr>\n    <tr>\n      <th>3</th>\n      <td>4.00</td>\n      <td>4.00</td>\n      <td>4.00</td>\n      <td>1.00</td>\n      <td>3.00</td>\n      <td>0.00</td>\n      <td>...</td>\n      <td>5.00</td>\n      <td>1.00</td>\n      <td>2.00</td>\n      <td>70.00</td>\n      <td>178.00</td>\n      <td>23.60</td>\n    </tr>\n    <tr>\n      <th>4</th>\n      <td>2.00</td>\n      <td>2.00</td>\n      <td>3.00</td>\n      <td>4.00</td>\n      <td>0.00</td>\n      <td>0.00</td>\n      <td>...</td>\n      <td>5.00</td>\n      <td>0.00</td>\n      <td>3.00</td>\n      <td>53.00</td>\n      <td>171.00</td>\n      <td>18.60</td>\n    </tr>\n    <tr>\n      <th rowspan=\"3\" valign=\"top\">2</th>\n      <th rowspan=\"3\" valign=\"top\">Hybrid</th>\n      <th>2</th>\n      <td>1.00</td>\n      <td>2.00</td>\n      <td>0.00</td>\n      <td>2.00</td>\n      <td>0.00</td>\n      <td>0.00</td>\n      <td>...</td>\n      <td>2.00</td>\n      <td>0.00</td>\n      <td>1.00</td>\n      <td>21.00</td>\n      <td>164.00</td>\n      <td>7.68</td>\n    </tr>\n    <tr>\n      <th>3</th>\n      <td>0.00</td>\n      <td>11.00</td>\n      <td>2.00</td>\n      <td>0.00</td>\n      <td>0.00</td>\n      <td>0.00</td>\n      <td>...</td>\n      <td>0.00</td>\n      <td>3.00</td>\n      <td>2.00</td>\n      <td>28.00</td>\n      <td>317.00</td>\n      <td>5.30</td>\n    </tr>\n    <tr>\n      <th>4</th>\n      <td>0.00</td>\n      <td>0.00</td>\n      <td>4.00</td>\n      <td>1.00</td>\n      <td>1.00</td>\n      <td>1.00</td>\n      <td>...</td>\n      <td>2.00</td>\n      <td>2.00</td>\n      <td>3.00</td>\n      <td>24.00</td>\n      <td>348.00</td>\n      <td>4.14</td>\n    </tr>\n    <tr>\n      <th rowspan=\"3\" valign=\"top\">1</th>\n      <th rowspan=\"3\" valign=\"top\">Plugin</th>\n      <th>2</th>\n      <td>3.00</td>\n      <td>1.00</td>\n      <td>3.00</td>\n      <td>1.00</td>\n      <td>2.00</td>\n      <td>6.00</td>\n      <td>...</td>\n      <td>0.00</td>\n      <td>0.00</td>\n      <td>0.00</td>\n      <td>27.00</td>\n      <td>348.00</td>\n      <td>4.66</td>\n    </tr>\n    <tr>\n      <th>3</th>\n      <td>0.00</td>\n      <td>0.00</td>\n      <td>2.00</td>\n      <td>2.00</td>\n      <td>3.00</td>\n      <td>0.00</td>\n      <td>...</td>\n      <td>2.00</td>\n      <td>2.00</td>\n      <td>1.00</td>\n      <td>39.00</td>\n      <td>340.00</td>\n      <td>6.88</td>\n    </tr>\n    <tr>\n      <th>4</th>\n      <td>2.00</td>\n      <td>0.00</td>\n      <td>1.00</td>\n      <td>2.00</td>\n      <td>1.00</td>\n      <td>0.00</td>\n      <td>...</td>\n      <td>1.00</td>\n      <td>1.00</td>\n      <td>3.00</td>\n      <td>22.00</td>\n      <td>462.00</td>\n      <td>2.86</td>\n    </tr>\n    <tr>\n      <th rowspan=\"3\" valign=\"top\">0</th>\n      <th>Tot</th>\n      <th>0</th>\n      <td>17.00</td>\n      <td>28.00</td>\n      <td>20.00</td>\n      <td>15.00</td>\n      <td>15.00</td>\n      <td>9.00</td>\n      <td>...</td>\n      <td>18.00</td>\n      <td>10.00</td>\n      <td>21.00</td>\n      <td>350.00</td>\n      <td>2567.00</td>\n      <td>90.28</td>\n    </tr>\n    <tr>\n      <th>Average</th>\n      <th>0</th>\n      <td>1.89</td>\n      <td>3.11</td>\n      <td>2.22</td>\n      <td>1.67</td>\n      <td>1.67</td>\n      <td>1.00</td>\n      <td>...</td>\n      <td>2.00</td>\n      <td>1.11</td>\n      <td>2.33</td>\n      <td>38.89</td>\n      <td>285.22</td>\n      <td>10.03</td>\n    </tr>\n    <tr>\n      <th>Standard Deviation</th>\n      <th>0</th>\n      <td>1.83</td>\n      <td>3.92</td>\n      <td>1.39</td>\n      <td>1.12</td>\n      <td>1.73</td>\n      <td>2.00</td>\n      <td>...</td>\n      <td>1.87</td>\n      <td>1.05</td>\n      <td>1.73</td>\n      <td>19.33</td>\n      <td>102.78</td>\n      <td>7.53</td>\n    </tr>\n    <tr>\n      <th rowspan=\"12\" valign=\"top\">JL</th>\n      <th rowspan=\"12\" valign=\"top\">304420003</th>\n      <th rowspan=\"3\" valign=\"top\">1</th>\n      <th rowspan=\"3\" valign=\"top\">Grasshopper</th>\n      <th>2</th>\n      <td>1.00</td>\n      <td>1.00</td>\n      <td>3.00</td>\n      <td>5.00</td>\n      <td>1.00</td>\n      <td>9.00</td>\n      <td>...</td>\n      <td>0.00</td>\n      <td>2.00</td>\n      <td>1.00</td>\n      <td>33.00</td>\n      <td>373.00</td>\n      <td>5.31</td>\n    </tr>\n    <tr>\n      <th>3</th>\n      <td>1.00</td>\n      <td>0.00</td>\n      <td>4.00</td>\n      <td>1.00</td>\n      <td>1.00</td>\n      <td>0.00</td>\n      <td>...</td>\n      <td>1.00</td>\n      <td>1.00</td>\n      <td>1.00</td>\n      <td>16.00</td>\n      <td>324.00</td>\n      <td>2.96</td>\n    </tr>\n    <tr>\n      <th>4</th>\n      <td>0.00</td>\n      <td>0.00</td>\n      <td>0.00</td>\n      <td>0.00</td>\n      <td>0.00</td>\n      <td>0.00</td>\n      <td>...</td>\n      <td>0.00</td>\n      <td>0.00</td>\n      <td>0.00</td>\n      <td>0.00</td>\n      <td>0.00</td>\n      <td>0.00</td>\n    </tr>\n    <tr>\n      <th rowspan=\"3\" valign=\"top\">2</th>\n      <th rowspan=\"3\" valign=\"top\">Hybrid</th>\n      <th>2</th>\n      <td>6.00</td>\n      <td>3.00</td>\n      <td>4.00</td>\n      <td>2.00</td>\n      <td>0.00</td>\n      <td>2.00</td>\n      <td>...</td>\n      <td>0.00</td>\n      <td>1.00</td>\n      <td>1.00</td>\n      <td>25.00</td>\n      <td>179.00</td>\n      <td>8.38</td>\n    </tr>\n    <tr>\n      <th>3</th>\n      <td>3.00</td>\n      <td>0.00</td>\n      <td>4.00</td>\n      <td>1.00</td>\n      <td>2.00</td>\n      <td>0.00</td>\n      <td>...</td>\n      <td>1.00</td>\n      <td>5.00</td>\n      <td>0.00</td>\n      <td>18.00</td>\n      <td>227.00</td>\n      <td>4.76</td>\n    </tr>\n    <tr>\n      <th>4</th>\n      <td>4.00</td>\n      <td>4.00</td>\n      <td>2.00</td>\n      <td>1.00</td>\n      <td>0.00</td>\n      <td>1.00</td>\n      <td>...</td>\n      <td>0.00</td>\n      <td>1.00</td>\n      <td>1.00</td>\n      <td>23.00</td>\n      <td>204.00</td>\n      <td>6.76</td>\n    </tr>\n    <tr>\n      <th rowspan=\"3\" valign=\"top\">3</th>\n      <th rowspan=\"3\" valign=\"top\">Plugin</th>\n      <th>2</th>\n      <td>2.00</td>\n      <td>2.00</td>\n      <td>1.00</td>\n      <td>1.00</td>\n      <td>1.00</td>\n      <td>2.00</td>\n      <td>...</td>\n      <td>1.00</td>\n      <td>0.00</td>\n      <td>0.00</td>\n      <td>25.00</td>\n      <td>205.00</td>\n      <td>7.32</td>\n    </tr>\n    <tr>\n      <th>3</th>\n      <td>2.00</td>\n      <td>1.00</td>\n      <td>2.00</td>\n      <td>1.00</td>\n      <td>1.00</td>\n      <td>2.00</td>\n      <td>...</td>\n      <td>1.00</td>\n      <td>2.00</td>\n      <td>0.00</td>\n      <td>26.00</td>\n      <td>190.00</td>\n      <td>8.21</td>\n    </tr>\n    <tr>\n      <th>4</th>\n      <td>0.00</td>\n      <td>0.00</td>\n      <td>0.00</td>\n      <td>1.00</td>\n      <td>0.00</td>\n      <td>0.00</td>\n      <td>...</td>\n      <td>0.00</td>\n      <td>0.00</td>\n      <td>1.00</td>\n      <td>2.00</td>\n      <td>41.00</td>\n      <td>2.93</td>\n    </tr>\n    <tr>\n      <th rowspan=\"3\" valign=\"top\">0</th>\n      <th>Tot</th>\n      <th>0</th>\n      <td>19.00</td>\n      <td>11.00</td>\n      <td>20.00</td>\n      <td>13.00</td>\n      <td>6.00</td>\n      <td>16.00</td>\n      <td>...</td>\n      <td>4.00</td>\n      <td>12.00</td>\n      <td>5.00</td>\n      <td>168.00</td>\n      <td>1743.00</td>\n      <td>46.63</td>\n    </tr>\n    <tr>\n      <th>Average</th>\n      <th>0</th>\n      <td>2.11</td>\n      <td>1.22</td>\n      <td>2.22</td>\n      <td>1.44</td>\n      <td>0.67</td>\n      <td>1.78</td>\n      <td>...</td>\n      <td>0.44</td>\n      <td>1.33</td>\n      <td>0.56</td>\n      <td>18.67</td>\n      <td>193.67</td>\n      <td>5.83</td>\n    </tr>\n    <tr>\n      <th>Standard Deviation</th>\n      <th>0</th>\n      <td>1.96</td>\n      <td>1.48</td>\n      <td>1.64</td>\n      <td>1.42</td>\n      <td>0.71</td>\n      <td>2.86</td>\n      <td>...</td>\n      <td>0.53</td>\n      <td>1.58</td>\n      <td>0.53</td>\n      <td>11.14</td>\n      <td>118.08</td>\n      <td>2.18</td>\n    </tr>\n    <tr>\n      <th rowspan=\"12\" valign=\"top\">Hélène</th>\n      <th rowspan=\"12\" valign=\"top\">404113001</th>\n      <th rowspan=\"3\" valign=\"top\">3</th>\n      <th rowspan=\"3\" valign=\"top\">Grasshopper</th>\n      <th>2</th>\n      <td>0.00</td>\n      <td>0.00</td>\n      <td>4.00</td>\n      <td>1.00</td>\n      <td>0.00</td>\n      <td>1.00</td>\n      <td>...</td>\n      <td>0.00</td>\n      <td>0.00</td>\n      <td>0.00</td>\n      <td>32.00</td>\n      <td>162.00</td>\n      <td>11.85</td>\n    </tr>\n    <tr>\n      <th>3</th>\n      <td>0.00</td>\n      <td>0.00</td>\n      <td>0.00</td>\n      <td>0.00</td>\n      <td>3.00</td>\n      <td>0.00</td>\n      <td>...</td>\n      <td>0.00</td>\n      <td>0.00</td>\n      <td>0.00</td>\n      <td>18.00</td>\n      <td>92.00</td>\n      <td>11.74</td>\n    </tr>\n    <tr>\n      <th>4</th>\n      <td>0.00</td>\n      <td>0.00</td>\n      <td>1.00</td>\n      <td>1.00</td>\n      <td>0.00</td>\n      <td>0.00</td>\n      <td>...</td>\n      <td>1.00</td>\n      <td>2.00</td>\n      <td>0.00</td>\n      <td>12.00</td>\n      <td>204.00</td>\n      <td>3.53</td>\n    </tr>\n    <tr>\n      <th rowspan=\"3\" valign=\"top\">1</th>\n      <th rowspan=\"3\" valign=\"top\">Hybrid</th>\n      <th>2</th>\n      <td>6.00</td>\n      <td>0.00</td>\n      <td>19.00</td>\n      <td>2.00</td>\n      <td>1.00</td>\n      <td>1.00</td>\n      <td>...</td>\n      <td>11.00</td>\n      <td>19.00</td>\n      <td>2.00</td>\n      <td>93.00</td>\n      <td>764.00</td>\n      <td>7.30</td>\n    </tr>\n    <tr>\n      <th>3</th>\n      <td>1.00</td>\n      <td>1.00</td>\n      <td>0.00</td>\n      <td>0.00</td>\n      <td>0.00</td>\n      <td>0.00</td>\n      <td>...</td>\n      <td>0.00</td>\n      <td>0.00</td>\n      <td>0.00</td>\n      <td>13.00</td>\n      <td>124.00</td>\n      <td>6.29</td>\n    </tr>\n    <tr>\n      <th>4</th>\n      <td>7.00</td>\n      <td>0.00</td>\n      <td>2.00</td>\n      <td>0.00</td>\n      <td>0.00</td>\n      <td>0.00</td>\n      <td>...</td>\n      <td>1.00</td>\n      <td>3.00</td>\n      <td>2.00</td>\n      <td>23.00</td>\n      <td>261.00</td>\n      <td>5.29</td>\n    </tr>\n    <tr>\n      <th rowspan=\"3\" valign=\"top\">2</th>\n      <th rowspan=\"3\" valign=\"top\">Plugin</th>\n      <th>2</th>\n      <td>2.00</td>\n      <td>0.00</td>\n      <td>3.00</td>\n      <td>1.00</td>\n      <td>1.00</td>\n      <td>1.00</td>\n      <td>...</td>\n      <td>1.00</td>\n      <td>1.00</td>\n      <td>1.00</td>\n      <td>39.00</td>\n      <td>181.00</td>\n      <td>12.93</td>\n    </tr>\n    <tr>\n      <th>3</th>\n      <td>0.00</td>\n      <td>0.00</td>\n      <td>0.00</td>\n      <td>0.00</td>\n      <td>0.00</td>\n      <td>0.00</td>\n      <td>...</td>\n      <td>0.00</td>\n      <td>0.00</td>\n      <td>1.00</td>\n      <td>3.00</td>\n      <td>45.00</td>\n      <td>4.00</td>\n    </tr>\n    <tr>\n      <th>4</th>\n      <td>0.00</td>\n      <td>0.00</td>\n      <td>1.00</td>\n      <td>1.00</td>\n      <td>2.00</td>\n      <td>0.00</td>\n      <td>...</td>\n      <td>0.00</td>\n      <td>0.00</td>\n      <td>0.00</td>\n      <td>8.00</td>\n      <td>66.00</td>\n      <td>7.27</td>\n    </tr>\n    <tr>\n      <th rowspan=\"3\" valign=\"top\">0</th>\n      <th>Tot</th>\n      <th>0</th>\n      <td>16.00</td>\n      <td>1.00</td>\n      <td>30.00</td>\n      <td>6.00</td>\n      <td>7.00</td>\n      <td>3.00</td>\n      <td>...</td>\n      <td>14.00</td>\n      <td>25.00</td>\n      <td>6.00</td>\n      <td>241.00</td>\n      <td>1899.00</td>\n      <td>70.20</td>\n    </tr>\n    <tr>\n      <th>Average</th>\n      <th>0</th>\n      <td>1.78</td>\n      <td>0.11</td>\n      <td>3.33</td>\n      <td>0.67</td>\n      <td>0.78</td>\n      <td>0.33</td>\n      <td>...</td>\n      <td>1.56</td>\n      <td>2.78</td>\n      <td>0.67</td>\n      <td>26.78</td>\n      <td>211.00</td>\n      <td>7.80</td>\n    </tr>\n    <tr>\n      <th>Standard Deviation</th>\n      <th>0</th>\n      <td>2.77</td>\n      <td>0.33</td>\n      <td>6.04</td>\n      <td>0.71</td>\n      <td>1.09</td>\n      <td>0.50</td>\n      <td>...</td>\n      <td>3.57</td>\n      <td>6.18</td>\n      <td>0.87</td>\n      <td>27.34</td>\n      <td>218.51</td>\n      <td>3.54</td>\n    </tr>\n    <tr>\n      <th rowspan=\"12\" valign=\"top\">Luca</th>\n      <th rowspan=\"12\" valign=\"top\">324332103</th>\n      <th rowspan=\"3\" valign=\"top\">2</th>\n      <th rowspan=\"3\" valign=\"top\">Grasshopper</th>\n      <th>2</th>\n      <td>18.00</td>\n      <td>8.00</td>\n      <td>0.00</td>\n      <td>1.00</td>\n      <td>0.00</td>\n      <td>6.00</td>\n      <td>...</td>\n      <td>13.00</td>\n      <td>0.00</td>\n      <td>0.00</td>\n      <td>96.00</td>\n      <td>235.00</td>\n      <td>24.51</td>\n    </tr>\n    <tr>\n      <th>3</th>\n      <td>0.00</td>\n      <td>0.00</td>\n      <td>0.00</td>\n      <td>3.00</td>\n      <td>0.00</td>\n      <td>5.00</td>\n      <td>...</td>\n      <td>0.00</td>\n      <td>7.00</td>\n      <td>0.00</td>\n      <td>53.00</td>\n      <td>137.00</td>\n      <td>23.21</td>\n    </tr>\n    <tr>\n      <th>4</th>\n      <td>0.00</td>\n      <td>0.00</td>\n      <td>0.00</td>\n      <td>2.00</td>\n      <td>0.00</td>\n      <td>0.00</td>\n      <td>...</td>\n      <td>0.00</td>\n      <td>0.00</td>\n      <td>0.00</td>\n      <td>2.00</td>\n      <td>24.00</td>\n      <td>5.00</td>\n    </tr>\n    <tr>\n      <th rowspan=\"3\" valign=\"top\">3</th>\n      <th rowspan=\"3\" valign=\"top\">Hybrid</th>\n      <th>2</th>\n      <td>0.00</td>\n      <td>0.00</td>\n      <td>7.00</td>\n      <td>2.00</td>\n      <td>0.00</td>\n      <td>0.00</td>\n      <td>...</td>\n      <td>0.00</td>\n      <td>1.00</td>\n      <td>2.00</td>\n      <td>22.00</td>\n      <td>124.00</td>\n      <td>10.65</td>\n    </tr>\n    <tr>\n      <th>3</th>\n      <td>0.00</td>\n      <td>7.00</td>\n      <td>1.00</td>\n      <td>0.00</td>\n      <td>3.00</td>\n      <td>0.00</td>\n      <td>...</td>\n      <td>0.00</td>\n      <td>0.00</td>\n      <td>0.00</td>\n      <td>12.00</td>\n      <td>114.00</td>\n      <td>6.32</td>\n    </tr>\n    <tr>\n      <th>4</th>\n      <td>0.00</td>\n      <td>0.00</td>\n      <td>0.00</td>\n      <td>2.00</td>\n      <td>0.00</td>\n      <td>0.00</td>\n      <td>...</td>\n      <td>0.00</td>\n      <td>0.00</td>\n      <td>0.00</td>\n      <td>2.00</td>\n      <td>68.00</td>\n      <td>1.76</td>\n    </tr>\n    <tr>\n      <th rowspan=\"3\" valign=\"top\">1</th>\n      <th rowspan=\"3\" valign=\"top\">Plugin</th>\n      <th>2</th>\n      <td>9.00</td>\n      <td>9.00</td>\n      <td>3.00</td>\n      <td>1.00</td>\n      <td>0.00</td>\n      <td>4.00</td>\n      <td>...</td>\n      <td>0.00</td>\n      <td>0.00</td>\n      <td>1.00</td>\n      <td>40.00</td>\n      <td>329.00</td>\n      <td>7.29</td>\n    </tr>\n    <tr>\n      <th>3</th>\n      <td>0.00</td>\n      <td>0.00</td>\n      <td>2.00</td>\n      <td>0.00</td>\n      <td>1.00</td>\n      <td>0.00</td>\n      <td>...</td>\n      <td>0.00</td>\n      <td>3.00</td>\n      <td>0.00</td>\n      <td>24.00</td>\n      <td>196.00</td>\n      <td>7.35</td>\n    </tr>\n    <tr>\n      <th>4</th>\n      <td>0.00</td>\n      <td>0.00</td>\n      <td>0.00</td>\n      <td>0.00</td>\n      <td>0.00</td>\n      <td>0.00</td>\n      <td>...</td>\n      <td>0.00</td>\n      <td>1.00</td>\n      <td>0.00</td>\n      <td>6.00</td>\n      <td>31.00</td>\n      <td>11.61</td>\n    </tr>\n    <tr>\n      <th rowspan=\"3\" valign=\"top\">0</th>\n      <th>Tot</th>\n      <th>0</th>\n      <td>27.00</td>\n      <td>24.00</td>\n      <td>13.00</td>\n      <td>11.00</td>\n      <td>4.00</td>\n      <td>15.00</td>\n      <td>...</td>\n      <td>13.00</td>\n      <td>12.00</td>\n      <td>3.00</td>\n      <td>257.00</td>\n      <td>1258.00</td>\n      <td>97.70</td>\n    </tr>\n    <tr>\n      <th>Average</th>\n      <th>0</th>\n      <td>3.00</td>\n      <td>2.67</td>\n      <td>1.44</td>\n      <td>1.22</td>\n      <td>0.44</td>\n      <td>1.67</td>\n      <td>...</td>\n      <td>1.44</td>\n      <td>1.33</td>\n      <td>0.33</td>\n      <td>28.56</td>\n      <td>139.78</td>\n      <td>10.86</td>\n    </tr>\n    <tr>\n      <th>Standard Deviation</th>\n      <th>0</th>\n      <td>6.36</td>\n      <td>4.03</td>\n      <td>2.35</td>\n      <td>1.09</td>\n      <td>1.01</td>\n      <td>2.55</td>\n      <td>...</td>\n      <td>4.33</td>\n      <td>2.35</td>\n      <td>0.71</td>\n      <td>30.69</td>\n      <td>99.59</td>\n      <td>7.92</td>\n    </tr>\n    <tr>\n      <th rowspan=\"12\" valign=\"top\">Brice</th>\n      <th rowspan=\"12\" valign=\"top\">505122002</th>\n      <th rowspan=\"3\" valign=\"top\">1</th>\n      <th rowspan=\"3\" valign=\"top\">Grasshopper</th>\n      <th>2</th>\n      <td>0.00</td>\n      <td>0.00</td>\n      <td>13.00</td>\n      <td>5.00</td>\n      <td>5.00</td>\n      <td>0.00</td>\n      <td>...</td>\n      <td>10.00</td>\n      <td>14.00</td>\n      <td>10.00</td>\n      <td>173.00</td>\n      <td>612.00</td>\n      <td>16.96</td>\n    </tr>\n    <tr>\n      <th>3</th>\n      <td>0.00</td>\n      <td>0.00</td>\n      <td>0.00</td>\n      <td>1.00</td>\n      <td>2.00</td>\n      <td>4.00</td>\n      <td>...</td>\n      <td>4.00</td>\n      <td>8.00</td>\n      <td>4.00</td>\n      <td>75.00</td>\n      <td>388.00</td>\n      <td>11.60</td>\n    </tr>\n    <tr>\n      <th>4</th>\n      <td>0.00</td>\n      <td>0.00</td>\n      <td>0.00</td>\n      <td>0.00</td>\n      <td>0.00</td>\n      <td>0.00</td>\n      <td>...</td>\n      <td>0.00</td>\n      <td>0.00</td>\n      <td>0.00</td>\n      <td>0.00</td>\n      <td>0.00</td>\n      <td>0.00</td>\n    </tr>\n    <tr>\n      <th rowspan=\"3\" valign=\"top\">3</th>\n      <th rowspan=\"3\" valign=\"top\">Hybrid</th>\n      <th>2</th>\n      <td>8.00</td>\n      <td>0.00</td>\n      <td>6.00</td>\n      <td>2.00</td>\n      <td>2.00</td>\n      <td>4.00</td>\n      <td>...</td>\n      <td>2.00</td>\n      <td>6.00</td>\n      <td>2.00</td>\n      <td>46.00</td>\n      <td>260.00</td>\n      <td>10.62</td>\n    </tr>\n    <tr>\n      <th>3</th>\n      <td>7.00</td>\n      <td>3.00</td>\n      <td>1.00</td>\n      <td>0.00</td>\n      <td>0.00</td>\n      <td>3.00</td>\n      <td>...</td>\n      <td>4.00</td>\n      <td>1.00</td>\n      <td>1.00</td>\n      <td>26.00</td>\n      <td>199.00</td>\n      <td>7.84</td>\n    </tr>\n    <tr>\n      <th>4</th>\n      <td>2.00</td>\n      <td>0.00</td>\n      <td>0.00</td>\n      <td>3.00</td>\n      <td>3.00</td>\n      <td>2.00</td>\n      <td>...</td>\n      <td>0.00</td>\n      <td>0.00</td>\n      <td>0.00</td>\n      <td>21.00</td>\n      <td>302.00</td>\n      <td>4.17</td>\n    </tr>\n    <tr>\n      <th rowspan=\"3\" valign=\"top\">2</th>\n      <th rowspan=\"3\" valign=\"top\">Plugin</th>\n      <th>2</th>\n      <td>1.00</td>\n      <td>0.00</td>\n      <td>0.00</td>\n      <td>1.00</td>\n      <td>5.00</td>\n      <td>6.00</td>\n      <td>...</td>\n      <td>0.00</td>\n      <td>0.00</td>\n      <td>1.00</td>\n      <td>48.00</td>\n      <td>273.00</td>\n      <td>10.55</td>\n    </tr>\n    <tr>\n      <th>3</th>\n      <td>1.00</td>\n      <td>0.00</td>\n      <td>0.00</td>\n      <td>2.00</td>\n      <td>0.00</td>\n      <td>0.00</td>\n      <td>...</td>\n      <td>0.00</td>\n      <td>2.00</td>\n      <td>1.00</td>\n      <td>21.00</td>\n      <td>179.00</td>\n      <td>7.04</td>\n    </tr>\n    <tr>\n      <th>4</th>\n      <td>0.00</td>\n      <td>0.00</td>\n      <td>0.00</td>\n      <td>1.00</td>\n      <td>0.00</td>\n      <td>0.00</td>\n      <td>...</td>\n      <td>0.00</td>\n      <td>0.00</td>\n      <td>1.00</td>\n      <td>15.00</td>\n      <td>135.00</td>\n      <td>6.67</td>\n    </tr>\n    <tr>\n      <th rowspan=\"3\" valign=\"top\">0</th>\n      <th>Tot</th>\n      <th>0</th>\n      <td>19.00</td>\n      <td>3.00</td>\n      <td>20.00</td>\n      <td>15.00</td>\n      <td>17.00</td>\n      <td>19.00</td>\n      <td>...</td>\n      <td>20.00</td>\n      <td>31.00</td>\n      <td>20.00</td>\n      <td>425.00</td>\n      <td>2348.00</td>\n      <td>75.44</td>\n    </tr>\n    <tr>\n      <th>Average</th>\n      <th>0</th>\n      <td>2.11</td>\n      <td>0.33</td>\n      <td>2.22</td>\n      <td>1.67</td>\n      <td>1.89</td>\n      <td>2.11</td>\n      <td>...</td>\n      <td>2.22</td>\n      <td>3.44</td>\n      <td>2.22</td>\n      <td>47.22</td>\n      <td>260.89</td>\n      <td>9.43</td>\n    </tr>\n    <tr>\n      <th>Standard Deviation</th>\n      <th>0</th>\n      <td>3.14</td>\n      <td>1.00</td>\n      <td>4.49</td>\n      <td>1.58</td>\n      <td>2.09</td>\n      <td>2.26</td>\n      <td>...</td>\n      <td>3.38</td>\n      <td>4.93</td>\n      <td>3.15</td>\n      <td>52.07</td>\n      <td>171.65</td>\n      <td>3.92</td>\n    </tr>\n    <tr>\n      <th rowspan=\"12\" valign=\"top\">ThiMai</th>\n      <th rowspan=\"12\" valign=\"top\">304223302</th>\n      <th rowspan=\"3\" valign=\"top\">2</th>\n      <th rowspan=\"3\" valign=\"top\">Grasshopper</th>\n      <th>2</th>\n      <td>8.00</td>\n      <td>9.00</td>\n      <td>8.00</td>\n      <td>2.00</td>\n      <td>0.00</td>\n      <td>0.00</td>\n      <td>...</td>\n      <td>10.00</td>\n      <td>13.00</td>\n      <td>4.00</td>\n      <td>89.00</td>\n      <td>269.00</td>\n      <td>19.85</td>\n    </tr>\n    <tr>\n      <th>3</th>\n      <td>62.00</td>\n      <td>8.00</td>\n      <td>0.00</td>\n      <td>3.00</td>\n      <td>3.00</td>\n      <td>0.00</td>\n      <td>...</td>\n      <td>0.00</td>\n      <td>0.00</td>\n      <td>0.00</td>\n      <td>76.00</td>\n      <td>176.00</td>\n      <td>25.91</td>\n    </tr>\n    <tr>\n      <th>4</th>\n      <td>14.00</td>\n      <td>57.00</td>\n      <td>2.00</td>\n      <td>0.00</td>\n      <td>4.00</td>\n      <td>2.00</td>\n      <td>...</td>\n      <td>0.00</td>\n      <td>0.00</td>\n      <td>1.00</td>\n      <td>119.00</td>\n      <td>298.00</td>\n      <td>23.96</td>\n    </tr>\n    <tr>\n      <th rowspan=\"3\" valign=\"top\">1</th>\n      <th rowspan=\"3\" valign=\"top\">Hybrid</th>\n      <th>2</th>\n      <td>3.00</td>\n      <td>0.00</td>\n      <td>3.00</td>\n      <td>1.00</td>\n      <td>1.00</td>\n      <td>5.00</td>\n      <td>...</td>\n      <td>8.00</td>\n      <td>5.00</td>\n      <td>0.00</td>\n      <td>46.00</td>\n      <td>285.00</td>\n      <td>9.68</td>\n    </tr>\n    <tr>\n      <th>3</th>\n      <td>2.00</td>\n      <td>23.00</td>\n      <td>8.00</td>\n      <td>0.00</td>\n      <td>2.00</td>\n      <td>2.00</td>\n      <td>...</td>\n      <td>3.00</td>\n      <td>9.00</td>\n      <td>2.00</td>\n      <td>62.00</td>\n      <td>403.00</td>\n      <td>9.23</td>\n    </tr>\n    <tr>\n      <th>4</th>\n      <td>4.00</td>\n      <td>4.00</td>\n      <td>9.00</td>\n      <td>6.00</td>\n      <td>0.00</td>\n      <td>6.00</td>\n      <td>...</td>\n      <td>0.00</td>\n      <td>0.00</td>\n      <td>2.00</td>\n      <td>53.00</td>\n      <td>794.00</td>\n      <td>4.01</td>\n    </tr>\n    <tr>\n      <th rowspan=\"3\" valign=\"top\">3</th>\n      <th rowspan=\"3\" valign=\"top\">Plugin</th>\n      <th>2</th>\n      <td>2.00</td>\n      <td>0.00</td>\n      <td>0.00</td>\n      <td>1.00</td>\n      <td>1.00</td>\n      <td>1.00</td>\n      <td>...</td>\n      <td>1.00</td>\n      <td>4.00</td>\n      <td>0.00</td>\n      <td>14.00</td>\n      <td>251.00</td>\n      <td>3.35</td>\n    </tr>\n    <tr>\n      <th>3</th>\n      <td>2.00</td>\n      <td>2.00</td>\n      <td>5.00</td>\n      <td>1.00</td>\n      <td>1.00</td>\n      <td>0.00</td>\n      <td>...</td>\n      <td>0.00</td>\n      <td>2.00</td>\n      <td>1.00</td>\n      <td>21.00</td>\n      <td>212.00</td>\n      <td>5.94</td>\n    </tr>\n    <tr>\n      <th>4</th>\n      <td>1.00</td>\n      <td>3.00</td>\n      <td>2.00</td>\n      <td>1.00</td>\n      <td>0.00</td>\n      <td>0.00</td>\n      <td>...</td>\n      <td>3.00</td>\n      <td>2.00</td>\n      <td>1.00</td>\n      <td>23.00</td>\n      <td>245.00</td>\n      <td>5.63</td>\n    </tr>\n    <tr>\n      <th rowspan=\"3\" valign=\"top\">0</th>\n      <th>Tot</th>\n      <th>0</th>\n      <td>98.00</td>\n      <td>106.00</td>\n      <td>37.00</td>\n      <td>15.00</td>\n      <td>12.00</td>\n      <td>16.00</td>\n      <td>...</td>\n      <td>25.00</td>\n      <td>35.00</td>\n      <td>11.00</td>\n      <td>503.00</td>\n      <td>2933.00</td>\n      <td>107.56</td>\n    </tr>\n    <tr>\n      <th>Average</th>\n      <th>0</th>\n      <td>10.89</td>\n      <td>11.78</td>\n      <td>4.11</td>\n      <td>1.67</td>\n      <td>1.33</td>\n      <td>1.78</td>\n      <td>...</td>\n      <td>2.78</td>\n      <td>3.89</td>\n      <td>1.22</td>\n      <td>55.89</td>\n      <td>325.89</td>\n      <td>11.95</td>\n    </tr>\n    <tr>\n      <th>Standard Deviation</th>\n      <th>0</th>\n      <td>19.61</td>\n      <td>18.38</td>\n      <td>3.52</td>\n      <td>1.87</td>\n      <td>1.41</td>\n      <td>2.28</td>\n      <td>...</td>\n      <td>3.77</td>\n      <td>4.51</td>\n      <td>1.30</td>\n      <td>34.79</td>\n      <td>186.53</td>\n      <td>8.85</td>\n    </tr>\n    <tr>\n      <th rowspan=\"12\" valign=\"top\">Ani</th>\n      <th rowspan=\"12\" valign=\"top\">303120402</th>\n      <th rowspan=\"3\" valign=\"top\">3</th>\n      <th rowspan=\"3\" valign=\"top\">Grasshopper</th>\n      <th>2</th>\n      <td>3.00</td>\n      <td>4.00</td>\n      <td>11.00</td>\n      <td>3.00</td>\n      <td>3.00</td>\n      <td>6.00</td>\n      <td>...</td>\n      <td>8.00</td>\n      <td>4.00</td>\n      <td>5.00</td>\n      <td>95.00</td>\n      <td>190.00</td>\n      <td>30.00</td>\n    </tr>\n    <tr>\n      <th>3</th>\n      <td>4.00</td>\n      <td>10.00</td>\n      <td>6.00</td>\n      <td>0.00</td>\n      <td>8.00</td>\n      <td>9.00</td>\n      <td>...</td>\n      <td>5.00</td>\n      <td>0.00</td>\n      <td>0.00</td>\n      <td>81.00</td>\n      <td>100.00</td>\n      <td>48.60</td>\n    </tr>\n    <tr>\n      <th>4</th>\n      <td>2.00</td>\n      <td>7.00</td>\n      <td>0.00</td>\n      <td>6.00</td>\n      <td>0.00</td>\n      <td>5.00</td>\n      <td>...</td>\n      <td>3.00</td>\n      <td>3.00</td>\n      <td>2.00</td>\n      <td>47.00</td>\n      <td>151.00</td>\n      <td>18.68</td>\n    </tr>\n    <tr>\n      <th rowspan=\"3\" valign=\"top\">2</th>\n      <th rowspan=\"3\" valign=\"top\">Hybrid</th>\n      <th>2</th>\n      <td>3.00</td>\n      <td>0.00</td>\n      <td>1.00</td>\n      <td>3.00</td>\n      <td>3.00</td>\n      <td>3.00</td>\n      <td>...</td>\n      <td>6.00</td>\n      <td>2.00</td>\n      <td>3.00</td>\n      <td>41.00</td>\n      <td>237.00</td>\n      <td>10.38</td>\n    </tr>\n    <tr>\n      <th>3</th>\n      <td>2.00</td>\n      <td>2.00</td>\n      <td>1.00</td>\n      <td>2.00</td>\n      <td>2.00</td>\n      <td>3.00</td>\n      <td>...</td>\n      <td>1.00</td>\n      <td>4.00</td>\n      <td>0.00</td>\n      <td>26.00</td>\n      <td>124.00</td>\n      <td>12.58</td>\n    </tr>\n    <tr>\n      <th>4</th>\n      <td>5.00</td>\n      <td>10.00</td>\n      <td>0.00</td>\n      <td>6.00</td>\n      <td>0.00</td>\n      <td>2.00</td>\n      <td>...</td>\n      <td>1.00</td>\n      <td>2.00</td>\n      <td>1.00</td>\n      <td>41.00</td>\n      <td>252.00</td>\n      <td>9.76</td>\n    </tr>\n    <tr>\n      <th rowspan=\"3\" valign=\"top\">1</th>\n      <th rowspan=\"3\" valign=\"top\">Plugin</th>\n      <th>2</th>\n      <td>2.00</td>\n      <td>3.00</td>\n      <td>1.00</td>\n      <td>1.00</td>\n      <td>3.00</td>\n      <td>1.00</td>\n      <td>...</td>\n      <td>1.00</td>\n      <td>2.00</td>\n      <td>1.00</td>\n      <td>51.00</td>\n      <td>678.00</td>\n      <td>4.51</td>\n    </tr>\n    <tr>\n      <th>3</th>\n      <td>5.00</td>\n      <td>2.00</td>\n      <td>3.00</td>\n      <td>0.00</td>\n      <td>1.00</td>\n      <td>4.00</td>\n      <td>...</td>\n      <td>1.00</td>\n      <td>2.00</td>\n      <td>1.00</td>\n      <td>43.00</td>\n      <td>615.00</td>\n      <td>4.20</td>\n    </tr>\n    <tr>\n      <th>4</th>\n      <td>5.00</td>\n      <td>3.00</td>\n      <td>1.00</td>\n      <td>2.00</td>\n      <td>2.00</td>\n      <td>5.00</td>\n      <td>...</td>\n      <td>3.00</td>\n      <td>2.00</td>\n      <td>1.00</td>\n      <td>40.00</td>\n      <td>369.00</td>\n      <td>6.50</td>\n    </tr>\n    <tr>\n      <th rowspan=\"3\" valign=\"top\">0</th>\n      <th>Tot</th>\n      <th>0</th>\n      <td>31.00</td>\n      <td>41.00</td>\n      <td>24.00</td>\n      <td>23.00</td>\n      <td>22.00</td>\n      <td>38.00</td>\n      <td>...</td>\n      <td>29.00</td>\n      <td>21.00</td>\n      <td>14.00</td>\n      <td>465.00</td>\n      <td>2716.00</td>\n      <td>145.21</td>\n    </tr>\n    <tr>\n      <th>Average</th>\n      <th>0</th>\n      <td>3.44</td>\n      <td>4.56</td>\n      <td>2.67</td>\n      <td>2.56</td>\n      <td>2.44</td>\n      <td>4.22</td>\n      <td>...</td>\n      <td>3.22</td>\n      <td>2.33</td>\n      <td>1.56</td>\n      <td>51.67</td>\n      <td>301.78</td>\n      <td>16.13</td>\n    </tr>\n    <tr>\n      <th>Standard Deviation</th>\n      <th>0</th>\n      <td>1.33</td>\n      <td>3.61</td>\n      <td>3.64</td>\n      <td>2.24</td>\n      <td>2.40</td>\n      <td>2.39</td>\n      <td>...</td>\n      <td>2.59</td>\n      <td>1.22</td>\n      <td>1.59</td>\n      <td>21.96</td>\n      <td>211.66</td>\n      <td>14.62</td>\n    </tr>\n    <tr>\n      <th rowspan=\"12\" valign=\"top\">Romain</th>\n      <th rowspan=\"12\" valign=\"top\">323341324</th>\n      <th rowspan=\"3\" valign=\"top\">1</th>\n      <th rowspan=\"3\" valign=\"top\">Grasshopper</th>\n      <th>2</th>\n      <td>11.00</td>\n      <td>2.00</td>\n      <td>22.00</td>\n      <td>8.00</td>\n      <td>3.00</td>\n      <td>10.00</td>\n      <td>...</td>\n      <td>17.00</td>\n      <td>2.00</td>\n      <td>4.00</td>\n      <td>155.00</td>\n      <td>603.00</td>\n      <td>15.42</td>\n    </tr>\n    <tr>\n      <th>3</th>\n      <td>0.00</td>\n      <td>0.00</td>\n      <td>9.00</td>\n      <td>1.00</td>\n      <td>3.00</td>\n      <td>0.00</td>\n      <td>...</td>\n      <td>2.00</td>\n      <td>5.00</td>\n      <td>0.00</td>\n      <td>41.00</td>\n      <td>139.00</td>\n      <td>17.70</td>\n    </tr>\n    <tr>\n      <th>4</th>\n      <td>0.00</td>\n      <td>0.00</td>\n      <td>7.00</td>\n      <td>2.00</td>\n      <td>0.00</td>\n      <td>0.00</td>\n      <td>...</td>\n      <td>0.00</td>\n      <td>4.00</td>\n      <td>3.00</td>\n      <td>26.00</td>\n      <td>174.00</td>\n      <td>8.97</td>\n    </tr>\n    <tr>\n      <th rowspan=\"3\" valign=\"top\">2</th>\n      <th rowspan=\"3\" valign=\"top\">Hybrid</th>\n      <th>2</th>\n      <td>10.00</td>\n      <td>7.00</td>\n      <td>1.00</td>\n      <td>2.00</td>\n      <td>3.00</td>\n      <td>7.00</td>\n      <td>...</td>\n      <td>5.00</td>\n      <td>6.00</td>\n      <td>2.00</td>\n      <td>59.00</td>\n      <td>413.00</td>\n      <td>8.57</td>\n    </tr>\n    <tr>\n      <th>3</th>\n      <td>4.00</td>\n      <td>0.00</td>\n      <td>0.00</td>\n      <td>2.00</td>\n      <td>1.00</td>\n      <td>0.00</td>\n      <td>...</td>\n      <td>2.00</td>\n      <td>3.00</td>\n      <td>0.00</td>\n      <td>15.00</td>\n      <td>113.00</td>\n      <td>7.96</td>\n    </tr>\n    <tr>\n      <th>4</th>\n      <td>1.00</td>\n      <td>0.00</td>\n      <td>0.00</td>\n      <td>2.00</td>\n      <td>0.00</td>\n      <td>0.00</td>\n      <td>...</td>\n      <td>0.00</td>\n      <td>2.00</td>\n      <td>0.00</td>\n      <td>5.00</td>\n      <td>117.00</td>\n      <td>2.56</td>\n    </tr>\n    <tr>\n      <th rowspan=\"3\" valign=\"top\">3</th>\n      <th rowspan=\"3\" valign=\"top\">Plugin</th>\n      <th>2</th>\n      <td>0.00</td>\n      <td>0.00</td>\n      <td>1.00</td>\n      <td>1.00</td>\n      <td>1.00</td>\n      <td>4.00</td>\n      <td>...</td>\n      <td>1.00</td>\n      <td>1.00</td>\n      <td>0.00</td>\n      <td>22.00</td>\n      <td>179.00</td>\n      <td>7.37</td>\n    </tr>\n    <tr>\n      <th>3</th>\n      <td>0.00</td>\n      <td>0.00</td>\n      <td>0.00</td>\n      <td>1.00</td>\n      <td>2.00</td>\n      <td>0.00</td>\n      <td>...</td>\n      <td>0.00</td>\n      <td>0.00</td>\n      <td>0.00</td>\n      <td>4.00</td>\n      <td>83.00</td>\n      <td>2.89</td>\n    </tr>\n    <tr>\n      <th>4</th>\n      <td>0.00</td>\n      <td>0.00</td>\n      <td>0.00</td>\n      <td>0.00</td>\n      <td>0.00</td>\n      <td>0.00</td>\n      <td>...</td>\n      <td>0.00</td>\n      <td>0.00</td>\n      <td>0.00</td>\n      <td>0.00</td>\n      <td>11.00</td>\n      <td>0.00</td>\n    </tr>\n    <tr>\n      <th rowspan=\"3\" valign=\"top\">0</th>\n      <th>Tot</th>\n      <th>0</th>\n      <td>26.00</td>\n      <td>9.00</td>\n      <td>40.00</td>\n      <td>19.00</td>\n      <td>13.00</td>\n      <td>21.00</td>\n      <td>...</td>\n      <td>27.00</td>\n      <td>23.00</td>\n      <td>9.00</td>\n      <td>327.00</td>\n      <td>1832.00</td>\n      <td>71.45</td>\n    </tr>\n    <tr>\n      <th>Average</th>\n      <th>0</th>\n      <td>2.89</td>\n      <td>1.00</td>\n      <td>4.44</td>\n      <td>2.11</td>\n      <td>1.44</td>\n      <td>2.33</td>\n      <td>...</td>\n      <td>3.00</td>\n      <td>2.56</td>\n      <td>1.00</td>\n      <td>36.33</td>\n      <td>203.56</td>\n      <td>7.94</td>\n    </tr>\n    <tr>\n      <th>Standard Deviation</th>\n      <th>0</th>\n      <td>4.51</td>\n      <td>2.35</td>\n      <td>7.40</td>\n      <td>2.32</td>\n      <td>1.33</td>\n      <td>3.81</td>\n      <td>...</td>\n      <td>5.50</td>\n      <td>2.13</td>\n      <td>1.58</td>\n      <td>48.39</td>\n      <td>185.87</td>\n      <td>5.81</td>\n    </tr>\n    <tr>\n      <th rowspan=\"12\" valign=\"top\">StephB</th>\n      <th rowspan=\"12\" valign=\"top\">404223002</th>\n      <th rowspan=\"3\" valign=\"top\">3</th>\n      <th rowspan=\"3\" valign=\"top\">Grasshopper</th>\n      <th>2</th>\n      <td>4.00</td>\n      <td>8.00</td>\n      <td>4.00</td>\n      <td>1.00</td>\n      <td>0.00</td>\n      <td>0.00</td>\n      <td>...</td>\n      <td>0.00</td>\n      <td>0.00</td>\n      <td>0.00</td>\n      <td>23.00</td>\n      <td>69.00</td>\n      <td>20.00</td>\n    </tr>\n    <tr>\n      <th>3</th>\n      <td>0.00</td>\n      <td>4.00</td>\n      <td>0.00</td>\n      <td>1.00</td>\n      <td>3.00</td>\n      <td>1.00</td>\n      <td>...</td>\n      <td>2.00</td>\n      <td>0.00</td>\n      <td>0.00</td>\n      <td>19.00</td>\n      <td>64.00</td>\n      <td>17.81</td>\n    </tr>\n    <tr>\n      <th>4</th>\n      <td>0.00</td>\n      <td>0.00</td>\n      <td>4.00</td>\n      <td>2.00</td>\n      <td>0.00</td>\n      <td>0.00</td>\n      <td>...</td>\n      <td>0.00</td>\n      <td>0.00</td>\n      <td>0.00</td>\n      <td>13.00</td>\n      <td>55.00</td>\n      <td>14.18</td>\n    </tr>\n    <tr>\n      <th rowspan=\"3\" valign=\"top\">1</th>\n      <th rowspan=\"3\" valign=\"top\">Hybrid</th>\n      <th>2</th>\n      <td>2.00</td>\n      <td>0.00</td>\n      <td>7.00</td>\n      <td>1.00</td>\n      <td>1.00</td>\n      <td>3.00</td>\n      <td>...</td>\n      <td>1.00</td>\n      <td>1.00</td>\n      <td>5.00</td>\n      <td>37.00</td>\n      <td>153.00</td>\n      <td>14.51</td>\n    </tr>\n    <tr>\n      <th>3</th>\n      <td>0.00</td>\n      <td>0.00</td>\n      <td>2.00</td>\n      <td>1.00</td>\n      <td>2.00</td>\n      <td>3.00</td>\n      <td>...</td>\n      <td>2.00</td>\n      <td>1.00</td>\n      <td>0.00</td>\n      <td>17.00</td>\n      <td>73.00</td>\n      <td>13.97</td>\n    </tr>\n    <tr>\n      <th>4</th>\n      <td>0.00</td>\n      <td>0.00</td>\n      <td>1.00</td>\n      <td>1.00</td>\n      <td>0.00</td>\n      <td>0.00</td>\n      <td>...</td>\n      <td>0.00</td>\n      <td>1.00</td>\n      <td>0.00</td>\n      <td>11.00</td>\n      <td>52.00</td>\n      <td>12.69</td>\n    </tr>\n    <tr>\n      <th rowspan=\"3\" valign=\"top\">2</th>\n      <th rowspan=\"3\" valign=\"top\">Plugin</th>\n      <th>2</th>\n      <td>0.00</td>\n      <td>0.00</td>\n      <td>2.00</td>\n      <td>1.00</td>\n      <td>0.00</td>\n      <td>1.00</td>\n      <td>...</td>\n      <td>1.00</td>\n      <td>1.00</td>\n      <td>0.00</td>\n      <td>13.00</td>\n      <td>76.00</td>\n      <td>10.26</td>\n    </tr>\n    <tr>\n      <th>3</th>\n      <td>1.00</td>\n      <td>3.00</td>\n      <td>1.00</td>\n      <td>1.00</td>\n      <td>1.00</td>\n      <td>0.00</td>\n      <td>...</td>\n      <td>0.00</td>\n      <td>0.00</td>\n      <td>0.00</td>\n      <td>35.00</td>\n      <td>93.00</td>\n      <td>22.58</td>\n    </tr>\n    <tr>\n      <th>4</th>\n      <td>0.00</td>\n      <td>0.00</td>\n      <td>0.00</td>\n      <td>1.00</td>\n      <td>0.00</td>\n      <td>0.00</td>\n      <td>...</td>\n      <td>0.00</td>\n      <td>0.00</td>\n      <td>0.00</td>\n      <td>5.00</td>\n      <td>16.00</td>\n      <td>18.75</td>\n    </tr>\n    <tr>\n      <th rowspan=\"3\" valign=\"top\">0</th>\n      <th>Tot</th>\n      <th>0</th>\n      <td>7.00</td>\n      <td>15.00</td>\n      <td>21.00</td>\n      <td>10.00</td>\n      <td>7.00</td>\n      <td>8.00</td>\n      <td>...</td>\n      <td>6.00</td>\n      <td>4.00</td>\n      <td>5.00</td>\n      <td>173.00</td>\n      <td>651.00</td>\n      <td>144.76</td>\n    </tr>\n    <tr>\n      <th>Average</th>\n      <th>0</th>\n      <td>0.78</td>\n      <td>1.67</td>\n      <td>2.33</td>\n      <td>1.11</td>\n      <td>0.78</td>\n      <td>0.89</td>\n      <td>...</td>\n      <td>0.67</td>\n      <td>0.44</td>\n      <td>0.56</td>\n      <td>19.22</td>\n      <td>72.33</td>\n      <td>16.08</td>\n    </tr>\n    <tr>\n      <th>Standard Deviation</th>\n      <th>0</th>\n      <td>1.39</td>\n      <td>2.83</td>\n      <td>2.29</td>\n      <td>0.33</td>\n      <td>1.09</td>\n      <td>1.27</td>\n      <td>...</td>\n      <td>0.87</td>\n      <td>0.53</td>\n      <td>1.67</td>\n      <td>10.79</td>\n      <td>36.94</td>\n      <td>3.93</td>\n    </tr>\n  </tbody>\n</table>\n<p>168 rows × 18 columns</p>\n</div>"
     },
     "metadata": {},
     "output_type": "display_data"
    }
   ],
   "source": [
    "with pd.option_context('display.max_rows', None, 'display.max_columns', 12,'display.max_colwidth',50):\n",
    "    display(iterations_df.round(decimals=2))\n",
    "iterations_df.round(decimals=2).to_excel('output/Iterations.xlsx')"
   ]
  },
  {
   "cell_type": "markdown",
   "id": "7becb85b-c663-4845-a44d-b7c5641f56c9",
   "metadata": {
    "tags": []
   },
   "source": [
    "## Étude Générale"
   ]
  },
  {
   "cell_type": "code",
   "execution_count": null,
   "id": "8cc5d59f-3447-4a84-8977-24e7e63d2bf8",
   "metadata": {},
   "outputs": [],
   "source": [
    "_color=sns.mpl_palette('Paired',5)\n",
    "_color2=sns.mpl_palette('RdYlBu_r',3)"
   ]
  },
  {
   "cell_type": "code",
   "execution_count": null,
   "id": "b404ab7c-ccb3-4eb9-ac78-2dce1bd03f97",
   "metadata": {
    "tags": []
   },
   "outputs": [],
   "source": [
    "context_analysis(0, iterations_df, time_iterations_df, study_columns=['Time', 'Total Iterations', 'Iterations / Minute'], b=4, title='Number of Iterations')\n",
    "plt.savefig('output/gh_iterations.png')"
   ]
  },
  {
   "cell_type": "code",
   "execution_count": null,
   "id": "4cfd8360-62f2-4b77-b5f6-e55301cc0c3f",
   "metadata": {
    "tags": []
   },
   "outputs": [],
   "source": [
    "context_analysis(1, iterations_df.drop('Adrian', axis=0, level='Name'), time_iterations_df.drop('Adrian', axis=0, level='Name'), study_columns=['Time', 'Total Iterations', 'Iterations / Minute'], b=8, title='Number of Iterations', y2=0.1785)\n",
    "plt.savefig('output/hybrid_iterations.png')"
   ]
  },
  {
   "cell_type": "code",
   "execution_count": null,
   "id": "b1d998e1-d397-4483-b0ce-2dc90bd61a26",
   "metadata": {
    "tags": []
   },
   "outputs": [],
   "source": [
    "context_analysis(2, iterations_df, time_iterations_df, study_columns=['Time', 'Total Iterations', 'Iterations / Minute'], b=3, title='Number of Iterations')\n",
    "plt.savefig('output/plugin_iterations.png')"
   ]
  },
  {
   "cell_type": "markdown",
   "source": [
    "### Total"
   ],
   "metadata": {
    "collapsed": false
   }
  },
  {
   "cell_type": "code",
   "execution_count": null,
   "id": "210b7502-d165-483d-abce-265cb92d0286",
   "metadata": {
    "jupyter": {
     "source_hidden": true
    },
    "tags": []
   },
   "outputs": [],
   "source": [
    "def global_analysis(df1, study_columns, _title):\n",
    "    df=df1.droplevel(['Order'])\n",
    "    fig =plt.figure(figsize=(24,8),facecolor=\"#fefdfd\")\n",
    "    fig.suptitle(_title + ': Total', x=0.5, y=0.92, fontsize=20)\n",
    "    gs = GridSpec(4,40,figure=fig)\n",
    "    ax1=fig.add_subplot(gs[1:3,:4])\n",
    "    ax3=fig.add_subplot(gs[1:3,5:9])\n",
    "    ax4=fig.add_subplot(gs[1:3,10:14])\n",
    "    ax9=fig.add_subplot(gs[3:,15:])\n",
    "    ax2=fig.add_subplot(gs[:3,15:],sharex=ax9)\n",
    "    ax5=fig.add_subplot(gs[3:,15:])\n",
    "    ax6=fig.add_subplot(gs[3:,:4])\n",
    "    ax7=fig.add_subplot(gs[3:,5:9])\n",
    "    ax8=fig.add_subplot(gs[3:,10:14])\n",
    "    ax10=fig.add_subplot(gs[:1,:4])\n",
    "    ax11=fig.add_subplot(gs[:1,5:9])\n",
    "    ax12=fig.add_subplot(gs[:1,10:14])\n",
    "\n",
    "    a=(df.drop(['Average','Standard Deviation','Tot'],axis=0,level='Type'))\n",
    "\n",
    "    if 'Time' in a.columns:a['Time']=a['Time'].apply(time_to_sec)\n",
    "\n",
    "    a=a.droplevel(['Level'])\n",
    "    df=df.droplevel(['Level'])\n",
    "    _color3=sns.mpl_palette(\"RdYlBu\",3)\n",
    "    ghtime=a[study_columns[0]].xs('Grasshopper', level='Type').mean()\n",
    "    hybridtime=a[study_columns[0]].xs('Hybrid', level='Type').mean()\n",
    "    plugintime=a[study_columns[0]].xs('Plugin', level='Type').mean()\n",
    "    av_time=pd.DataFrame([ghtime,hybridtime,plugintime], index=['Grasshopper','Hybrid','Plugin'], columns=[study_columns[0]])\n",
    "    sns.heatmap(av_time,ax=ax6,cbar=None,annot=True,cmap=\"vlag\")\n",
    "    ax6.set_yticklabels(['Grasshopper','Hybrid','Plugin'])\n",
    "    \n",
    "    double_plot(a, study_columns[0], ax10, ax1, 'Time in minutes', _color3, 'Type', (lambda x:_type.index(x)))\n",
    "    double_plot(a, study_columns[1], ax11, ax3, 'Tot Iterations', _color3, 'Type', (lambda x:_type.index(x)))\n",
    "    double_plot(a, study_columns[2], ax12, ax4, 'Iterations/min', _color3, 'Type', (lambda x:_type.index(x)))\n",
    "\n",
    "    ghtime=a[study_columns[1]].xs('Grasshopper', level='Type').mean()\n",
    "    hybridtime=a[study_columns[1]].xs('Hybrid', level='Type').mean()\n",
    "    plugintime=a[study_columns[1]].xs('Plugin', level='Type').mean()\n",
    "    av_time=pd.DataFrame([ghtime,hybridtime,plugintime], index=['Grasshopper','Hybrid','Plugin'], columns=[study_columns[1]])\n",
    "    sns.heatmap(av_time,ax=ax7,cbar=None,annot=True,cmap=\"vlag\",fmt='g')\n",
    "    ax7.set_yticklabels(\"\")\n",
    "    \n",
    "\n",
    "    ###It/minute\n",
    "\n",
    "    ghtime=a[study_columns[2]].xs('Grasshopper', level='Type').mean()\n",
    "    hybridtime=a[study_columns[2]].xs('Hybrid', level='Type').mean()\n",
    "    plugintime=a[study_columns[2]].xs('Plugin', level='Type').mean()\n",
    "    av_time=pd.DataFrame([ghtime,hybridtime,plugintime], index=['Grasshopper','Hybrid','Plugin'], columns=[study_columns[2]])\n",
    "    sns.heatmap(av_time,ax=ax8,cbar=None,annot=True,cmap=\"vlag\",fmt='g')\n",
    "    ax8.set_yticklabels(\"\")\n",
    "    \n",
    "\n",
    "    ###\n",
    "    av_gh=df.xs('Grasshopper',level='Type').drop(study_columns, axis=1).mean()\n",
    "    av_gh.name='GH'\n",
    "    av_hyb=df.xs('Hybrid',level='Type').drop(study_columns, axis=1).mean()\n",
    "    av_hyb.name='Hybrid'\n",
    "    av_plugin=df.xs('Plugin',level='Type').drop(study_columns, axis=1).mean()\n",
    "    av_plugin.name='Plugin'\n",
    "    average=pd.DataFrame([av_gh,av_hyb,av_plugin],index=['GH','Hybrid','Plugin'])\n",
    "    sns.heatmap(average,ax=ax9,cbar=None,annot=True,cmap=\"vlag\",linewidth=0.5)\n",
    "    sns.heatmap(average,ax=ax5,cbar=None,annot=True,cmap=\"vlag\",linewidth=0.5)\n",
    "    df=df.loc[:,['Grasshopper','Hybrid','Plugin'],:]\n",
    "    locs=ax5.get_xticks()\n",
    "    labels=ax5.get_xticklabels()\n",
    "    gh=df.drop(study_columns, axis=1)\n",
    "    # gh=gh.droplevel(['Level'])\n",
    "    gh.columns=locs\n",
    "    gh=gh.reset_index(level='Type',drop=False)\n",
    "\n",
    "\n",
    "    gh=gh.melt(id_vars=['Type'])\n",
    "    sns.pointplot(x=gh['variable'],y=gh['value'],data=df,hue=gh['Type'],ax=ax2,palette=\"RdYlBu\",dodge=0.2)\n",
    "    # ax2.set_xticks(locs);\n",
    "    ax2.set_xlabel(None)\n",
    "    ax2.legend(loc='upper left')\n",
    "    ax2.set_xticklabels(\"\")\n",
    "    ax2.set_frame_on(False)\n",
    "    ax2.set_ylabel(None)\n",
    "    # ax2.set_yticklabels(\"\")\n",
    "    ax5.set_xticklabels(labels)\n",
    "    ax1.set_frame_on(False)\n",
    "    ax1.grid(visible=True)\n",
    "    ax3.set_frame_on(False)\n",
    "    ax3.grid(visible=True)\n",
    "    ax4.set_frame_on(False)\n",
    "    ax4.grid(visible=True)\n",
    "    ax9.set_yticklabels(\"\")\n",
    "    ax5.set_yticklabels(\"\")\n",
    "    return 1\n",
    "\n",
    "studycolumn=['Time','Total Iterations','Iterations / Minute']\n",
    "global_analysis(iterations_df, studycolumn, 'Number of Iterations')\n",
    "plt.savefig('output/global_iterations.png')"
   ]
  },
  {
   "cell_type": "markdown",
   "id": "5665bf47-2aaf-4443-8b68-d263bc96895a",
   "metadata": {
    "tags": []
   },
   "source": [
    "## Etude selon l'ordre"
   ]
  },
  {
   "cell_type": "markdown",
   "id": "421bc071-3dcd-48bb-b38b-1def2d256100",
   "metadata": {
    "tags": []
   },
   "source": [
    "### Grasshopper"
   ]
  },
  {
   "cell_type": "code",
   "execution_count": null,
   "id": "2f352f08-d1c1-4c71-8f1a-879b0b9e2d5c",
   "metadata": {
    "tags": []
   },
   "outputs": [],
   "source": [
    "def order_analysis(a, df, time_df, keep_list, b, title):\n",
    "    fig=plt.figure(figsize=(24,12))\n",
    "    _title=str(_type[a - 1])\n",
    "    fig.suptitle(title + \": \" + _title, y=0.94, fontsize=20)\n",
    "    gs = GridSpec(4,12,figure=fig)\n",
    "    ax1=fig.add_subplot(gs[:1,3:6])\n",
    "    ax2=fig.add_subplot(gs[1:2,3:6])\n",
    "    ax3=fig.add_subplot(gs[2:3,3:6])\n",
    "    ax4=fig.add_subplot(gs[:4,:1])\n",
    "    ax5=fig.add_subplot(gs[3:4,3:6])\n",
    "    ax6=fig.add_subplot(gs[:4,1:2])\n",
    "    ax7=fig.add_subplot(gs[:4,2:3])\n",
    "    ax8=fig.add_subplot(gs[:1,9:])\n",
    "    ax9=fig.add_subplot(gs[1:2,9:])\n",
    "    ax10=fig.add_subplot(gs[2:3,9:])\n",
    "    ax11=fig.add_subplot(gs[3:4,9:])\n",
    "    ax12=fig.add_subplot(gs[:1,6:9])\n",
    "    ax13=fig.add_subplot(gs[1:2,6:9])\n",
    "    ax14=fig.add_subplot(gs[2:3,6:9])\n",
    "    ax15=fig.add_subplot(gs[3:4,6:9])\n",
    "    label=(_type[a - 1])\n",
    "    keep_list=keep_list\n",
    "    result=df.reset_index('Level',drop=False)\n",
    "    result['Level']=result['Level'].map(lambda x:x[b])\n",
    "    result.sort_values('Level',axis=0,inplace=True)\n",
    "    if 'Time' in result.columns:result['Time']=result['Time'].apply(time_to_sec)\n",
    "    result=result.xs(label,level='Type')\n",
    "    context_feedback=feedback_df[feedback_df['Type'] == _type[a - 1]]\n",
    "    context_feedback['Level']=context_feedback['Level'].map(lambda x:x[b])\n",
    "    ax=[ax1,ax2,ax3,ax4,ax6,ax7,ax8,ax9,ax10]\n",
    "    for i in range(3):\n",
    "        interaction_line_plot(ax[i], result, i, keep_list)\n",
    "        box_plot(ax[i + 3], i, result, keep_list)\n",
    "        plot_feedback(ax[i + 6], i, context_feedback)\n",
    "    ax6.set_yticklabels(\"\")\n",
    "    ax7.set_yticklabels(\"\")\n",
    "    df=time_df.xs(_type[a - 1], level='Type').reset_index('Level', drop=False)\n",
    "    df['Level']=df['Level'].map(lambda x:int(x[b]))\n",
    "    df0level=df.xs(0,level='Order')['Level'].unique()\n",
    "    df1level=df.xs(1,level='Order')['Level'].unique()\n",
    "    df2level=df.xs(2,level='Order')['Level'].unique()\n",
    "    df_level=[df0level,df1level,df2level]\n",
    "    df.set_index(['Level'],append=True,inplace=True)\n",
    "    ax=[ax12,ax13,ax14]\n",
    "    for i in range(3):\n",
    "        time_level_plot(df, df_level, i, ax[i], 3)\n",
    "    df=df.droplevel('Level')\n",
    "    for i in range(3):\n",
    "        sns.regplot(x='variable',y='value',data=df.xs(i,level='Order').melt().applymap(lambda x:int(x)),ax=ax15,order=3,x_estimator=np.mean,scatter=False,color=_color2[i],ci=None)\n",
    "    ax15.tick_params(axis='y',pad=-1)\n",
    "    ax15.set_ylabel(None)\n",
    "    ax15.set_xlabel(None)\n",
    "    level_plot=result.drop(keep_list,axis=1).drop(['Level'],axis=1)\n",
    "    level_plot=level_plot.reset_index('Order',drop=False)\n",
    "    level_plot['Order']=level_plot['Order'].map(lambda x:x+1)\n",
    "    level_plot=level_plot.melt(id_vars='Order')\n",
    "    sns.pointplot(x='variable',y='value',data=level_plot,hue='Order',palette='RdYlBu_r',ax=ax5,ci='sd',dodge=0.2)\n",
    "    sns.pointplot(x='variable',y='value',data=context_feedback[context_feedback['Survey']=='B'],hue='Order',ci='sd',dodge=0.15,palette='RdYlBu_r',ax=ax11)\n",
    "    ax11.set_ylabel(None)\n",
    "    ax11.get_legend().remove()\n",
    "    ax11.set_xlabel(None)\n",
    "    ax11.tick_params(axis='x',rotation=20)\n",
    "    ax11.tick_params(axis='y',pad=-1)\n",
    "    ax5.legend(loc='upper right')\n",
    "    ax5.tick_params(axis='y',pad=-1)\n",
    "    ax5.set_xticklabels(\"\")\n",
    "    ax5.set_xlabel('Parameter')\n",
    "    ax5.set_title('Average by Interaction order',loc='left',y=1,pad=3)\n",
    "    return"
   ]
  },
  {
   "cell_type": "code",
   "execution_count": null,
   "id": "15f39c58-32bc-4378-accb-8c455716d64a",
   "metadata": {
    "tags": []
   },
   "outputs": [],
   "source": [
    "keeplist1 =['Time','Total Iterations','Iterations / Minute']\n",
    "order_analysis(1, iterations_df, time_iterations_df, keeplist1, 4, 'Number of Iterations')\n",
    "plt.savefig('output/gh_order_iterations.png')"
   ]
  },
  {
   "cell_type": "markdown",
   "id": "e55a91c1-5eff-47e7-b0a5-1fda90efdeed",
   "metadata": {
    "tags": []
   },
   "source": [
    "### Hybrid"
   ]
  },
  {
   "cell_type": "code",
   "execution_count": null,
   "id": "ff0ae198-9924-4dc3-a0ac-def2d78cf423",
   "metadata": {
    "tags": []
   },
   "outputs": [],
   "source": [
    "order_analysis(2, iterations_df.drop('Adrian', axis=0, level='Name'), time_iterations_df.drop('Adrian', axis=0, level='Name'), keeplist1, 8, 'Number of Iterations')\n",
    "plt.savefig('output/hybrid_order_iterations.png')"
   ]
  },
  {
   "cell_type": "markdown",
   "id": "80556af7-551f-4669-9ab7-76b6b14495b1",
   "metadata": {
    "tags": []
   },
   "source": [
    "### Plugin"
   ]
  },
  {
   "cell_type": "code",
   "execution_count": null,
   "id": "156b05ad-196b-4413-aad2-a6fc9cfc8360",
   "metadata": {},
   "outputs": [],
   "source": [
    "order_analysis(3, iterations_df, time_iterations_df, keeplist1, 3, 'Number of Iterations')\n",
    "plt.savefig('output/plugin_order_iterations.png')"
   ]
  },
  {
   "cell_type": "markdown",
   "id": "7ca1482a-54a3-4702-b3f7-e994e9f5e579",
   "metadata": {
    "tags": []
   },
   "source": [
    "# Phases"
   ]
  },
  {
   "cell_type": "code",
   "execution_count": null,
   "id": "b15ece22-6e5f-4488-a47a-8653e9c689ac",
   "metadata": {
    "jupyter": {
     "source_hidden": true
    },
    "tags": []
   },
   "outputs": [],
   "source": [
    "with pd.option_context('display.max_rows', None, 'display.max_columns', 12,'display.max_colwidth',50):\n",
    "    display(phase_df.round(decimals=2))\n",
    "iterations_df.round(decimals=2).to_excel('output/testexcel.xlsx')"
   ]
  },
  {
   "cell_type": "markdown",
   "id": "ecb91ab0-e91d-466a-9edb-f6f356d2b976",
   "metadata": {
    "tags": []
   },
   "source": [
    "## Étude Générale"
   ]
  },
  {
   "cell_type": "markdown",
   "id": "50bc4370-8a06-40e8-b4b9-82bbd397acfd",
   "metadata": {
    "tags": []
   },
   "source": [
    "### Grasshopper"
   ]
  },
  {
   "cell_type": "code",
   "execution_count": null,
   "id": "d3558379-0110-4649-beef-58b78e54f9f5",
   "metadata": {
    "tags": []
   },
   "outputs": [],
   "source": [
    "context_analysis(0, phase_df, time_phases_df, study_columns=['Time', 'Total', 'Max'], b=4, title='Number of modification phases')\n",
    "plt.savefig('output/gh_phases.png')"
   ]
  },
  {
   "cell_type": "code",
   "execution_count": null,
   "id": "13b5354b-e71a-4a65-8d0d-415ab2d5531d",
   "metadata": {
    "tags": []
   },
   "outputs": [],
   "source": [
    "context_analysis(1, phase_df.drop('Adrian', axis=0, level='Name'), time_phases_df.drop('Adrian', axis=0, level='Name'), study_columns=['Time', 'Total', 'Max'], b=8, title='Number of modification phases', y2=0.1785)\n",
    "plt.savefig('output/hybrid_phases.png')"
   ]
  },
  {
   "cell_type": "markdown",
   "id": "8e4bf5a9-6451-41b7-a072-4bde5f8b26d9",
   "metadata": {
    "tags": []
   },
   "source": [
    "### Plugin"
   ]
  },
  {
   "cell_type": "code",
   "execution_count": null,
   "id": "f2c145a6-a2dc-4982-b753-e06cb992f0e3",
   "metadata": {
    "tags": []
   },
   "outputs": [],
   "source": [
    "context_analysis(2, phase_df, time_phases_df, study_columns=['Time', 'Total', 'Max'], b=3, title='Number of modification phases')\n",
    "plt.savefig('output/plugin_phases.png')"
   ]
  },
  {
   "cell_type": "markdown",
   "id": "1ab24dfd-5d13-4b7d-ba93-56e30dfa173f",
   "metadata": {},
   "source": [
    "### Total "
   ]
  },
  {
   "cell_type": "code",
   "execution_count": null,
   "id": "9e5663eb-6591-4bbc-931e-24cf0eabd003",
   "metadata": {
    "tags": []
   },
   "outputs": [],
   "source": [
    "global_analysis(phase_df, ['Time', 'Total', 'Max'], 'Number of modification phases')\n",
    "plt.savefig('output/global_phases.png')"
   ]
  },
  {
   "cell_type": "markdown",
   "id": "6b22c470-180d-473b-8759-e31f8ea35dbc",
   "metadata": {
    "tags": []
   },
   "source": [
    "## Etude selon l'ordre"
   ]
  },
  {
   "cell_type": "markdown",
   "id": "1bedc235-c814-4d4e-96e2-70872638e031",
   "metadata": {
    "tags": []
   },
   "source": [
    "### Grasshopper"
   ]
  },
  {
   "cell_type": "code",
   "execution_count": null,
   "id": "1fab6ec7-04c0-4d6b-8693-dcfaa6cff5a8",
   "metadata": {},
   "outputs": [],
   "source": [
    "keeplist2 =['Time','Total','Max']\n",
    "order_analysis(1, phase_df, time_phases_df, keeplist2, 4, 'Number of modification phases')\n",
    "plt.savefig('output/gh_order_phases.png')"
   ]
  },
  {
   "cell_type": "markdown",
   "id": "7fdc872b-e96d-4154-a64f-e6ed7870216b",
   "metadata": {
    "tags": []
   },
   "source": [
    "### Hybrid"
   ]
  },
  {
   "cell_type": "code",
   "execution_count": null,
   "id": "b804e786-3b33-476a-8790-edc74eb96d98",
   "metadata": {},
   "outputs": [],
   "source": [
    "order_analysis(2, phase_df.drop('Adrian', axis=0, level='Name'), time_phases_df.drop('Adrian', axis=0, level='Name'), keeplist2, 8, 'Number of modification phases')\n",
    "plt.savefig('output/hybrid_order_phases.png')"
   ]
  },
  {
   "cell_type": "markdown",
   "id": "43adaebe-5112-467b-982a-359db8045e43",
   "metadata": {
    "tags": []
   },
   "source": [
    "### Plugin"
   ]
  },
  {
   "cell_type": "code",
   "execution_count": null,
   "id": "3a87dfeb-f039-4aa8-a332-b43762e72ba6",
   "metadata": {},
   "outputs": [],
   "source": [
    "order_analysis(3, phase_df, time_phases_df, keeplist2, 3, 'Number of modification phases')\n",
    "plt.savefig('output/plugin_order_phases.png')"
   ]
  },
  {
   "cell_type": "markdown",
   "id": "5f6a8a15-28c8-4109-b811-d3f36dd7e015",
   "metadata": {
    "tags": []
   },
   "source": [
    "# Unique"
   ]
  },
  {
   "cell_type": "code",
   "execution_count": null,
   "id": "678d63c0-0462-49d4-bcc5-1af99fb34d95",
   "metadata": {
    "tags": []
   },
   "outputs": [],
   "source": [
    "#Iterations.round(decimals=1)\n",
    "#ax = plt.subplot(111, frame_on=False)\n",
    "#ax.xaxis.set_visible(False)  # hide the x axis\n",
    "#ax.yaxis.set_visible(False)\n",
    "#ax.figure.set_figwidth(22)\n",
    "#v=table(ax,Iterations,loc='top')\n",
    "with pd.option_context('display.max_rows', None, 'display.max_columns', 12,'display.max_colwidth',50):\n",
    "    display(unique_df.round(decimals=2))\n",
    "unique_df.round(decimals=2).to_excel('output/testexcel-unique.xlsx')"
   ]
  },
  {
   "cell_type": "markdown",
   "id": "4fc423b8-3d12-4cbf-9948-882ec85b6be6",
   "metadata": {
    "tags": []
   },
   "source": [
    "## Étude Générale"
   ]
  },
  {
   "cell_type": "markdown",
   "id": "e90bfb60-46ad-4be4-b06b-b75e3821bea5",
   "metadata": {
    "tags": []
   },
   "source": [
    "### Grasshopper"
   ]
  },
  {
   "cell_type": "code",
   "execution_count": null,
   "id": "307fb69f-1f58-4a5d-8a68-bf52374ff953",
   "metadata": {
    "tags": []
   },
   "outputs": [],
   "source": [
    "context_analysis(0, unique_df, time_unique_df, study_columns=['CV', 'Total', 'Max'], b=4, title='Number of unique values', y2=0.1785)\n",
    "plt.savefig('output/gh_unique.png')"
   ]
  },
  {
   "cell_type": "code",
   "execution_count": null,
   "id": "8bbfa232-ab6f-4229-b2a7-574e38547529",
   "metadata": {
    "tags": []
   },
   "outputs": [],
   "source": [
    "context_analysis(1, unique_df.drop('Adrian', axis=0, level='Name'), time_unique_df.drop('Adrian', axis=0, level='Name'), study_columns=['CV', 'Total', 'Max'], b=8, title='Number of unique values', y2=0.1825)\n",
    "plt.savefig('output/hybrid_unique.png')"
   ]
  },
  {
   "cell_type": "markdown",
   "id": "8dba708f-bc60-4593-88ff-3afb75e4f0de",
   "metadata": {
    "tags": []
   },
   "source": [
    "### Plugin"
   ]
  },
  {
   "cell_type": "code",
   "execution_count": null,
   "id": "822b0783-4e3c-47e6-b94b-3d7f511d679d",
   "metadata": {
    "tags": []
   },
   "outputs": [],
   "source": [
    "context_analysis(2, unique_df, time_unique_df, study_columns=['CV', 'Total', 'Max'], b=3, title='Number of unique values', y2=0.1785)\n",
    "plt.savefig('output/plugin_unique.png')"
   ]
  },
  {
   "cell_type": "markdown",
   "id": "79a2a282-40f8-47ba-becb-754a26b0f259",
   "metadata": {},
   "source": [
    "### Total "
   ]
  },
  {
   "cell_type": "code",
   "execution_count": null,
   "id": "999c102a-9bfc-4838-bb65-7ade332b88c3",
   "metadata": {
    "tags": []
   },
   "outputs": [],
   "source": [
    "global_analysis(unique_df, ['CV', 'Total', 'Max'], 'Number of unique values')\n",
    "plt.savefig('output/global_unique.png')"
   ]
  },
  {
   "cell_type": "markdown",
   "id": "58e9c904-dd7d-4f03-968c-7deda8eb1d31",
   "metadata": {
    "tags": []
   },
   "source": [
    "## Etude selon l'ordre"
   ]
  },
  {
   "cell_type": "markdown",
   "id": "e7853fb9-d783-428a-9db2-a39138f94173",
   "metadata": {
    "tags": []
   },
   "source": [
    "### Grasshopper"
   ]
  },
  {
   "cell_type": "code",
   "execution_count": null,
   "id": "20395383-0af5-4770-9d8b-d6b342964167",
   "metadata": {
    "tags": []
   },
   "outputs": [],
   "source": [
    "keeplist3 =['CV','Total','Max']\n",
    "order_analysis(1, unique_df, time_unique_df, keeplist3, 4, 'Number of unique values')\n",
    "plt.savefig('output/gh_order_unique.png')"
   ]
  },
  {
   "cell_type": "markdown",
   "id": "d5ec4a60-9e95-4181-951f-137783f6cac0",
   "metadata": {
    "tags": []
   },
   "source": [
    "### Hybrid"
   ]
  },
  {
   "cell_type": "code",
   "execution_count": null,
   "id": "e0175963-cd6e-4720-99cd-fee2da1dc54b",
   "metadata": {},
   "outputs": [],
   "source": [
    "order_analysis(2, unique_df.drop('Adrian', axis=0, level='Name'), time_unique_df.drop('Adrian', axis=0, level='Name'), keeplist3, 8, 'Number of unique values')\n",
    "plt.savefig('output/hybrid_order_unique.png')"
   ]
  },
  {
   "cell_type": "markdown",
   "id": "fd90d292-7e9c-4eea-bb49-97df92148738",
   "metadata": {
    "tags": []
   },
   "source": [
    "### Plugin"
   ]
  },
  {
   "cell_type": "code",
   "execution_count": null,
   "id": "7d860528-16a9-48af-9367-38edb0d16bd6",
   "metadata": {
    "tags": []
   },
   "outputs": [],
   "source": [
    "order_analysis(3, unique_df, time_unique_df, keeplist3, 3, 'Number of unique values')\n",
    "plt.savefig('output/plugin_order_unique.png')"
   ]
  },
  {
   "cell_type": "code",
   "execution_count": null,
   "id": "04325d1a-4aef-493c-ae69-91d5caaef019",
   "metadata": {
    "pycharm": {
     "name": "#%%\n"
    }
   },
   "outputs": [],
   "source": [
    "phase_df.round(decimals=2)"
   ]
  }
 ],
 "metadata": {
  "kernelspec": {
   "display_name": "Python 3 (ipykernel)",
   "language": "python",
   "name": "python3"
  },
  "language_info": {
   "codemirror_mode": {
    "name": "ipython",
    "version": 3
   },
   "file_extension": ".py",
   "mimetype": "text/x-python",
   "name": "python",
   "nbconvert_exporter": "python",
   "pygments_lexer": "ipython3",
   "version": "3.9.7"
  }
 },
 "nbformat": 4,
 "nbformat_minor": 5
}